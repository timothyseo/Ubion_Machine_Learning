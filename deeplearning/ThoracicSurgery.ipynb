{
 "cells": [
  {
   "cell_type": "code",
   "execution_count": 4,
   "id": "525ac655",
   "metadata": {
    "ExecuteTime": {
     "end_time": "2023-02-21T01:16:07.214370Z",
     "start_time": "2023-02-21T01:16:07.206522Z"
    }
   },
   "outputs": [],
   "source": [
    "import pandas as pd\n",
    "\n",
    "df = pd.read_csv('./datasets/ThoraricSurgery.csv', header=None)"
   ]
  },
  {
   "cell_type": "code",
   "execution_count": 5,
   "id": "246d266c",
   "metadata": {
    "ExecuteTime": {
     "end_time": "2023-02-21T01:16:09.569615Z",
     "start_time": "2023-02-21T01:16:09.557636Z"
    }
   },
   "outputs": [
    {
     "data": {
      "text/html": [
       "<div>\n",
       "<style scoped>\n",
       "    .dataframe tbody tr th:only-of-type {\n",
       "        vertical-align: middle;\n",
       "    }\n",
       "\n",
       "    .dataframe tbody tr th {\n",
       "        vertical-align: top;\n",
       "    }\n",
       "\n",
       "    .dataframe thead th {\n",
       "        text-align: right;\n",
       "    }\n",
       "</style>\n",
       "<table border=\"1\" class=\"dataframe\">\n",
       "  <thead>\n",
       "    <tr style=\"text-align: right;\">\n",
       "      <th></th>\n",
       "      <th>0</th>\n",
       "      <th>1</th>\n",
       "      <th>2</th>\n",
       "      <th>3</th>\n",
       "      <th>4</th>\n",
       "      <th>5</th>\n",
       "      <th>6</th>\n",
       "      <th>7</th>\n",
       "      <th>8</th>\n",
       "      <th>9</th>\n",
       "      <th>10</th>\n",
       "      <th>11</th>\n",
       "      <th>12</th>\n",
       "      <th>13</th>\n",
       "      <th>14</th>\n",
       "      <th>15</th>\n",
       "      <th>16</th>\n",
       "      <th>17</th>\n",
       "    </tr>\n",
       "  </thead>\n",
       "  <tbody>\n",
       "    <tr>\n",
       "      <th>0</th>\n",
       "      <td>293</td>\n",
       "      <td>1</td>\n",
       "      <td>3.80</td>\n",
       "      <td>2.80</td>\n",
       "      <td>0</td>\n",
       "      <td>0</td>\n",
       "      <td>0</td>\n",
       "      <td>0</td>\n",
       "      <td>0</td>\n",
       "      <td>0</td>\n",
       "      <td>12</td>\n",
       "      <td>0</td>\n",
       "      <td>0</td>\n",
       "      <td>0</td>\n",
       "      <td>1</td>\n",
       "      <td>0</td>\n",
       "      <td>62</td>\n",
       "      <td>0</td>\n",
       "    </tr>\n",
       "    <tr>\n",
       "      <th>1</th>\n",
       "      <td>1</td>\n",
       "      <td>2</td>\n",
       "      <td>2.88</td>\n",
       "      <td>2.16</td>\n",
       "      <td>1</td>\n",
       "      <td>0</td>\n",
       "      <td>0</td>\n",
       "      <td>0</td>\n",
       "      <td>1</td>\n",
       "      <td>1</td>\n",
       "      <td>14</td>\n",
       "      <td>0</td>\n",
       "      <td>0</td>\n",
       "      <td>0</td>\n",
       "      <td>1</td>\n",
       "      <td>0</td>\n",
       "      <td>60</td>\n",
       "      <td>0</td>\n",
       "    </tr>\n",
       "    <tr>\n",
       "      <th>2</th>\n",
       "      <td>8</td>\n",
       "      <td>2</td>\n",
       "      <td>3.19</td>\n",
       "      <td>2.50</td>\n",
       "      <td>1</td>\n",
       "      <td>0</td>\n",
       "      <td>0</td>\n",
       "      <td>0</td>\n",
       "      <td>1</td>\n",
       "      <td>0</td>\n",
       "      <td>11</td>\n",
       "      <td>0</td>\n",
       "      <td>0</td>\n",
       "      <td>1</td>\n",
       "      <td>1</td>\n",
       "      <td>0</td>\n",
       "      <td>66</td>\n",
       "      <td>1</td>\n",
       "    </tr>\n",
       "    <tr>\n",
       "      <th>3</th>\n",
       "      <td>14</td>\n",
       "      <td>2</td>\n",
       "      <td>3.98</td>\n",
       "      <td>3.06</td>\n",
       "      <td>2</td>\n",
       "      <td>0</td>\n",
       "      <td>0</td>\n",
       "      <td>0</td>\n",
       "      <td>1</td>\n",
       "      <td>1</td>\n",
       "      <td>14</td>\n",
       "      <td>0</td>\n",
       "      <td>0</td>\n",
       "      <td>0</td>\n",
       "      <td>1</td>\n",
       "      <td>0</td>\n",
       "      <td>80</td>\n",
       "      <td>1</td>\n",
       "    </tr>\n",
       "    <tr>\n",
       "      <th>4</th>\n",
       "      <td>17</td>\n",
       "      <td>2</td>\n",
       "      <td>2.21</td>\n",
       "      <td>1.88</td>\n",
       "      <td>0</td>\n",
       "      <td>0</td>\n",
       "      <td>1</td>\n",
       "      <td>0</td>\n",
       "      <td>0</td>\n",
       "      <td>0</td>\n",
       "      <td>12</td>\n",
       "      <td>0</td>\n",
       "      <td>0</td>\n",
       "      <td>0</td>\n",
       "      <td>1</td>\n",
       "      <td>0</td>\n",
       "      <td>56</td>\n",
       "      <td>0</td>\n",
       "    </tr>\n",
       "  </tbody>\n",
       "</table>\n",
       "</div>"
      ],
      "text/plain": [
       "    0   1     2     3   4   5   6   7   8   9   10  11  12  13  14  15  16  17\n",
       "0  293   1  3.80  2.80   0   0   0   0   0   0  12   0   0   0   1   0  62   0\n",
       "1    1   2  2.88  2.16   1   0   0   0   1   1  14   0   0   0   1   0  60   0\n",
       "2    8   2  3.19  2.50   1   0   0   0   1   0  11   0   0   1   1   0  66   1\n",
       "3   14   2  3.98  3.06   2   0   0   0   1   1  14   0   0   0   1   0  80   1\n",
       "4   17   2  2.21  1.88   0   0   1   0   0   0  12   0   0   0   1   0  56   0"
      ]
     },
     "execution_count": 5,
     "metadata": {},
     "output_type": "execute_result"
    }
   ],
   "source": [
    "df.head()"
   ]
  },
  {
   "cell_type": "code",
   "execution_count": 6,
   "id": "28a70c36",
   "metadata": {
    "ExecuteTime": {
     "end_time": "2023-02-21T01:16:48.362850Z",
     "start_time": "2023-02-21T01:16:48.144729Z"
    }
   },
   "outputs": [
    {
     "data": {
      "text/html": [
       "<div>\n",
       "<style scoped>\n",
       "    .dataframe tbody tr th:only-of-type {\n",
       "        vertical-align: middle;\n",
       "    }\n",
       "\n",
       "    .dataframe tbody tr th {\n",
       "        vertical-align: top;\n",
       "    }\n",
       "\n",
       "    .dataframe thead th {\n",
       "        text-align: right;\n",
       "    }\n",
       "</style>\n",
       "<table border=\"1\" class=\"dataframe\">\n",
       "  <thead>\n",
       "    <tr style=\"text-align: right;\">\n",
       "      <th></th>\n",
       "      <th>0</th>\n",
       "      <th>1</th>\n",
       "      <th>2</th>\n",
       "      <th>3</th>\n",
       "      <th>4</th>\n",
       "      <th>5</th>\n",
       "      <th>6</th>\n",
       "      <th>7</th>\n",
       "      <th>8</th>\n",
       "      <th>9</th>\n",
       "      <th>10</th>\n",
       "      <th>11</th>\n",
       "      <th>12</th>\n",
       "      <th>13</th>\n",
       "      <th>14</th>\n",
       "      <th>15</th>\n",
       "      <th>16</th>\n",
       "      <th>17</th>\n",
       "    </tr>\n",
       "  </thead>\n",
       "  <tbody>\n",
       "    <tr>\n",
       "      <th>count</th>\n",
       "      <td>470.000000</td>\n",
       "      <td>470.000000</td>\n",
       "      <td>470.000000</td>\n",
       "      <td>470.000000</td>\n",
       "      <td>470.000000</td>\n",
       "      <td>470.000000</td>\n",
       "      <td>470.000000</td>\n",
       "      <td>470.000000</td>\n",
       "      <td>470.000000</td>\n",
       "      <td>470.000000</td>\n",
       "      <td>470.000000</td>\n",
       "      <td>470.000000</td>\n",
       "      <td>470.000000</td>\n",
       "      <td>470.000000</td>\n",
       "      <td>470.000000</td>\n",
       "      <td>470.000000</td>\n",
       "      <td>470.000000</td>\n",
       "      <td>470.000000</td>\n",
       "    </tr>\n",
       "    <tr>\n",
       "      <th>mean</th>\n",
       "      <td>235.500000</td>\n",
       "      <td>3.095745</td>\n",
       "      <td>3.281638</td>\n",
       "      <td>4.568702</td>\n",
       "      <td>0.780851</td>\n",
       "      <td>0.065957</td>\n",
       "      <td>0.144681</td>\n",
       "      <td>0.065957</td>\n",
       "      <td>0.687234</td>\n",
       "      <td>0.165957</td>\n",
       "      <td>11.736170</td>\n",
       "      <td>0.074468</td>\n",
       "      <td>0.004255</td>\n",
       "      <td>0.017021</td>\n",
       "      <td>0.821277</td>\n",
       "      <td>0.004255</td>\n",
       "      <td>62.534043</td>\n",
       "      <td>0.148936</td>\n",
       "    </tr>\n",
       "    <tr>\n",
       "      <th>std</th>\n",
       "      <td>135.821574</td>\n",
       "      <td>0.722309</td>\n",
       "      <td>0.871395</td>\n",
       "      <td>11.767857</td>\n",
       "      <td>0.535375</td>\n",
       "      <td>0.248472</td>\n",
       "      <td>0.352154</td>\n",
       "      <td>0.248472</td>\n",
       "      <td>0.464114</td>\n",
       "      <td>0.372439</td>\n",
       "      <td>0.702243</td>\n",
       "      <td>0.262811</td>\n",
       "      <td>0.065163</td>\n",
       "      <td>0.129488</td>\n",
       "      <td>0.383529</td>\n",
       "      <td>0.065163</td>\n",
       "      <td>8.706902</td>\n",
       "      <td>0.356405</td>\n",
       "    </tr>\n",
       "    <tr>\n",
       "      <th>min</th>\n",
       "      <td>1.000000</td>\n",
       "      <td>1.000000</td>\n",
       "      <td>1.440000</td>\n",
       "      <td>0.960000</td>\n",
       "      <td>0.000000</td>\n",
       "      <td>0.000000</td>\n",
       "      <td>0.000000</td>\n",
       "      <td>0.000000</td>\n",
       "      <td>0.000000</td>\n",
       "      <td>0.000000</td>\n",
       "      <td>11.000000</td>\n",
       "      <td>0.000000</td>\n",
       "      <td>0.000000</td>\n",
       "      <td>0.000000</td>\n",
       "      <td>0.000000</td>\n",
       "      <td>0.000000</td>\n",
       "      <td>21.000000</td>\n",
       "      <td>0.000000</td>\n",
       "    </tr>\n",
       "    <tr>\n",
       "      <th>25%</th>\n",
       "      <td>118.250000</td>\n",
       "      <td>3.000000</td>\n",
       "      <td>2.600000</td>\n",
       "      <td>1.960000</td>\n",
       "      <td>0.000000</td>\n",
       "      <td>0.000000</td>\n",
       "      <td>0.000000</td>\n",
       "      <td>0.000000</td>\n",
       "      <td>0.000000</td>\n",
       "      <td>0.000000</td>\n",
       "      <td>11.000000</td>\n",
       "      <td>0.000000</td>\n",
       "      <td>0.000000</td>\n",
       "      <td>0.000000</td>\n",
       "      <td>1.000000</td>\n",
       "      <td>0.000000</td>\n",
       "      <td>57.000000</td>\n",
       "      <td>0.000000</td>\n",
       "    </tr>\n",
       "    <tr>\n",
       "      <th>50%</th>\n",
       "      <td>235.500000</td>\n",
       "      <td>3.000000</td>\n",
       "      <td>3.160000</td>\n",
       "      <td>2.400000</td>\n",
       "      <td>1.000000</td>\n",
       "      <td>0.000000</td>\n",
       "      <td>0.000000</td>\n",
       "      <td>0.000000</td>\n",
       "      <td>1.000000</td>\n",
       "      <td>0.000000</td>\n",
       "      <td>12.000000</td>\n",
       "      <td>0.000000</td>\n",
       "      <td>0.000000</td>\n",
       "      <td>0.000000</td>\n",
       "      <td>1.000000</td>\n",
       "      <td>0.000000</td>\n",
       "      <td>62.000000</td>\n",
       "      <td>0.000000</td>\n",
       "    </tr>\n",
       "    <tr>\n",
       "      <th>75%</th>\n",
       "      <td>352.750000</td>\n",
       "      <td>3.000000</td>\n",
       "      <td>3.807500</td>\n",
       "      <td>3.080000</td>\n",
       "      <td>1.000000</td>\n",
       "      <td>0.000000</td>\n",
       "      <td>0.000000</td>\n",
       "      <td>0.000000</td>\n",
       "      <td>1.000000</td>\n",
       "      <td>0.000000</td>\n",
       "      <td>12.000000</td>\n",
       "      <td>0.000000</td>\n",
       "      <td>0.000000</td>\n",
       "      <td>0.000000</td>\n",
       "      <td>1.000000</td>\n",
       "      <td>0.000000</td>\n",
       "      <td>69.000000</td>\n",
       "      <td>0.000000</td>\n",
       "    </tr>\n",
       "    <tr>\n",
       "      <th>max</th>\n",
       "      <td>470.000000</td>\n",
       "      <td>8.000000</td>\n",
       "      <td>6.300000</td>\n",
       "      <td>86.300000</td>\n",
       "      <td>2.000000</td>\n",
       "      <td>1.000000</td>\n",
       "      <td>1.000000</td>\n",
       "      <td>1.000000</td>\n",
       "      <td>1.000000</td>\n",
       "      <td>1.000000</td>\n",
       "      <td>14.000000</td>\n",
       "      <td>1.000000</td>\n",
       "      <td>1.000000</td>\n",
       "      <td>1.000000</td>\n",
       "      <td>1.000000</td>\n",
       "      <td>1.000000</td>\n",
       "      <td>87.000000</td>\n",
       "      <td>1.000000</td>\n",
       "    </tr>\n",
       "  </tbody>\n",
       "</table>\n",
       "</div>"
      ],
      "text/plain": [
       "               0           1           2           3           4           5   \\\n",
       "count  470.000000  470.000000  470.000000  470.000000  470.000000  470.000000   \n",
       "mean   235.500000    3.095745    3.281638    4.568702    0.780851    0.065957   \n",
       "std    135.821574    0.722309    0.871395   11.767857    0.535375    0.248472   \n",
       "min      1.000000    1.000000    1.440000    0.960000    0.000000    0.000000   \n",
       "25%    118.250000    3.000000    2.600000    1.960000    0.000000    0.000000   \n",
       "50%    235.500000    3.000000    3.160000    2.400000    1.000000    0.000000   \n",
       "75%    352.750000    3.000000    3.807500    3.080000    1.000000    0.000000   \n",
       "max    470.000000    8.000000    6.300000   86.300000    2.000000    1.000000   \n",
       "\n",
       "               6           7           8           9           10          11  \\\n",
       "count  470.000000  470.000000  470.000000  470.000000  470.000000  470.000000   \n",
       "mean     0.144681    0.065957    0.687234    0.165957   11.736170    0.074468   \n",
       "std      0.352154    0.248472    0.464114    0.372439    0.702243    0.262811   \n",
       "min      0.000000    0.000000    0.000000    0.000000   11.000000    0.000000   \n",
       "25%      0.000000    0.000000    0.000000    0.000000   11.000000    0.000000   \n",
       "50%      0.000000    0.000000    1.000000    0.000000   12.000000    0.000000   \n",
       "75%      0.000000    0.000000    1.000000    0.000000   12.000000    0.000000   \n",
       "max      1.000000    1.000000    1.000000    1.000000   14.000000    1.000000   \n",
       "\n",
       "               12          13          14          15          16          17  \n",
       "count  470.000000  470.000000  470.000000  470.000000  470.000000  470.000000  \n",
       "mean     0.004255    0.017021    0.821277    0.004255   62.534043    0.148936  \n",
       "std      0.065163    0.129488    0.383529    0.065163    8.706902    0.356405  \n",
       "min      0.000000    0.000000    0.000000    0.000000   21.000000    0.000000  \n",
       "25%      0.000000    0.000000    1.000000    0.000000   57.000000    0.000000  \n",
       "50%      0.000000    0.000000    1.000000    0.000000   62.000000    0.000000  \n",
       "75%      0.000000    0.000000    1.000000    0.000000   69.000000    0.000000  \n",
       "max      1.000000    1.000000    1.000000    1.000000   87.000000    1.000000  "
      ]
     },
     "execution_count": 6,
     "metadata": {},
     "output_type": "execute_result"
    }
   ],
   "source": [
    "df.describe()"
   ]
  },
  {
   "cell_type": "code",
   "execution_count": 14,
   "id": "d6d59a6d",
   "metadata": {
    "ExecuteTime": {
     "end_time": "2023-02-21T01:21:09.353828Z",
     "start_time": "2023-02-21T01:21:09.341614Z"
    }
   },
   "outputs": [
    {
     "data": {
      "text/plain": [
       "0    400\n",
       "1     70\n",
       "Name: 17, dtype: int64"
      ]
     },
     "execution_count": 14,
     "metadata": {},
     "output_type": "execute_result"
    }
   ],
   "source": [
    "df[17].value_counts()"
   ]
  },
  {
   "cell_type": "code",
   "execution_count": 20,
   "id": "8827205c",
   "metadata": {
    "ExecuteTime": {
     "end_time": "2023-02-21T01:45:10.852729Z",
     "start_time": "2023-02-21T01:45:10.841828Z"
    }
   },
   "outputs": [
    {
     "data": {
      "text/plain": [
       "(376, 94)"
      ]
     },
     "execution_count": 20,
     "metadata": {},
     "output_type": "execute_result"
    }
   ],
   "source": [
    "# train_test_split \n",
    "\n",
    "from sklearn.model_selection import train_test_split\n",
    "\n",
    "x = df.drop([17], axis=1)\n",
    "y = df[17]\n",
    "\n",
    "x_train, x_test, y_train, y_test = train_test_split(x, y, test_size=0.2, random_state=120, stratify=y)\n",
    "\n",
    "len(x_train), len(x_test)"
   ]
  },
  {
   "cell_type": "code",
   "execution_count": 21,
   "id": "382cd621",
   "metadata": {
    "ExecuteTime": {
     "end_time": "2023-02-21T01:45:13.158925Z",
     "start_time": "2023-02-21T01:45:13.141633Z"
    }
   },
   "outputs": [],
   "source": [
    "# 정규화 StandardScaler\n",
    "\n",
    "from sklearn.preprocessing import StandardScaler\n",
    "\n",
    "x_scaled_train = StandardScaler().fit_transform(x_train)\n",
    "x_scaled_test = StandardScaler().fit_transform(x_test)"
   ]
  },
  {
   "cell_type": "code",
   "execution_count": null,
   "id": "ebb1e3a0",
   "metadata": {},
   "outputs": [],
   "source": [
    "# 모델 설계\n",
    "\n",
    "# 입력층 노드 : 30개, 입력층 활성화 함수 : sigmoid, 출력층 노드 : 1개, 출력층 함수 : sigmoid \n",
    "# loss : binary crossentropy, optimizer : adam , epochs : 100, batch_size=10\n",
    "# Dense(30, input_dim=17)"
   ]
  },
  {
   "cell_type": "markdown",
   "id": "d4c68d9e",
   "metadata": {},
   "source": [
    "## Dense\n",
    "* tf.keras.layers.Dense(\n",
    "    units,\n",
    "    activation=None,\n",
    "    use_bias=True,\n",
    "    kernel_initializer='glorot_uniform',\n",
    "    bias_initializer='zeros',\n",
    "    kernel_regularizer=None,\n",
    "    bias_regularizer=None,\n",
    "    activity_regularizer=None,\n",
    "    kernel_constraint=None,\n",
    "    bias_constraint=None,\n",
    "    **kwargs\n",
    ")"
   ]
  },
  {
   "cell_type": "markdown",
   "id": "a377c458",
   "metadata": {},
   "source": [
    "## Sequential\n",
    "* tf.keras.Sequential(\n",
    "    layers=None, name=None\n",
    ")\n",
    "\n",
    "## compile\n",
    "* compile(\n",
    "    optimizer='rmsprop',\n",
    "    loss=None,\n",
    "    metrics=None,\n",
    "    loss_weights=None,\n",
    "    weighted_metrics=None,\n",
    "    run_eagerly=None,\n",
    "    steps_per_execution=None,\n",
    "    jit_compile=None,\n",
    "    **kwargs\n",
    ")"
   ]
  },
  {
   "cell_type": "code",
   "execution_count": 54,
   "id": "b389eda3",
   "metadata": {
    "ExecuteTime": {
     "end_time": "2023-02-21T02:17:58.530191Z",
     "start_time": "2023-02-21T02:17:56.126072Z"
    }
   },
   "outputs": [
    {
     "name": "stdout",
     "output_type": "stream",
     "text": [
      "Epoch 1/20\n",
      "30/30 [==============================] - 1s 6ms/step - loss: 0.6136 - accuracy: 0.7600 - val_loss: 0.5217 - val_accuracy: 0.8947\n",
      "Epoch 2/20\n",
      "30/30 [==============================] - 0s 3ms/step - loss: 0.5187 - accuracy: 0.8333 - val_loss: 0.4275 - val_accuracy: 0.9079\n",
      "Epoch 3/20\n",
      "30/30 [==============================] - 0s 3ms/step - loss: 0.4721 - accuracy: 0.8367 - val_loss: 0.3832 - val_accuracy: 0.9079\n",
      "Epoch 4/20\n",
      "30/30 [==============================] - 0s 3ms/step - loss: 0.4510 - accuracy: 0.8367 - val_loss: 0.3539 - val_accuracy: 0.9079\n",
      "Epoch 5/20\n",
      "30/30 [==============================] - 0s 3ms/step - loss: 0.4394 - accuracy: 0.8367 - val_loss: 0.3384 - val_accuracy: 0.9079\n",
      "Epoch 6/20\n",
      "30/30 [==============================] - 0s 3ms/step - loss: 0.4325 - accuracy: 0.8367 - val_loss: 0.3280 - val_accuracy: 0.9079\n",
      "Epoch 7/20\n",
      "30/30 [==============================] - 0s 3ms/step - loss: 0.4266 - accuracy: 0.8367 - val_loss: 0.3212 - val_accuracy: 0.9079\n",
      "Epoch 8/20\n",
      "30/30 [==============================] - 0s 3ms/step - loss: 0.4221 - accuracy: 0.8367 - val_loss: 0.3190 - val_accuracy: 0.9079\n",
      "Epoch 9/20\n",
      "30/30 [==============================] - 0s 3ms/step - loss: 0.4175 - accuracy: 0.8367 - val_loss: 0.3126 - val_accuracy: 0.9079\n",
      "Epoch 10/20\n",
      "30/30 [==============================] - 0s 3ms/step - loss: 0.4141 - accuracy: 0.8367 - val_loss: 0.3101 - val_accuracy: 0.9079\n",
      "Epoch 11/20\n",
      "30/30 [==============================] - 0s 3ms/step - loss: 0.4100 - accuracy: 0.8367 - val_loss: 0.3105 - val_accuracy: 0.9079\n",
      "Epoch 12/20\n",
      "30/30 [==============================] - 0s 3ms/step - loss: 0.4072 - accuracy: 0.8367 - val_loss: 0.3087 - val_accuracy: 0.9079\n",
      "Epoch 13/20\n",
      "30/30 [==============================] - 0s 3ms/step - loss: 0.4034 - accuracy: 0.8367 - val_loss: 0.3057 - val_accuracy: 0.9079\n",
      "Epoch 14/20\n",
      "30/30 [==============================] - 0s 3ms/step - loss: 0.4004 - accuracy: 0.8367 - val_loss: 0.3038 - val_accuracy: 0.9079\n",
      "Epoch 15/20\n",
      "30/30 [==============================] - 0s 3ms/step - loss: 0.3978 - accuracy: 0.8367 - val_loss: 0.3032 - val_accuracy: 0.9079\n",
      "Epoch 16/20\n",
      "30/30 [==============================] - 0s 3ms/step - loss: 0.3955 - accuracy: 0.8367 - val_loss: 0.3013 - val_accuracy: 0.9079\n",
      "Epoch 17/20\n",
      "30/30 [==============================] - 0s 3ms/step - loss: 0.3930 - accuracy: 0.8367 - val_loss: 0.3035 - val_accuracy: 0.9079\n",
      "Epoch 18/20\n",
      "30/30 [==============================] - 0s 3ms/step - loss: 0.3915 - accuracy: 0.8367 - val_loss: 0.3046 - val_accuracy: 0.9079\n",
      "Epoch 19/20\n",
      "30/30 [==============================] - 0s 3ms/step - loss: 0.3888 - accuracy: 0.8333 - val_loss: 0.3006 - val_accuracy: 0.9079\n",
      "Epoch 20/20\n",
      "30/30 [==============================] - 0s 3ms/step - loss: 0.3869 - accuracy: 0.8333 - val_loss: 0.3016 - val_accuracy: 0.9079\n",
      "테스트 손실값: 0.44396811723709106\n",
      "테스트 정확도: 0.8510638475418091\n"
     ]
    }
   ],
   "source": [
    "from tensorflow.keras.models import Sequential\n",
    "from tensorflow.keras.layers import Dense\n",
    "\n",
    "import tensorflow as tf\n",
    "import numpy as np\n",
    "\n",
    "np.random.seed(3)\n",
    "tf.random.set_seed(3)\n",
    "\n",
    "model = Sequential()\n",
    "model.add(Dense(30, input_dim=17, activation='sigmoid'))\n",
    "model.add(Dense(1, activation='sigmoid'))\n",
    "\n",
    "model.compile(loss='binary_crossentropy', optimizer='adam', metrics=['accuracy'])\n",
    "history = model.fit(x_scaled_train, y_train, epochs=20, validation_split=0.2, batch_size=10)\n",
    "\n",
    "score = model.evaluate(x_scaled_test, y_test, verbose=0)\n",
    "print('테스트 손실값:', score[0])\n",
    "print('테스트 정확도:', score[1])"
   ]
  },
  {
   "cell_type": "code",
   "execution_count": 55,
   "id": "11c01c9e",
   "metadata": {
    "ExecuteTime": {
     "end_time": "2023-02-21T02:18:01.056137Z",
     "start_time": "2023-02-21T02:18:01.050643Z"
    }
   },
   "outputs": [],
   "source": [
    "results = history.history"
   ]
  },
  {
   "cell_type": "code",
   "execution_count": 56,
   "id": "0f574b03",
   "metadata": {
    "ExecuteTime": {
     "end_time": "2023-02-21T02:18:01.443309Z",
     "start_time": "2023-02-21T02:18:01.433877Z"
    }
   },
   "outputs": [
    {
     "data": {
      "text/plain": [
       "0.5216676592826843"
      ]
     },
     "execution_count": 56,
     "metadata": {},
     "output_type": "execute_result"
    }
   ],
   "source": [
    "results['val_loss'][0]"
   ]
  },
  {
   "cell_type": "code",
   "execution_count": 57,
   "id": "384f8fc0",
   "metadata": {
    "ExecuteTime": {
     "end_time": "2023-02-21T02:18:02.163263Z",
     "start_time": "2023-02-21T02:18:02.157660Z"
    }
   },
   "outputs": [
    {
     "data": {
      "text/plain": [
       "0.8947368264198303"
      ]
     },
     "execution_count": 57,
     "metadata": {},
     "output_type": "execute_result"
    }
   ],
   "source": [
    "results['val_accuracy'][0]"
   ]
  },
  {
   "cell_type": "code",
   "execution_count": 58,
   "id": "994de5ba",
   "metadata": {
    "ExecuteTime": {
     "end_time": "2023-02-21T02:18:04.858454Z",
     "start_time": "2023-02-21T02:18:04.749634Z"
    }
   },
   "outputs": [
    {
     "data": {
      "image/png": "[encoded data removed]",
      "text/plain": [
       "<Figure size 640x480 with 1 Axes>"
      ]
     },
     "metadata": {},
     "output_type": "display_data"
    }
   ],
   "source": [
    "# matplotlib.pyplot 을 활용해서 그래프 그리기\n",
    "\n",
    "import matplotlib.pyplot as plt\n",
    "\n",
    "loss = results['val_loss']\n",
    "accuracy = results['val_accuracy']\n",
    "\n",
    "plt.plot(loss, label='val_loss')\n",
    "plt.plot(accuracy, label='val_accuracy')\n",
    "plt.legend()\n",
    "plt.show()"
   ]
  },
  {
   "cell_type": "code",
   "execution_count": null,
   "id": "dc97fd02",
   "metadata": {},
   "outputs": [],
   "source": []
  }
 ],
 "metadata": {
  "kernelspec": {
   "display_name": "Python 3 (ipykernel)",
   "language": "python",
   "name": "python3"
  },
  "language_info": {
   "codemirror_mode": {
    "name": "ipython",
    "version": 3
   },
   "file_extension": ".py",
   "mimetype": "text/x-python",
   "name": "python",
   "nbconvert_exporter": "python",
   "pygments_lexer": "ipython3",
   "version": "3.11.1"
  },
  "toc": {
   "base_numbering": 1,
   "nav_menu": {},
   "number_sections": true,
   "sideBar": true,
   "skip_h1_title": false,
   "title_cell": "Table of Contents",
   "title_sidebar": "Contents",
   "toc_cell": false,
   "toc_position": {},
   "toc_section_display": true,
   "toc_window_display": false
  },
  "varInspector": {
   "cols": {
    "lenName": 16,
    "lenType": 16,
    "lenVar": 40
   },
   "kernels_config": {
    "python": {
     "delete_cmd_postfix": "",
     "delete_cmd_prefix": "del ",
     "library": "var_list.py",
     "varRefreshCmd": "print(var_dic_list())"
    },
    "r": {
     "delete_cmd_postfix": ") ",
     "delete_cmd_prefix": "rm(",
     "library": "var_list.r",
     "varRefreshCmd": "cat(var_dic_list()) "
    }
   },
   "types_to_exclude": [
    "module",
    "function",
    "builtin_function_or_method",
    "instance",
    "_Feature"
   ],
   "window_display": false
  }
 },
 "nbformat": 4,
 "nbformat_minor": 5
}
