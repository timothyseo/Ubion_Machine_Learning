{
 "cells": [
  {
   "cell_type": "markdown",
   "id": "029475a3",
   "metadata": {},
   "source": [
    "### 텐서플로우의 패션 데이터 이용하여 CNN 실행하기"
   ]
  },
  {
   "cell_type": "code",
   "execution_count": 9,
   "id": "62d05f05",
   "metadata": {
    "ExecuteTime": {
     "end_time": "2023-02-28T01:48:58.065379Z",
     "start_time": "2023-02-28T01:41:10.749081Z"
    }
   },
   "outputs": [
    {
     "name": "stdout",
     "output_type": "stream",
     "text": [
      "\n",
      "Epoch 1: val_loss improved from inf to 0.44999, saving model to ./model\\01-0.4500.hdf5\n",
      "\n",
      "Epoch 2: val_loss improved from 0.44999 to 0.37842, saving model to ./model\\02-0.3784.hdf5\n",
      "\n",
      "Epoch 3: val_loss improved from 0.37842 to 0.34288, saving model to ./model\\03-0.3429.hdf5\n",
      "\n",
      "Epoch 4: val_loss improved from 0.34288 to 0.31610, saving model to ./model\\04-0.3161.hdf5\n",
      "\n",
      "Epoch 5: val_loss improved from 0.31610 to 0.31178, saving model to ./model\\05-0.3118.hdf5\n",
      "\n",
      "Epoch 6: val_loss improved from 0.31178 to 0.28788, saving model to ./model\\06-0.2879.hdf5\n",
      "\n",
      "Epoch 7: val_loss improved from 0.28788 to 0.28587, saving model to ./model\\07-0.2859.hdf5\n",
      "\n",
      "Epoch 8: val_loss improved from 0.28587 to 0.27564, saving model to ./model\\08-0.2756.hdf5\n",
      "\n",
      "Epoch 9: val_loss improved from 0.27564 to 0.26185, saving model to ./model\\09-0.2618.hdf5\n",
      "\n",
      "Epoch 10: val_loss did not improve from 0.26185\n",
      "\n",
      "Epoch 11: val_loss improved from 0.26185 to 0.25505, saving model to ./model\\11-0.2551.hdf5\n",
      "\n",
      "Epoch 12: val_loss improved from 0.25505 to 0.24849, saving model to ./model\\12-0.2485.hdf5\n",
      "\n",
      "Epoch 13: val_loss improved from 0.24849 to 0.24662, saving model to ./model\\13-0.2466.hdf5\n",
      "\n",
      "Epoch 14: val_loss improved from 0.24662 to 0.24457, saving model to ./model\\14-0.2446.hdf5\n",
      "\n",
      "Epoch 15: val_loss did not improve from 0.24457\n",
      "\n",
      "Epoch 16: val_loss improved from 0.24457 to 0.24333, saving model to ./model\\16-0.2433.hdf5\n",
      "\n",
      "Epoch 17: val_loss improved from 0.24333 to 0.24117, saving model to ./model\\17-0.2412.hdf5\n",
      "\n",
      "Epoch 18: val_loss improved from 0.24117 to 0.23551, saving model to ./model\\18-0.2355.hdf5\n",
      "\n",
      "Epoch 19: val_loss improved from 0.23551 to 0.23090, saving model to ./model\\19-0.2309.hdf5\n",
      "\n",
      "Epoch 20: val_loss did not improve from 0.23090\n",
      "\n",
      "Epoch 21: val_loss did not improve from 0.23090\n",
      "313/313 [==============================] - 2s 4ms/step - loss: 0.2317 - accuracy: 0.9156\n",
      "0.9156000018119812\n"
     ]
    }
   ],
   "source": [
    "from keras.datasets import mnist\n",
    "from tensorflow import keras\n",
    "from keras.models import Sequential\n",
    "from keras.layers import Dense, Dropout, Flatten, Conv2D, MaxPooling2D\n",
    "from keras.callbacks import ModelCheckpoint, EarlyStopping\n",
    "from tensorflow.keras import datasets\n",
    "from keras.utils import np_utils\n",
    "\n",
    "import matplotlib.pyplot as plt\n",
    "import numpy\n",
    "import os\n",
    "import tensorflow as tf\n",
    "\n",
    "# seed값 설정\n",
    "seed = 0\n",
    "numpy.random.seed(seed)\n",
    "tf.random.set_seed(3)\n",
    "\n",
    "# 데이터 불러오기 \n",
    "fashion_mnist = keras.datasets.fashion_mnist\n",
    "(X_train, y_train), (X_test, y_test) = fashion_mnist.load_data()\n",
    "\n",
    "# 데이터 정규화\n",
    "X_train = X_train.reshape((60000, 28, 28, 1)) / 255.0\n",
    "X_test = X_test.reshape((10000, 28, 28, 1)) / 255.0\n",
    "\n",
    "y_train = np_utils.to_categorical(y_train)\n",
    "y_test = np_utils.to_categorical(y_test)\n",
    "\n",
    "# 컨볼루션 신경망의 설정\n",
    "model = Sequential()\n",
    "model.add(Conv2D(32, kernel_size=(3, 3), input_shape=(28, 28, 1), activation='relu'))\n",
    "model.add(MaxPooling2D(pool_size=2))\n",
    "model.add(Conv2D(64, (3, 3), activation='relu'))\n",
    "model.add(MaxPooling2D(pool_size=2))\n",
    "model.add(Dropout(0.25))\n",
    "model.add(Flatten())\n",
    "model.add(Dense(128, activation='relu'))\n",
    "model.add(Dropout(0.5))\n",
    "model.add(Dense(10, activation='softmax'))\n",
    "\n",
    "model.compile(loss='categorical_crossentropy',\n",
    "             optimizer='adam',\n",
    "             metrics=['accuracy'])\n",
    "\n",
    "# 모델 저장, 모델 최적화 단계에서 학습 자동 중단 설정\n",
    "MODEL_DIR = './model/'\n",
    "if not os.path.exists(MODEL_DIR):\n",
    "    os.mkdir(MODEL_DIR)\n",
    "    \n",
    "modelpath='./model/{epoch:02d}-{val_loss:.4f}.hdf5'\n",
    "checkpointer = ModelCheckpoint(filepath=modelpath, monitor='val_loss', verbose=1,\n",
    "                              save_best_only=True)\n",
    "early_stopping_callback = EarlyStopping(monitor='val_loss', patience=2)\n",
    "\n",
    "# 모델의 실행\n",
    "model.fit(X_train, y_train, validation_data=(X_test, y_test),\n",
    "                   epochs=30, batch_size=200, verbose=0,\n",
    "                   callbacks=[early_stopping_callback, checkpointer])\n",
    "\n",
    "print(model.evaluate(X_test, y_test)[1])"
   ]
  },
  {
   "cell_type": "code",
   "execution_count": 6,
   "id": "4f5dabff",
   "metadata": {
    "ExecuteTime": {
     "end_time": "2023-02-28T01:29:33.633279Z",
     "start_time": "2023-02-28T01:29:33.081252Z"
    }
   },
   "outputs": [
    {
     "data": {
      "image/png": "[encoded data removed]",
      "text/plain": [
       "<Figure size 640x480 with 1 Axes>"
      ]
     },
     "metadata": {},
     "output_type": "display_data"
    }
   ],
   "source": [
    "plt.imshow(X_test[6])\n",
    "plt.show()"
   ]
  },
  {
   "cell_type": "code",
   "execution_count": null,
   "id": "21296348",
   "metadata": {},
   "outputs": [],
   "source": []
  }
 ],
 "metadata": {
  "kernelspec": {
   "display_name": "Python 3 (ipykernel)",
   "language": "python",
   "name": "python3"
  },
  "language_info": {
   "codemirror_mode": {
    "name": "ipython",
    "version": 3
   },
   "file_extension": ".py",
   "mimetype": "text/x-python",
   "name": "python",
   "nbconvert_exporter": "python",
   "pygments_lexer": "ipython3",
   "version": "3.11.1"
  },
  "toc": {
   "base_numbering": 1,
   "nav_menu": {},
   "number_sections": true,
   "sideBar": true,
   "skip_h1_title": false,
   "title_cell": "Table of Contents",
   "title_sidebar": "Contents",
   "toc_cell": false,
   "toc_position": {},
   "toc_section_display": true,
   "toc_window_display": false
  },
  "varInspector": {
   "cols": {
    "lenName": 16,
    "lenType": 16,
    "lenVar": 40
   },
   "kernels_config": {
    "python": {
     "delete_cmd_postfix": "",
     "delete_cmd_prefix": "del ",
     "library": "var_list.py",
     "varRefreshCmd": "print(var_dic_list())"
    },
    "r": {
     "delete_cmd_postfix": ") ",
     "delete_cmd_prefix": "rm(",
     "library": "var_list.r",
     "varRefreshCmd": "cat(var_dic_list()) "
    }
   },
   "types_to_exclude": [
    "module",
    "function",
    "builtin_function_or_method",
    "instance",
    "_Feature"
   ],
   "window_display": false
  }
 },
 "nbformat": 4,
 "nbformat_minor": 5
}
