{
 "cells": [
  {
   "cell_type": "markdown",
   "id": "2db6fd89",
   "metadata": {},
   "source": [
    "## Convolution Neural Network with mnist"
   ]
  },
  {
   "cell_type": "code",
   "execution_count": 3,
   "id": "801da062",
   "metadata": {
    "ExecuteTime": {
     "end_time": "2023-02-27T00:30:42.575145Z",
     "start_time": "2023-02-27T00:30:42.170010Z"
    }
   },
   "outputs": [
    {
     "name": "stdout",
     "output_type": "stream",
     "text": [
      "학습셋 이미지 수: 60000 개\n",
      "테스트셋 이미지 수: 10000 개\n"
     ]
    }
   ],
   "source": [
    "from tensorflow.keras.datasets import mnist\n",
    "from keras.utils import np_utils\n",
    "\n",
    "import numpy\n",
    "import sys\n",
    "import tensorflow as tf\n",
    "\n",
    "# seed 값 설정\n",
    "seed = 0\n",
    "numpy.random.seed(seed)\n",
    "tf.random.set_seed(3)\n",
    "\n",
    "#mnist 데이터셋 불러오기\n",
    "(X_train, Y_class_train), (X_test, Y_class_test) = mnist.load_data()\n",
    "\n",
    "print('학습셋 이미지 수: %d 개' % (X_train.shape[0]))\n",
    "print('테스트셋 이미지 수: %d 개' % (X_test.shape[0]))"
   ]
  },
  {
   "cell_type": "code",
   "execution_count": 4,
   "id": "edd907b3",
   "metadata": {
    "ExecuteTime": {
     "end_time": "2023-02-27T00:30:49.545997Z",
     "start_time": "2023-02-27T00:30:46.538180Z"
    }
   },
   "outputs": [
    {
     "data": {
      "image/png": "[encoded data removed]",
      "text/plain": [
       "<Figure size 640x480 with 1 Axes>"
      ]
     },
     "metadata": {},
     "output_type": "display_data"
    }
   ],
   "source": [
    "# 그래프로 확인\n",
    "import matplotlib.pyplot as plt\n",
    "plt.imshow(X_train[0], cmap='Greys')\n",
    "plt.show()"
   ]
  },
  {
   "cell_type": "code",
   "execution_count": 5,
   "id": "5054a3ae",
   "metadata": {
    "ExecuteTime": {
     "end_time": "2023-02-27T00:31:40.719780Z",
     "start_time": "2023-02-27T00:31:40.712801Z"
    }
   },
   "outputs": [
    {
     "name": "stdout",
     "output_type": "stream",
     "text": [
      "0\t0\t0\t0\t0\t0\t0\t0\t0\t0\t0\t0\t0\t0\t0\t0\t0\t0\t0\t0\t0\t0\t0\t0\t0\t0\t0\t0\t\n",
      "0\t0\t0\t0\t0\t0\t0\t0\t0\t0\t0\t0\t0\t0\t0\t0\t0\t0\t0\t0\t0\t0\t0\t0\t0\t0\t0\t0\t\n",
      "0\t0\t0\t0\t0\t0\t0\t0\t0\t0\t0\t0\t0\t0\t0\t0\t0\t0\t0\t0\t0\t0\t0\t0\t0\t0\t0\t0\t\n",
      "0\t0\t0\t0\t0\t0\t0\t0\t0\t0\t0\t0\t0\t0\t0\t0\t0\t0\t0\t0\t0\t0\t0\t0\t0\t0\t0\t0\t\n",
      "0\t0\t0\t0\t0\t0\t0\t0\t0\t0\t0\t0\t0\t0\t0\t0\t0\t0\t0\t0\t0\t0\t0\t0\t0\t0\t0\t0\t\n",
      "0\t0\t0\t0\t0\t0\t0\t0\t0\t0\t0\t0\t3\t18\t18\t18\t126\t136\t175\t26\t166\t255\t247\t127\t0\t0\t0\t0\t\n",
      "0\t0\t0\t0\t0\t0\t0\t0\t30\t36\t94\t154\t170\t253\t253\t253\t253\t253\t225\t172\t253\t242\t195\t64\t0\t0\t0\t0\t\n",
      "0\t0\t0\t0\t0\t0\t0\t49\t238\t253\t253\t253\t253\t253\t253\t253\t253\t251\t93\t82\t82\t56\t39\t0\t0\t0\t0\t0\t\n",
      "0\t0\t0\t0\t0\t0\t0\t18\t219\t253\t253\t253\t253\t253\t198\t182\t247\t241\t0\t0\t0\t0\t0\t0\t0\t0\t0\t0\t\n",
      "0\t0\t0\t0\t0\t0\t0\t0\t80\t156\t107\t253\t253\t205\t11\t0\t43\t154\t0\t0\t0\t0\t0\t0\t0\t0\t0\t0\t\n",
      "0\t0\t0\t0\t0\t0\t0\t0\t0\t14\t1\t154\t253\t90\t0\t0\t0\t0\t0\t0\t0\t0\t0\t0\t0\t0\t0\t0\t\n",
      "0\t0\t0\t0\t0\t0\t0\t0\t0\t0\t0\t139\t253\t190\t2\t0\t0\t0\t0\t0\t0\t0\t0\t0\t0\t0\t0\t0\t\n",
      "0\t0\t0\t0\t0\t0\t0\t0\t0\t0\t0\t11\t190\t253\t70\t0\t0\t0\t0\t0\t0\t0\t0\t0\t0\t0\t0\t0\t\n",
      "0\t0\t0\t0\t0\t0\t0\t0\t0\t0\t0\t0\t35\t241\t225\t160\t108\t1\t0\t0\t0\t0\t0\t0\t0\t0\t0\t0\t\n",
      "0\t0\t0\t0\t0\t0\t0\t0\t0\t0\t0\t0\t0\t81\t240\t253\t253\t119\t25\t0\t0\t0\t0\t0\t0\t0\t0\t0\t\n",
      "0\t0\t0\t0\t0\t0\t0\t0\t0\t0\t0\t0\t0\t0\t45\t186\t253\t253\t150\t27\t0\t0\t0\t0\t0\t0\t0\t0\t\n",
      "0\t0\t0\t0\t0\t0\t0\t0\t0\t0\t0\t0\t0\t0\t0\t16\t93\t252\t253\t187\t0\t0\t0\t0\t0\t0\t0\t0\t\n",
      "0\t0\t0\t0\t0\t0\t0\t0\t0\t0\t0\t0\t0\t0\t0\t0\t0\t249\t253\t249\t64\t0\t0\t0\t0\t0\t0\t0\t\n",
      "0\t0\t0\t0\t0\t0\t0\t0\t0\t0\t0\t0\t0\t0\t46\t130\t183\t253\t253\t207\t2\t0\t0\t0\t0\t0\t0\t0\t\n",
      "0\t0\t0\t0\t0\t0\t0\t0\t0\t0\t0\t0\t39\t148\t229\t253\t253\t253\t250\t182\t0\t0\t0\t0\t0\t0\t0\t0\t\n",
      "0\t0\t0\t0\t0\t0\t0\t0\t0\t0\t24\t114\t221\t253\t253\t253\t253\t201\t78\t0\t0\t0\t0\t0\t0\t0\t0\t0\t\n",
      "0\t0\t0\t0\t0\t0\t0\t0\t23\t66\t213\t253\t253\t253\t253\t198\t81\t2\t0\t0\t0\t0\t0\t0\t0\t0\t0\t0\t\n",
      "0\t0\t0\t0\t0\t0\t18\t171\t219\t253\t253\t253\t253\t195\t80\t9\t0\t0\t0\t0\t0\t0\t0\t0\t0\t0\t0\t0\t\n",
      "0\t0\t0\t0\t55\t172\t226\t253\t253\t253\t253\t244\t133\t11\t0\t0\t0\t0\t0\t0\t0\t0\t0\t0\t0\t0\t0\t0\t\n",
      "0\t0\t0\t0\t136\t253\t253\t253\t212\t135\t132\t16\t0\t0\t0\t0\t0\t0\t0\t0\t0\t0\t0\t0\t0\t0\t0\t0\t\n",
      "0\t0\t0\t0\t0\t0\t0\t0\t0\t0\t0\t0\t0\t0\t0\t0\t0\t0\t0\t0\t0\t0\t0\t0\t0\t0\t0\t0\t\n",
      "0\t0\t0\t0\t0\t0\t0\t0\t0\t0\t0\t0\t0\t0\t0\t0\t0\t0\t0\t0\t0\t0\t0\t0\t0\t0\t0\t0\t\n",
      "0\t0\t0\t0\t0\t0\t0\t0\t0\t0\t0\t0\t0\t0\t0\t0\t0\t0\t0\t0\t0\t0\t0\t0\t0\t0\t0\t0\t\n"
     ]
    }
   ],
   "source": [
    "for x in X_train[0]:\n",
    "    for i in x:\n",
    "        sys.stdout.write('%d\\t' % i)\n",
    "    sys.stdout.write('\\n')"
   ]
  },
  {
   "cell_type": "markdown",
   "id": "4511f24b",
   "metadata": {},
   "source": [
    "*가로 28, 세로 28의 2차원 배열을 784개의 1차원 배열로 차원축소 하면 784개의 속성으로 이용 가능\n",
    "\n",
    "*reshape(총 샘플 수, 1차원 속성의 수) 형식으로 지정함"
   ]
  },
  {
   "cell_type": "code",
   "execution_count": 6,
   "id": "1e050fa8",
   "metadata": {
    "ExecuteTime": {
     "end_time": "2023-02-27T00:42:31.876478Z",
     "start_time": "2023-02-27T00:42:31.648449Z"
    }
   },
   "outputs": [],
   "source": [
    "# 28x28 2차원 데이터를 784개의 1차원 데이터로 바꿔주면 784개의 속성으로 이용 가능\n",
    "# 차원 변환 과정 (2차원 -> 1차원)\n",
    "\n",
    "X_train = X_train.reshape(X_train.shape[0], 784)\n",
    "\n",
    "# 정규화(normalization) : 데이터의 폭이 클 때 적절한 값으로 분산의 정도를 바꾸는 과정\n",
    "# 현재 주어진 데이터의 값은 0부터 255까지의 정수로, 정규화를 위해 255로 나누어 주려면 먼저 이 값을 실수형으로 바꿔야 함 \n",
    "#-> astype('float64')\n",
    "\n",
    "# 케라스는 데이터가 0 ~ 1 사이 값일 때 최적의 성능으로 예측\n",
    "# 데이터 정규화 : 255로 나눠준다\n",
    "\n",
    "X_train = X_train.astype('float64') # 현재 정수형이므로 실수형으로 바꾼 후 정규화 실행\n",
    "X_train = X_train / 255\n",
    "\n",
    "# 테스트셋에도 정규화 작업\n",
    "\n",
    "X_test = X_test.reshape(X_test.shape[0], 784).astype('float64') / 255"
   ]
  },
  {
   "cell_type": "markdown",
   "id": "cb21c40a",
   "metadata": {},
   "source": [
    "*실제로 이 숫자의 레이블이 어떤지를 불러오고자 Y_class_train[0]을 출력해보자\n",
    "\n",
    "*아이리스 품종을 예측할 때 딥러닝의 분류 문제를 해결하려면 원핫 인코딩을 해야 함\n",
    "\n",
    "*즉, 0~9까지의 정수형 값을 갖는 현재 형태에서 0 또는 1로만 이루어진 벡터로 값을 수정\n",
    "-> 바이너리화 과정\n",
    "\n",
    "*to_categorical(클래스, 클래스의 수) 함수 이용 원 핫 인코딩 -> 0, 1로만 이루어진 벡터로 변환"
   ]
  },
  {
   "cell_type": "code",
   "execution_count": 7,
   "id": "fb9efab9",
   "metadata": {
    "ExecuteTime": {
     "end_time": "2023-02-27T00:44:27.156404Z",
     "start_time": "2023-02-27T00:44:27.048192Z"
    }
   },
   "outputs": [
    {
     "name": "stdout",
     "output_type": "stream",
     "text": [
      "class : 5\n",
      "[0. 0. 0. 0. 0. 1. 0. 0. 0. 0.]\n"
     ]
    }
   ],
   "source": [
    "# 클래스 값 확인\n",
    "print('class : %d' % (Y_class_train[0]))\n",
    "\n",
    "# 현재 클래스를 0~9 정수값에서 0 or 1인 벡터로 수정해야 함\n",
    "# 바이너리화 과정\n",
    "Y_train = np_utils.to_categorical(Y_class_train, 10)\n",
    "Y_test = np_utils.to_categorical(Y_class_test, 10)\n",
    "\n",
    "print(Y_train[0])"
   ]
  },
  {
   "cell_type": "code",
   "execution_count": 9,
   "id": "3a25051e",
   "metadata": {
    "ExecuteTime": {
     "end_time": "2023-02-27T00:49:28.765865Z",
     "start_time": "2023-02-27T00:49:28.348861Z"
    }
   },
   "outputs": [],
   "source": [
    "from keras.datasets import mnist\n",
    "from keras.utils import np_utils\n",
    "from keras.models import Sequential\n",
    "from keras.layers import Dense\n",
    "from keras.callbacks import ModelCheckpoint, EarlyStopping\n",
    "\n",
    "import matplotlib.pyplot as plt\n",
    "import numpy\n",
    "import os\n",
    "import tensorflow as tf\n",
    "\n",
    "# seed값 설정\n",
    "seed = 0\n",
    "numpy.random.seed(seed)\n",
    "tf.random.set_seed(3)\n",
    "\n",
    "# Mnist 데이터 불러오기\n",
    "(X_train, Y_train), (X_test, Y_test) = mnist.load_data()\n",
    "\n",
    "# 데이터 차원 축소, 정규화\n",
    "X_train = X_train.reshape(X_train.shape[0], 784).astype('float64') / 255\n",
    "X_test = X_test.reshape(X_test.shape[0], 784).astype('float64') / 255\n",
    "\n",
    "Y_train = np_utils.to_categorical(Y_train, 10)\n",
    "Y_test = np_utils.to_categorical(Y_test, 10)"
   ]
  },
  {
   "cell_type": "code",
   "execution_count": 14,
   "id": "da498a5b",
   "metadata": {
    "ExecuteTime": {
     "end_time": "2023-02-27T00:57:50.440202Z",
     "start_time": "2023-02-27T00:56:47.327907Z"
    }
   },
   "outputs": [
    {
     "name": "stdout",
     "output_type": "stream",
     "text": [
      "\n",
      "Epoch 1: val_loss improved from inf to 0.14659, saving model to ./model\\01-0.1466.hdf5\n",
      "\n",
      "Epoch 2: val_loss improved from 0.14659 to 0.10240, saving model to ./model\\02-0.1024.hdf5\n",
      "\n",
      "Epoch 3: val_loss improved from 0.10240 to 0.08764, saving model to ./model\\03-0.0876.hdf5\n",
      "\n",
      "Epoch 4: val_loss improved from 0.08764 to 0.07788, saving model to ./model\\04-0.0779.hdf5\n",
      "\n",
      "Epoch 5: val_loss improved from 0.07788 to 0.07559, saving model to ./model\\05-0.0756.hdf5\n",
      "\n",
      "Epoch 6: val_loss improved from 0.07559 to 0.06788, saving model to ./model\\06-0.0679.hdf5\n",
      "\n",
      "Epoch 7: val_loss improved from 0.06788 to 0.06668, saving model to ./model\\07-0.0667.hdf5\n",
      "\n",
      "Epoch 8: val_loss improved from 0.06668 to 0.06069, saving model to ./model\\08-0.0607.hdf5\n",
      "\n",
      "Epoch 9: val_loss did not improve from 0.06069\n",
      "\n",
      "Epoch 10: val_loss did not improve from 0.06069\n",
      "\n",
      "Epoch 11: val_loss did not improve from 0.06069\n",
      "\n",
      "Epoch 12: val_loss did not improve from 0.06069\n",
      "\n",
      "Epoch 13: val_loss improved from 0.06069 to 0.05962, saving model to ./model\\13-0.0596.hdf5\n",
      "\n",
      "Epoch 14: val_loss did not improve from 0.05962\n",
      "\n",
      "Epoch 15: val_loss did not improve from 0.05962\n",
      "\n",
      "Epoch 16: val_loss did not improve from 0.05962\n",
      "\n",
      "Epoch 17: val_loss did not improve from 0.05962\n",
      "\n",
      "Epoch 18: val_loss did not improve from 0.05962\n",
      "\n",
      "Epoch 19: val_loss did not improve from 0.05962\n",
      "\n",
      "Epoch 20: val_loss did not improve from 0.05962\n",
      "\n",
      "Epoch 21: val_loss did not improve from 0.05962\n",
      "\n",
      "Epoch 22: val_loss did not improve from 0.05962\n",
      "\n",
      "Epoch 23: val_loss did not improve from 0.05962\n"
     ]
    }
   ],
   "source": [
    "# 모델 프레임 설정\n",
    "model = Sequential()\n",
    "model.add(Dense(512, input_dim=784, activation='relu'))\n",
    "model.add(Dense(10, activation='softmax'))\n",
    "\n",
    "# 모델 실행 환경 설정\n",
    "model.compile(loss='categorical_crossentropy',\n",
    "             optimizer='adam',\n",
    "             metrics=['accuracy'])\n",
    "\n",
    "# 모델 저장, 모델 최적화 단계에서 학습 자동 중단 설정\n",
    "MODEL_DIR = './model/'\n",
    "if not os.path.exists(MODEL_DIR):\n",
    "    os.mkdir(MODEL_DIR)\n",
    "    \n",
    "modelpath='./model/{epoch:02d}-{val_loss:.4f}.hdf5'\n",
    "checkpointer = ModelCheckpoint(filepath=modelpath, monitor='val_loss', verbose=1,\n",
    "                              save_best_only=True)\n",
    "early_stopping_callback = EarlyStopping(monitor='val_loss', patience=10)\n",
    "\n",
    "# 모델의 실행\n",
    "history = model.fit(X_train, Y_train, validation_data=(X_test, Y_test),\n",
    "                   epochs=30, batch_size=200, verbose=0,\n",
    "                   callbacks=[early_stopping_callback, checkpointer])"
   ]
  },
  {
   "cell_type": "code",
   "execution_count": 15,
   "id": "9cc82690",
   "metadata": {
    "ExecuteTime": {
     "end_time": "2023-02-27T00:59:40.346555Z",
     "start_time": "2023-02-27T00:59:40.341467Z"
    }
   },
   "outputs": [
    {
     "data": {
      "text/plain": [
       "dict_keys(['loss', 'accuracy', 'val_loss', 'val_accuracy'])"
      ]
     },
     "execution_count": 15,
     "metadata": {},
     "output_type": "execute_result"
    }
   ],
   "source": [
    "history.history.keys()"
   ]
  },
  {
   "cell_type": "code",
   "execution_count": 16,
   "id": "8fce7fb7",
   "metadata": {
    "ExecuteTime": {
     "end_time": "2023-02-27T00:59:51.617763Z",
     "start_time": "2023-02-27T00:59:51.610803Z"
    }
   },
   "outputs": [
    {
     "data": {
      "text/plain": [
       "{'loss': [0.30388331413269043,\n",
       "  0.12392816692590714,\n",
       "  0.0807996392250061,\n",
       "  0.06002352014183998,\n",
       "  0.044682882726192474,\n",
       "  0.03467218950390816,\n",
       "  0.02704322524368763,\n",
       "  0.021344071254134178,\n",
       "  0.015405050478875637,\n",
       "  0.011569436639547348,\n",
       "  0.009272672235965729,\n",
       "  0.008075783029198647,\n",
       "  0.005556238349527121,\n",
       "  0.00385269895195961,\n",
       "  0.0035772596020251513,\n",
       "  0.003605777630582452,\n",
       "  0.0062780375592410564,\n",
       "  0.007089636754244566,\n",
       "  0.004293972160667181,\n",
       "  0.0044699241407215595,\n",
       "  0.001456943340599537,\n",
       "  0.0006592748104594648,\n",
       "  0.0003971465048380196],\n",
       " 'accuracy': [0.9143499732017517,\n",
       "  0.9642333388328552,\n",
       "  0.9767666459083557,\n",
       "  0.9824833273887634,\n",
       "  0.9871000051498413,\n",
       "  0.9903333187103271,\n",
       "  0.9926499724388123,\n",
       "  0.9943166375160217,\n",
       "  0.9964333176612854,\n",
       "  0.9976666569709778,\n",
       "  0.99836665391922,\n",
       "  0.9984666705131531,\n",
       "  0.9994000196456909,\n",
       "  0.9995666742324829,\n",
       "  0.999750018119812,\n",
       "  0.9994500279426575,\n",
       "  0.9985499978065491,\n",
       "  0.998116672039032,\n",
       "  0.9990666508674622,\n",
       "  0.9988666772842407,\n",
       "  0.9998000264167786,\n",
       "  1.0,\n",
       "  1.0],\n",
       " 'val_loss': [0.1465851366519928,\n",
       "  0.10240417718887329,\n",
       "  0.08763562142848969,\n",
       "  0.07788445055484772,\n",
       "  0.07559145241975784,\n",
       "  0.06787863373756409,\n",
       "  0.06667974591255188,\n",
       "  0.060686804354190826,\n",
       "  0.06266424059867859,\n",
       "  0.06233717501163483,\n",
       "  0.06379742920398712,\n",
       "  0.07059317827224731,\n",
       "  0.05962226539850235,\n",
       "  0.0693696066737175,\n",
       "  0.06359251588582993,\n",
       "  0.07017619162797928,\n",
       "  0.06884517520666122,\n",
       "  0.07652301341295242,\n",
       "  0.06849084794521332,\n",
       "  0.06992790848016739,\n",
       "  0.06945877522230148,\n",
       "  0.06640586256980896,\n",
       "  0.0666825920343399],\n",
       " 'val_accuracy': [0.9573000073432922,\n",
       "  0.968500018119812,\n",
       "  0.9742000102996826,\n",
       "  0.9764000177383423,\n",
       "  0.9771999716758728,\n",
       "  0.9793000221252441,\n",
       "  0.9787999987602234,\n",
       "  0.9815000295639038,\n",
       "  0.982200026512146,\n",
       "  0.9812999963760376,\n",
       "  0.9805999994277954,\n",
       "  0.9789000153541565,\n",
       "  0.9824000000953674,\n",
       "  0.98089998960495,\n",
       "  0.9824000000953674,\n",
       "  0.9814000129699707,\n",
       "  0.9811000227928162,\n",
       "  0.9801999926567078,\n",
       "  0.9822999835014343,\n",
       "  0.9825999736785889,\n",
       "  0.9829000234603882,\n",
       "  0.9835000038146973,\n",
       "  0.9835000038146973]}"
      ]
     },
     "execution_count": 16,
     "metadata": {},
     "output_type": "execute_result"
    }
   ],
   "source": [
    "history.history"
   ]
  }
 ],
 "metadata": {
  "kernelspec": {
   "display_name": "Python 3 (ipykernel)",
   "language": "python",
   "name": "python3"
  },
  "language_info": {
   "codemirror_mode": {
    "name": "ipython",
    "version": 3
   },
   "file_extension": ".py",
   "mimetype": "text/x-python",
   "name": "python",
   "nbconvert_exporter": "python",
   "pygments_lexer": "ipython3",
   "version": "3.11.1"
  },
  "toc": {
   "base_numbering": 1,
   "nav_menu": {},
   "number_sections": true,
   "sideBar": true,
   "skip_h1_title": false,
   "title_cell": "Table of Contents",
   "title_sidebar": "Contents",
   "toc_cell": false,
   "toc_position": {},
   "toc_section_display": true,
   "toc_window_display": false
  },
  "varInspector": {
   "cols": {
    "lenName": 16,
    "lenType": 16,
    "lenVar": 40
   },
   "kernels_config": {
    "python": {
     "delete_cmd_postfix": "",
     "delete_cmd_prefix": "del ",
     "library": "var_list.py",
     "varRefreshCmd": "print(var_dic_list())"
    },
    "r": {
     "delete_cmd_postfix": ") ",
     "delete_cmd_prefix": "rm(",
     "library": "var_list.r",
     "varRefreshCmd": "cat(var_dic_list()) "
    }
   },
   "types_to_exclude": [
    "module",
    "function",
    "builtin_function_or_method",
    "instance",
    "_Feature"
   ],
   "window_display": false
  }
 },
 "nbformat": 4,
 "nbformat_minor": 5
}
