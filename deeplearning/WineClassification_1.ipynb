{
 "cells": [
  {
   "cell_type": "code",
   "execution_count": 29,
   "id": "a2493d0e",
   "metadata": {
    "ExecuteTime": {
     "end_time": "2023-02-22T04:11:36.675307Z",
     "start_time": "2023-02-22T04:11:36.607875Z"
    }
   },
   "outputs": [
    {
     "data": {
      "text/html": [
       "<div>\n",
       "<style scoped>\n",
       "    .dataframe tbody tr th:only-of-type {\n",
       "        vertical-align: middle;\n",
       "    }\n",
       "\n",
       "    .dataframe tbody tr th {\n",
       "        vertical-align: top;\n",
       "    }\n",
       "\n",
       "    .dataframe thead th {\n",
       "        text-align: right;\n",
       "    }\n",
       "</style>\n",
       "<table border=\"1\" class=\"dataframe\">\n",
       "  <thead>\n",
       "    <tr style=\"text-align: right;\">\n",
       "      <th></th>\n",
       "      <th>0</th>\n",
       "      <th>1</th>\n",
       "      <th>2</th>\n",
       "      <th>3</th>\n",
       "      <th>4</th>\n",
       "      <th>5</th>\n",
       "      <th>6</th>\n",
       "      <th>7</th>\n",
       "      <th>8</th>\n",
       "      <th>9</th>\n",
       "      <th>10</th>\n",
       "      <th>11</th>\n",
       "      <th>12</th>\n",
       "      <th>13</th>\n",
       "    </tr>\n",
       "  </thead>\n",
       "  <tbody>\n",
       "    <tr>\n",
       "      <th>0</th>\n",
       "      <td>1</td>\n",
       "      <td>14.23</td>\n",
       "      <td>1.71</td>\n",
       "      <td>2.43</td>\n",
       "      <td>15.6</td>\n",
       "      <td>127</td>\n",
       "      <td>2.80</td>\n",
       "      <td>3.06</td>\n",
       "      <td>0.28</td>\n",
       "      <td>2.29</td>\n",
       "      <td>5.64</td>\n",
       "      <td>1.04</td>\n",
       "      <td>3.92</td>\n",
       "      <td>1065</td>\n",
       "    </tr>\n",
       "    <tr>\n",
       "      <th>1</th>\n",
       "      <td>1</td>\n",
       "      <td>13.20</td>\n",
       "      <td>1.78</td>\n",
       "      <td>2.14</td>\n",
       "      <td>11.2</td>\n",
       "      <td>100</td>\n",
       "      <td>2.65</td>\n",
       "      <td>2.76</td>\n",
       "      <td>0.26</td>\n",
       "      <td>1.28</td>\n",
       "      <td>4.38</td>\n",
       "      <td>1.05</td>\n",
       "      <td>3.40</td>\n",
       "      <td>1050</td>\n",
       "    </tr>\n",
       "    <tr>\n",
       "      <th>2</th>\n",
       "      <td>1</td>\n",
       "      <td>13.16</td>\n",
       "      <td>2.36</td>\n",
       "      <td>2.67</td>\n",
       "      <td>18.6</td>\n",
       "      <td>101</td>\n",
       "      <td>2.80</td>\n",
       "      <td>3.24</td>\n",
       "      <td>0.30</td>\n",
       "      <td>2.81</td>\n",
       "      <td>5.68</td>\n",
       "      <td>1.03</td>\n",
       "      <td>3.17</td>\n",
       "      <td>1185</td>\n",
       "    </tr>\n",
       "    <tr>\n",
       "      <th>3</th>\n",
       "      <td>1</td>\n",
       "      <td>14.37</td>\n",
       "      <td>1.95</td>\n",
       "      <td>2.50</td>\n",
       "      <td>16.8</td>\n",
       "      <td>113</td>\n",
       "      <td>3.85</td>\n",
       "      <td>3.49</td>\n",
       "      <td>0.24</td>\n",
       "      <td>2.18</td>\n",
       "      <td>7.80</td>\n",
       "      <td>0.86</td>\n",
       "      <td>3.45</td>\n",
       "      <td>1480</td>\n",
       "    </tr>\n",
       "    <tr>\n",
       "      <th>4</th>\n",
       "      <td>1</td>\n",
       "      <td>13.24</td>\n",
       "      <td>2.59</td>\n",
       "      <td>2.87</td>\n",
       "      <td>21.0</td>\n",
       "      <td>118</td>\n",
       "      <td>2.80</td>\n",
       "      <td>2.69</td>\n",
       "      <td>0.39</td>\n",
       "      <td>1.82</td>\n",
       "      <td>4.32</td>\n",
       "      <td>1.04</td>\n",
       "      <td>2.93</td>\n",
       "      <td>735</td>\n",
       "    </tr>\n",
       "  </tbody>\n",
       "</table>\n",
       "</div>"
      ],
      "text/plain": [
       "   0      1     2     3     4    5     6     7     8     9     10    11    12  \\\n",
       "0   1  14.23  1.71  2.43  15.6  127  2.80  3.06  0.28  2.29  5.64  1.04  3.92   \n",
       "1   1  13.20  1.78  2.14  11.2  100  2.65  2.76  0.26  1.28  4.38  1.05  3.40   \n",
       "2   1  13.16  2.36  2.67  18.6  101  2.80  3.24  0.30  2.81  5.68  1.03  3.17   \n",
       "3   1  14.37  1.95  2.50  16.8  113  3.85  3.49  0.24  2.18  7.80  0.86  3.45   \n",
       "4   1  13.24  2.59  2.87  21.0  118  2.80  2.69  0.39  1.82  4.32  1.04  2.93   \n",
       "\n",
       "     13  \n",
       "0  1065  \n",
       "1  1050  \n",
       "2  1185  \n",
       "3  1480  \n",
       "4   735  "
      ]
     },
     "execution_count": 29,
     "metadata": {},
     "output_type": "execute_result"
    }
   ],
   "source": [
    "import pandas as pd\n",
    "\n",
    "df = pd.read_csv('./datasets/bb222ea44cb14f4d9f8729328cd08a21_wine.csv', header=None)\n",
    "df.head()"
   ]
  },
  {
   "cell_type": "code",
   "execution_count": 28,
   "id": "72587bca",
   "metadata": {
    "ExecuteTime": {
     "end_time": "2023-02-22T04:10:51.370365Z",
     "start_time": "2023-02-22T04:10:51.350419Z"
    }
   },
   "outputs": [
    {
     "name": "stdout",
     "output_type": "stream",
     "text": [
      "<class 'pandas.core.frame.DataFrame'>\n",
      "RangeIndex: 177 entries, 0 to 176\n",
      "Data columns (total 14 columns):\n",
      " #   Column  Non-Null Count  Dtype  \n",
      "---  ------  --------------  -----  \n",
      " 0   1       177 non-null    int64  \n",
      " 1   14.23   177 non-null    float64\n",
      " 2   1.71    177 non-null    float64\n",
      " 3   2.43    177 non-null    float64\n",
      " 4   15.6    177 non-null    float64\n",
      " 5   127     177 non-null    int64  \n",
      " 6   2.8     177 non-null    float64\n",
      " 7   3.06    177 non-null    float64\n",
      " 8   .28     177 non-null    float64\n",
      " 9   2.29    177 non-null    float64\n",
      " 10  5.64    177 non-null    float64\n",
      " 11  1.04    177 non-null    float64\n",
      " 12  3.92    177 non-null    float64\n",
      " 13  1065    177 non-null    int64  \n",
      "dtypes: float64(11), int64(3)\n",
      "memory usage: 19.5 KB\n"
     ]
    }
   ],
   "source": [
    "df.info()\n"
   ]
  },
  {
   "cell_type": "code",
   "execution_count": 45,
   "id": "e7f7f413",
   "metadata": {
    "ExecuteTime": {
     "end_time": "2023-02-22T04:21:10.716105Z",
     "start_time": "2023-02-22T04:21:10.702027Z"
    }
   },
   "outputs": [
    {
     "data": {
      "text/plain": [
       "{1, 2, 3}"
      ]
     },
     "execution_count": 45,
     "metadata": {},
     "output_type": "execute_result"
    }
   ],
   "source": [
    "set(df[0])"
   ]
  },
  {
   "cell_type": "code",
   "execution_count": 24,
   "id": "3d3c9fb6",
   "metadata": {
    "ExecuteTime": {
     "end_time": "2023-02-22T04:05:39.421757Z",
     "start_time": "2023-02-22T04:05:39.409270Z"
    }
   },
   "outputs": [
    {
     "data": {
      "text/plain": [
       "1599"
      ]
     },
     "execution_count": 24,
     "metadata": {},
     "output_type": "execute_result"
    }
   ],
   "source": [
    "6497-4898"
   ]
  },
  {
   "cell_type": "code",
   "execution_count": 46,
   "id": "40af402f",
   "metadata": {
    "ExecuteTime": {
     "end_time": "2023-02-22T04:22:59.264415Z",
     "start_time": "2023-02-22T04:22:59.149808Z"
    }
   },
   "outputs": [
    {
     "ename": "IndexError",
     "evalue": "index 3 is out of bounds for axis 1 with size 3",
     "output_type": "error",
     "traceback": [
      "\u001b[1;31m------------------------------------------------------------\u001b[0m",
      "\u001b[1;31mIndexError\u001b[0m                 Traceback (most recent call last)",
      "Cell \u001b[1;32mIn[46], line 17\u001b[0m\n\u001b[0;32m     15\u001b[0m x \u001b[38;5;241m=\u001b[39m df\u001b[38;5;241m.\u001b[39mdrop(columns\u001b[38;5;241m=\u001b[39m\u001b[38;5;241m0\u001b[39m, axis\u001b[38;5;241m=\u001b[39m\u001b[38;5;241m1\u001b[39m)\n\u001b[0;32m     16\u001b[0m y \u001b[38;5;241m=\u001b[39m df[\u001b[38;5;241m0\u001b[39m]\n\u001b[1;32m---> 17\u001b[0m onehot_y \u001b[38;5;241m=\u001b[39m \u001b[43mto_categorical\u001b[49m\u001b[43m(\u001b[49m\u001b[43my\u001b[49m\u001b[43m,\u001b[49m\u001b[43m \u001b[49m\u001b[38;5;241;43m3\u001b[39;49m\u001b[43m)\u001b[49m\n\u001b[0;32m     18\u001b[0m x_scaled \u001b[38;5;241m=\u001b[39m StandardScaler()\u001b[38;5;241m.\u001b[39mfit_transform(x)\n\u001b[0;32m     22\u001b[0m model \u001b[38;5;241m=\u001b[39m Sequential()\n",
      "File \u001b[1;32m~\\AppData\\Local\\Programs\\Python\\Python311\\Lib\\site-packages\\keras\\utils\\np_utils.py:74\u001b[0m, in \u001b[0;36mto_categorical\u001b[1;34m(y, num_classes, dtype)\u001b[0m\n\u001b[0;32m     72\u001b[0m n \u001b[38;5;241m=\u001b[39m y\u001b[38;5;241m.\u001b[39mshape[\u001b[38;5;241m0\u001b[39m]\n\u001b[0;32m     73\u001b[0m categorical \u001b[38;5;241m=\u001b[39m np\u001b[38;5;241m.\u001b[39mzeros((n, num_classes), dtype\u001b[38;5;241m=\u001b[39mdtype)\n\u001b[1;32m---> 74\u001b[0m \u001b[43mcategorical\u001b[49m\u001b[43m[\u001b[49m\u001b[43mnp\u001b[49m\u001b[38;5;241;43m.\u001b[39;49m\u001b[43marange\u001b[49m\u001b[43m(\u001b[49m\u001b[43mn\u001b[49m\u001b[43m)\u001b[49m\u001b[43m,\u001b[49m\u001b[43m \u001b[49m\u001b[43my\u001b[49m\u001b[43m]\u001b[49m \u001b[38;5;241m=\u001b[39m \u001b[38;5;241m1\u001b[39m\n\u001b[0;32m     75\u001b[0m output_shape \u001b[38;5;241m=\u001b[39m input_shape \u001b[38;5;241m+\u001b[39m (num_classes,)\n\u001b[0;32m     76\u001b[0m categorical \u001b[38;5;241m=\u001b[39m np\u001b[38;5;241m.\u001b[39mreshape(categorical, output_shape)\n",
      "\u001b[1;31mIndexError\u001b[0m: index 3 is out of bounds for axis 1 with size 3"
     ]
    }
   ],
   "source": [
    "from keras.models import Sequential\n",
    "from keras.layers import Dense\n",
    "from keras.callbacks import ModelCheckpoint, EarlyStopping\n",
    "from sklearn.preprocessing import StandardScaler\n",
    "from sklearn.preprocessing import LabelEncoder\n",
    "from tensorflow.keras.utils import to_categorical\n",
    "import numpy as np\n",
    "import tensorflow as tf\n",
    "import os \n",
    "\n",
    "# seed 값 결정 \n",
    "np.random.seed(3)\n",
    "tf.random.set_seed(3)\n",
    "\n",
    "x = df.drop(columns=0, axis=1)\n",
    "y = df[0]\n",
    "onehot_y = to_categorical(y, 3)\n",
    "x_scaled = StandardScaler().fit_transform(x)\n",
    "\n",
    "\n",
    "\n",
    "model = Sequential()\n",
    "model.add(Dense(30, input_dim = 13, activation=\"relu\"))\n",
    "model.add(Dense(12, activation=\"relu\"))\n",
    "model.add(Dense(8, activation=\"relu\"))\n",
    "model.add(Dense(3, activation=\"softmax\"))\n",
    "\n",
    "model.compile(loss = \"categorical_crossentropy\",\n",
    "             optimizer = \"adam\",\n",
    "             metrics = [\"accuracy\"])\n",
    "\n",
    "# 모델 저장 폴더 만들기 \n",
    "MODEL_DTR = \"./model/\"\n",
    "if not os.path.exists(MODEL_DTR):\n",
    "    os.mkdir(MODEL_DTR)\n",
    "    \n",
    "modelpath = \"./model/{epoch:02d} - {val_loss:4f}.hdf5\"\n",
    "\n",
    "# 모델 업데이트 및 저장\n",
    "\n",
    "checkpoint = ModelCheckpoint(filepath=modelpath, monitor=\"val_loss\",verbose=1,\n",
    "                            save_best_only=True)\n",
    "\n",
    "# 학습 자동 중단 설정 \n",
    "early_stopping_callback = EarlyStopping(monitor=\"val_loss\", patience=100)\n",
    "model.summary()\n",
    "# model.fit(x,y, validation_split=0.2, epochs=3500, batch_size=10, callbacks=[checkpoint, early_stopping_callback])\n",
    "onehot_y"
   ]
  },
  {
   "cell_type": "code",
   "execution_count": null,
   "id": "45d8c7c2",
   "metadata": {
    "ExecuteTime": {
     "end_time": "2023-02-22T04:07:47.504918Z",
     "start_time": "2023-02-22T04:07:47.504918Z"
    }
   },
   "outputs": [],
   "source": [
    "from keras.models import Sequential\n",
    "from keras.layers import Dense\n",
    "from keras.callbacks import ModelCheckpoint, EarlyStopping\n",
    "from sklearn.preprocessing import StandardScaler\n",
    "from sklearn.preprocessing import LabelEncoder\n",
    "from tensorflow.keras.losses import BinaryFocalCrossentropy\n",
    "import numpy as np\n",
    "import tensorflow as tf\n",
    "import os \n",
    "import pandas as pd\n",
    "\n",
    "df = pd.read_csv('./datasets/wine.csv')\n",
    "# seed 값 결정 \n",
    "np.random.seed(3)\n",
    "tf.random.set_seed(3)\n",
    "\n",
    "df[\"type\"] = LabelEncoder().fit_transform(df[\"type\"])\n",
    "x = df.drop(\"type\", axis=1)\n",
    "y = df[\"type\"]\n",
    "x_scaled = StandardScaler().fit_transform(x)\n",
    "\n",
    "y\n",
    "model = Sequential()\n",
    "model.add(Dense(30, input_dim = 12, activation=\"relu\"))\n",
    "model.add(Dense(12, activation=\"relu\"))\n",
    "model.add(Dense(8, activation=\"relu\"))\n",
    "model.add(Dense(1, activation=\"sigmoid\"))\n",
    "\n",
    "model.compile(loss =BinaryFocalCrossentropy(gamma=2.0, from_logits=True),\n",
    "             optimizer = \"adam\",\n",
    "             metrics = [\"accuracy\"])\n",
    "\n",
    "\n",
    "model.fit(x_scaled,y, validation_split=0.2, epochs=100, batch_size=500)"
   ]
  },
  {
   "cell_type": "code",
   "execution_count": 12,
   "id": "38baab19",
   "metadata": {
    "ExecuteTime": {
     "end_time": "2023-02-22T02:33:43.271155Z",
     "start_time": "2023-02-22T02:33:43.263176Z"
    }
   },
   "outputs": [
    {
     "data": {
      "text/plain": [
       "array([[-0.16702991, -0.42330275,  0.28417952, ..., -0.54579101,\n",
       "        -1.41855821,  0.20799905],\n",
       "       [-0.70688264, -0.24108295,  0.14648932, ..., -0.27697861,\n",
       "        -0.83161516,  0.20799905],\n",
       "       [ 0.68131011, -0.36256282,  0.55955993, ..., -0.61299411,\n",
       "        -0.32852111,  0.20799905],\n",
       "       ...,\n",
       "       [-0.70688264,  1.03445559, -1.29925783, ...,  1.47030196,\n",
       "         0.42611996,  0.20799905],\n",
       "       [-1.01536992,  1.85444466, -1.36810293, ...,  1.20148957,\n",
       "        -0.2446721 , -0.93722961],\n",
       "       [-0.9382481 , -0.18034302,  1.04147564, ...,  0.86547407,\n",
       "         0.42611996,  0.20799905]])"
      ]
     },
     "execution_count": 12,
     "metadata": {},
     "output_type": "execute_result"
    }
   ],
   "source": []
  },
  {
   "cell_type": "code",
   "execution_count": null,
   "id": "dcbb449a",
   "metadata": {},
   "outputs": [],
   "source": []
  }
 ],
 "metadata": {
  "kernelspec": {
   "display_name": "Python 3 (ipykernel)",
   "language": "python",
   "name": "python3"
  },
  "language_info": {
   "codemirror_mode": {
    "name": "ipython",
    "version": 3
   },
   "file_extension": ".py",
   "mimetype": "text/x-python",
   "name": "python",
   "nbconvert_exporter": "python",
   "pygments_lexer": "ipython3",
   "version": "3.11.1"
  },
  "toc": {
   "base_numbering": 1,
   "nav_menu": {},
   "number_sections": true,
   "sideBar": true,
   "skip_h1_title": false,
   "title_cell": "Table of Contents",
   "title_sidebar": "Contents",
   "toc_cell": false,
   "toc_position": {},
   "toc_section_display": true,
   "toc_window_display": false
  },
  "varInspector": {
   "cols": {
    "lenName": 16,
    "lenType": 16,
    "lenVar": 40
   },
   "kernels_config": {
    "python": {
     "delete_cmd_postfix": "",
     "delete_cmd_prefix": "del ",
     "library": "var_list.py",
     "varRefreshCmd": "print(var_dic_list())"
    },
    "r": {
     "delete_cmd_postfix": ") ",
     "delete_cmd_prefix": "rm(",
     "library": "var_list.r",
     "varRefreshCmd": "cat(var_dic_list()) "
    }
   },
   "types_to_exclude": [
    "module",
    "function",
    "builtin_function_or_method",
    "instance",
    "_Feature"
   ],
   "window_display": false
  }
 },
 "nbformat": 4,
 "nbformat_minor": 5
}
