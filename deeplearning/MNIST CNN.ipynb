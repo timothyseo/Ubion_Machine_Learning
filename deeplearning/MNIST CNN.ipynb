{
 "cells": [
  {
   "cell_type": "markdown",
   "id": "8754aed6",
   "metadata": {},
   "source": [
    "### Mnist\n",
    "* Conv2D => 32, 64\n",
    "* Pooling\n",
    "* dropout\n",
    "* Flatten => Must-do\n",
    "* Hidden => 128\n",
    "* dropout\n",
    "* output => 10"
   ]
  },
  {
   "cell_type": "code",
   "execution_count": 4,
   "id": "f7147c31",
   "metadata": {
    "ExecuteTime": {
     "end_time": "2023-02-27T05:23:15.955478Z",
     "start_time": "2023-02-27T05:01:40.442256Z"
    }
   },
   "outputs": [
    {
     "name": "stdout",
     "output_type": "stream",
     "text": [
      "\n",
      "Epoch 1: val_loss improved from inf to 0.05558, saving model to ./model\\01-0.0556.hdf5\n",
      "\n",
      "Epoch 2: val_loss improved from 0.05558 to 0.03815, saving model to ./model\\02-0.0381.hdf5\n",
      "\n",
      "Epoch 3: val_loss improved from 0.03815 to 0.03418, saving model to ./model\\03-0.0342.hdf5\n",
      "\n",
      "Epoch 4: val_loss improved from 0.03418 to 0.02936, saving model to ./model\\04-0.0294.hdf5\n",
      "\n",
      "Epoch 5: val_loss improved from 0.02936 to 0.02867, saving model to ./model\\05-0.0287.hdf5\n",
      "\n",
      "Epoch 6: val_loss improved from 0.02867 to 0.02759, saving model to ./model\\06-0.0276.hdf5\n",
      "\n",
      "Epoch 7: val_loss improved from 0.02759 to 0.02489, saving model to ./model\\07-0.0249.hdf5\n",
      "\n",
      "Epoch 8: val_loss did not improve from 0.02489\n",
      "\n",
      "Epoch 9: val_loss did not improve from 0.02489\n",
      "\n",
      "Epoch 10: val_loss did not improve from 0.02489\n",
      "\n",
      "Epoch 11: val_loss did not improve from 0.02489\n",
      "\n",
      "Epoch 12: val_loss did not improve from 0.02489\n",
      "\n",
      "Epoch 13: val_loss did not improve from 0.02489\n",
      "\n",
      "Epoch 14: val_loss improved from 0.02489 to 0.02385, saving model to ./model\\14-0.0239.hdf5\n",
      "\n",
      "Epoch 15: val_loss did not improve from 0.02385\n",
      "\n",
      "Epoch 16: val_loss did not improve from 0.02385\n",
      "\n",
      "Epoch 17: val_loss did not improve from 0.02385\n",
      "\n",
      "Epoch 18: val_loss did not improve from 0.02385\n",
      "\n",
      "Epoch 19: val_loss did not improve from 0.02385\n",
      "\n",
      "Epoch 20: val_loss did not improve from 0.02385\n",
      "\n",
      "Epoch 21: val_loss did not improve from 0.02385\n",
      "\n",
      "Epoch 22: val_loss did not improve from 0.02385\n",
      "\n",
      "Epoch 23: val_loss did not improve from 0.02385\n",
      "\n",
      "Epoch 24: val_loss did not improve from 0.02385\n",
      "313/313 [==============================] - 3s 8ms/step - loss: 0.0293 - accuracy: 0.9929\n",
      "\n",
      " Test Accuracy: 0.9929\n"
     ]
    },
    {
     "data": {
      "image/png": "[encoded data removed]",
      "text/plain": [
       "<Figure size 640x480 with 1 Axes>"
      ]
     },
     "metadata": {},
     "output_type": "display_data"
    }
   ],
   "source": [
    "from keras.datasets import mnist\n",
    "from keras.utils import np_utils\n",
    "from keras.models import Sequential\n",
    "from keras.layers import Dense, Dropout, Flatten, Conv2D, MaxPooling2D\n",
    "from keras.callbacks import ModelCheckpoint, EarlyStopping\n",
    "\n",
    "import matplotlib.pyplot as plt\n",
    "import numpy\n",
    "import os\n",
    "import tensorflow as tf\n",
    "\n",
    "# seed값 설정\n",
    "seed = 0\n",
    "numpy.random.seed(seed)\n",
    "tf.random.set_seed(3)\n",
    "\n",
    "# Mnist 데이터 불러오기\n",
    "(X_train, Y_train), (X_test, Y_test) = mnist.load_data()\n",
    "\n",
    "# 데이터 차원 축소, 정규화\n",
    "X_train = X_train.reshape(X_train.shape[0], 28, 28, 1).astype('float64') / 255\n",
    "X_test = X_test.reshape(X_test.shape[0], 28, 28, 1).astype('float64') / 255\n",
    "\n",
    "Y_train = np_utils.to_categorical(Y_train)\n",
    "Y_test = np_utils.to_categorical(Y_test)\n",
    "\n",
    "# 컨볼루션 신경망의 설정\n",
    "model = Sequential()\n",
    "model.add(Conv2D(32, kernel_size=(3, 3), input_shape=(28, 28, 1), activation='relu'))\n",
    "model.add(Conv2D(64, (3, 3), activation='relu'))\n",
    "model.add(MaxPooling2D(pool_size=2))\n",
    "model.add(Dropout(0.25))\n",
    "model.add(Flatten())\n",
    "model.add(Dense(128, activation='relu'))\n",
    "model.add(Dropout(0.5))\n",
    "model.add(Dense(10, activation='softmax'))\n",
    "\n",
    "model.compile(loss='categorical_crossentropy',\n",
    "             optimizer='adam',\n",
    "             metrics=['accuracy'])\n",
    "\n",
    "# 모델 저장, 모델 최적화 단계에서 학습 자동 중단 설정\n",
    "MODEL_DIR = './model/'\n",
    "if not os.path.exists(MODEL_DIR):\n",
    "    os.mkdir(MODEL_DIR)\n",
    "    \n",
    "modelpath='./model/{epoch:02d}-{val_loss:.4f}.hdf5'\n",
    "checkpointer = ModelCheckpoint(filepath=modelpath, monitor='val_loss', verbose=1,\n",
    "                              save_best_only=True)\n",
    "early_stopping_callback = EarlyStopping(monitor='val_loss', patience=10)\n",
    "\n",
    "# 모델의 실행\n",
    "history = model.fit(X_train, Y_train, validation_data=(X_test, Y_test),\n",
    "                   epochs=30, batch_size=200, verbose=0,\n",
    "                   callbacks=[early_stopping_callback, checkpointer])\n",
    "\n",
    "# 테스트 정확도 출력\n",
    "print('\\n Test Accuracy: %.4f' % (model.evaluate(X_test, Y_test)[1]))\n",
    "\n",
    "# 테스트셋의 오차\n",
    "y_vloss = history.history['val_loss']\n",
    "\n",
    "# 학습셋의 오차\n",
    "y_loss = history.history['loss']\n",
    "\n",
    "# 그래프로 표현\n",
    "x_len = numpy.arange(len(y_loss))\n",
    "plt.plot(x_len, y_vloss, marker='.', c='red', label='Testset_loss')\n",
    "plt.plot(x_len, y_loss, marker='.', c='blue', label='Trainset_loss')\n",
    "\n",
    "# 그래프에 그리드를 주고 레이블을 표시\n",
    "plt.legend(loc='upper right')\n",
    "plt.grid()\n",
    "plt.xlabel('epoch')\n",
    "plt.ylabel('loss')\n",
    "plt.show()"
   ]
  },
  {
   "cell_type": "code",
   "execution_count": null,
   "id": "e9e0b3e2",
   "metadata": {},
   "outputs": [],
   "source": []
  }
 ],
 "metadata": {
  "kernelspec": {
   "display_name": "Python 3 (ipykernel)",
   "language": "python",
   "name": "python3"
  },
  "language_info": {
   "codemirror_mode": {
    "name": "ipython",
    "version": 3
   },
   "file_extension": ".py",
   "mimetype": "text/x-python",
   "name": "python",
   "nbconvert_exporter": "python",
   "pygments_lexer": "ipython3",
   "version": "3.11.1"
  },
  "toc": {
   "base_numbering": 1,
   "nav_menu": {},
   "number_sections": true,
   "sideBar": true,
   "skip_h1_title": false,
   "title_cell": "Table of Contents",
   "title_sidebar": "Contents",
   "toc_cell": false,
   "toc_position": {},
   "toc_section_display": true,
   "toc_window_display": false
  },
  "varInspector": {
   "cols": {
    "lenName": 16,
    "lenType": 16,
    "lenVar": 40
   },
   "kernels_config": {
    "python": {
     "delete_cmd_postfix": "",
     "delete_cmd_prefix": "del ",
     "library": "var_list.py",
     "varRefreshCmd": "print(var_dic_list())"
    },
    "r": {
     "delete_cmd_postfix": ") ",
     "delete_cmd_prefix": "rm(",
     "library": "var_list.r",
     "varRefreshCmd": "cat(var_dic_list()) "
    }
   },
   "types_to_exclude": [
    "module",
    "function",
    "builtin_function_or_method",
    "instance",
    "_Feature"
   ],
   "window_display": false
  }
 },
 "nbformat": 4,
 "nbformat_minor": 5
}
