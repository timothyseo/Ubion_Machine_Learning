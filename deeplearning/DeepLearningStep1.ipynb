{
 "cells": [
  {
   "cell_type": "markdown",
   "id": "384d59d8",
   "metadata": {},
   "source": [
    "## tensorflow installation"
   ]
  },
  {
   "cell_type": "code",
   "execution_count": 2,
   "id": "b314fb38",
   "metadata": {
    "ExecuteTime": {
     "end_time": "2023-02-15T05:30:12.274730Z",
     "start_time": "2023-02-15T05:30:10.619355Z"
    }
   },
   "outputs": [
    {
     "name": "stdout",
     "output_type": "stream",
     "text": [
      "Epoch 1/30\n",
      "15/15 [==============================] - 0s 3ms/step - loss: 1.2997 - accuracy: 0.3067\n",
      "Epoch 2/30\n",
      "15/15 [==============================] - 0s 2ms/step - loss: 1.1718 - accuracy: 0.2867\n",
      "Epoch 3/30\n",
      "15/15 [==============================] - 0s 2ms/step - loss: 1.0697 - accuracy: 0.3267\n",
      "Epoch 4/30\n",
      "15/15 [==============================] - 0s 2ms/step - loss: 0.9742 - accuracy: 0.4067\n",
      "Epoch 5/30\n",
      "15/15 [==============================] - 0s 1ms/step - loss: 0.8970 - accuracy: 0.6800\n",
      "Epoch 6/30\n",
      "15/15 [==============================] - 0s 2ms/step - loss: 0.8319 - accuracy: 0.7133\n",
      "Epoch 7/30\n",
      "15/15 [==============================] - 0s 2ms/step - loss: 0.7713 - accuracy: 0.7400\n",
      "Epoch 8/30\n",
      "15/15 [==============================] - 0s 1ms/step - loss: 0.7194 - accuracy: 0.8000\n",
      "Epoch 9/30\n",
      "15/15 [==============================] - 0s 2ms/step - loss: 0.6729 - accuracy: 0.7533\n",
      "Epoch 10/30\n",
      "15/15 [==============================] - 0s 2ms/step - loss: 0.6316 - accuracy: 0.8067\n",
      "Epoch 11/30\n",
      "15/15 [==============================] - 0s 2ms/step - loss: 0.5981 - accuracy: 0.8533\n",
      "Epoch 12/30\n",
      "15/15 [==============================] - 0s 2ms/step - loss: 0.5702 - accuracy: 0.8667\n",
      "Epoch 13/30\n",
      "15/15 [==============================] - 0s 2ms/step - loss: 0.5430 - accuracy: 0.8333\n",
      "Epoch 14/30\n",
      "15/15 [==============================] - 0s 2ms/step - loss: 0.5206 - accuracy: 0.8467\n",
      "Epoch 15/30\n",
      "15/15 [==============================] - 0s 2ms/step - loss: 0.5004 - accuracy: 0.8667\n",
      "Epoch 16/30\n",
      "15/15 [==============================] - 0s 2ms/step - loss: 0.4829 - accuracy: 0.8867\n",
      "Epoch 17/30\n",
      "15/15 [==============================] - 0s 2ms/step - loss: 0.4674 - accuracy: 0.9000\n",
      "Epoch 18/30\n",
      "15/15 [==============================] - 0s 2ms/step - loss: 0.4537 - accuracy: 0.9133\n",
      "Epoch 19/30\n",
      "15/15 [==============================] - 0s 2ms/step - loss: 0.4371 - accuracy: 0.9067\n",
      "Epoch 20/30\n",
      "15/15 [==============================] - 0s 2ms/step - loss: 0.4252 - accuracy: 0.9133\n",
      "Epoch 21/30\n",
      "15/15 [==============================] - 0s 2ms/step - loss: 0.4143 - accuracy: 0.9333\n",
      "Epoch 22/30\n",
      "15/15 [==============================] - 0s 2ms/step - loss: 0.4047 - accuracy: 0.9133\n",
      "Epoch 23/30\n",
      "15/15 [==============================] - 0s 2ms/step - loss: 0.4045 - accuracy: 0.9200\n",
      "Epoch 24/30\n",
      "15/15 [==============================] - 0s 2ms/step - loss: 0.3875 - accuracy: 0.9000\n",
      "Epoch 25/30\n",
      "15/15 [==============================] - 0s 1ms/step - loss: 0.3755 - accuracy: 0.9267\n",
      "Epoch 26/30\n",
      "15/15 [==============================] - 0s 2ms/step - loss: 0.3639 - accuracy: 0.9467\n",
      "Epoch 27/30\n",
      "15/15 [==============================] - 0s 2ms/step - loss: 0.3573 - accuracy: 0.9400\n",
      "Epoch 28/30\n",
      "15/15 [==============================] - 0s 2ms/step - loss: 0.3501 - accuracy: 0.9667\n",
      "Epoch 29/30\n",
      "15/15 [==============================] - 0s 2ms/step - loss: 0.3387 - accuracy: 0.9533\n",
      "Epoch 30/30\n",
      "15/15 [==============================] - 0s 2ms/step - loss: 0.3347 - accuracy: 0.9267\n"
     ]
    },
    {
     "data": {
      "text/plain": [
       "<keras.callbacks.History at 0x2188a077c50>"
      ]
     },
     "execution_count": 2,
     "metadata": {},
     "output_type": "execute_result"
    }
   ],
   "source": [
    "# 딥러닝 구동하는데 필요한 케라스 함수 불러오기\n",
    "from tensorflow.keras.models import Sequential\n",
    "from tensorflow.keras.layers import Dense\n",
    "from sklearn.datasets import load_iris\n",
    "import tensorflow as tf\n",
    "\n",
    "iris = load_iris()\n",
    "\n",
    "features = iris.data\n",
    "labels = iris.target\n",
    "\n",
    "one_hot_labels = tf.one_hot(labels, 3)\n",
    "\n",
    "model = Sequential()\n",
    "model.add(Dense(30, input_dim=4, activation='relu')) # 30이 node의 개수, input_dim은 피쳐의 개수, activation 은 필터 함수\n",
    "model.add(Dense(3, activation='softmax'))\n",
    "\n",
    "model.compile(loss='categorical_crossentropy', optimizer='adam', metrics=['accuracy'])\n",
    "model.fit(features, one_hot_labels, epochs=30, batch_size=10)\n",
    "\n",
    "\n",
    "# 필요한 라이브러리 불러오기\n",
    "#import numpy as np\n",
    "#import tensorflow as tf\n",
    "\n",
    "# 실행할때마다 같은 결과를 출력하기 위해 설정\n",
    "#np.random.seed(3)\n",
    "#tf.random.set_seed(3)\n",
    "\n",
    "# 데이터 로드\n",
    "#data_set = np.loadtxt('')\n",
    "\n",
    "# X, Y로 구분하여 저장\n",
    "#X = data_set[,]\n",
    "#Y = data_set[,]\n",
    "\n",
    "# 딥러닝 구조를 결정(모델 설정, 실행)\n",
    "#model = Sequential()\n",
    "#model.add(Dense(30, input_dim=17, activation='relu'))\n",
    "#model.add(Dense(1, activation='sigmoid'))\n",
    "\n",
    "# 딥러닝을 실행\n",
    "#model.compile(loss='binary_crossentropy', optimizer='adam', metrics=['accuracy'])\n",
    "#model.fit(X, Y, epochs=100, batch_size=10)"
   ]
  },
  {
   "cell_type": "code",
   "execution_count": null,
   "id": "f3f13d64",
   "metadata": {},
   "outputs": [],
   "source": []
  }
 ],
 "metadata": {
  "kernelspec": {
   "display_name": "Python 3 (ipykernel)",
   "language": "python",
   "name": "python3"
  },
  "language_info": {
   "codemirror_mode": {
    "name": "ipython",
    "version": 3
   },
   "file_extension": ".py",
   "mimetype": "text/x-python",
   "name": "python",
   "nbconvert_exporter": "python",
   "pygments_lexer": "ipython3",
   "version": "3.11.1"
  },
  "toc": {
   "base_numbering": 1,
   "nav_menu": {},
   "number_sections": true,
   "sideBar": true,
   "skip_h1_title": false,
   "title_cell": "Table of Contents",
   "title_sidebar": "Contents",
   "toc_cell": false,
   "toc_position": {},
   "toc_section_display": true,
   "toc_window_display": false
  },
  "varInspector": {
   "cols": {
    "lenName": 16,
    "lenType": 16,
    "lenVar": 40
   },
   "kernels_config": {
    "python": {
     "delete_cmd_postfix": "",
     "delete_cmd_prefix": "del ",
     "library": "var_list.py",
     "varRefreshCmd": "print(var_dic_list())"
    },
    "r": {
     "delete_cmd_postfix": ") ",
     "delete_cmd_prefix": "rm(",
     "library": "var_list.r",
     "varRefreshCmd": "cat(var_dic_list()) "
    }
   },
   "types_to_exclude": [
    "module",
    "function",
    "builtin_function_or_method",
    "instance",
    "_Feature"
   ],
   "window_display": false
  }
 },
 "nbformat": 4,
 "nbformat_minor": 5
}
