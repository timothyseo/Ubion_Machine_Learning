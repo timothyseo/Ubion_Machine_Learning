{
 "cells": [
  {
   "cell_type": "code",
   "execution_count": 1,
   "id": "3bf6e400",
   "metadata": {
    "ExecuteTime": {
     "end_time": "2023-01-31T00:12:40.211181Z",
     "start_time": "2023-01-31T00:12:28.806689Z"
    }
   },
   "outputs": [
    {
     "data": {
      "text/html": [
       "<div>\n",
       "<style scoped>\n",
       "    .dataframe tbody tr th:only-of-type {\n",
       "        vertical-align: middle;\n",
       "    }\n",
       "\n",
       "    .dataframe tbody tr th {\n",
       "        vertical-align: top;\n",
       "    }\n",
       "\n",
       "    .dataframe thead th {\n",
       "        text-align: right;\n",
       "    }\n",
       "</style>\n",
       "<table border=\"1\" class=\"dataframe\">\n",
       "  <thead>\n",
       "    <tr style=\"text-align: right;\">\n",
       "      <th></th>\n",
       "      <th>PassengerId</th>\n",
       "      <th>Survived</th>\n",
       "      <th>Pclass</th>\n",
       "      <th>Name</th>\n",
       "      <th>Sex</th>\n",
       "      <th>Age</th>\n",
       "      <th>SibSp</th>\n",
       "      <th>Parch</th>\n",
       "      <th>Ticket</th>\n",
       "      <th>Fare</th>\n",
       "      <th>Cabin</th>\n",
       "      <th>Embarked</th>\n",
       "    </tr>\n",
       "  </thead>\n",
       "  <tbody>\n",
       "    <tr>\n",
       "      <th>0</th>\n",
       "      <td>1</td>\n",
       "      <td>0</td>\n",
       "      <td>3</td>\n",
       "      <td>Braund, Mr. Owen Harris</td>\n",
       "      <td>male</td>\n",
       "      <td>22.0</td>\n",
       "      <td>1</td>\n",
       "      <td>0</td>\n",
       "      <td>A/5 21171</td>\n",
       "      <td>7.2500</td>\n",
       "      <td>NaN</td>\n",
       "      <td>S</td>\n",
       "    </tr>\n",
       "    <tr>\n",
       "      <th>1</th>\n",
       "      <td>2</td>\n",
       "      <td>1</td>\n",
       "      <td>1</td>\n",
       "      <td>Cumings, Mrs. John Bradley (Florence Briggs Th...</td>\n",
       "      <td>female</td>\n",
       "      <td>38.0</td>\n",
       "      <td>1</td>\n",
       "      <td>0</td>\n",
       "      <td>PC 17599</td>\n",
       "      <td>71.2833</td>\n",
       "      <td>C85</td>\n",
       "      <td>C</td>\n",
       "    </tr>\n",
       "  </tbody>\n",
       "</table>\n",
       "</div>"
      ],
      "text/plain": [
       "   PassengerId  Survived  Pclass  \\\n",
       "0            1         0       3   \n",
       "1            2         1       1   \n",
       "\n",
       "                                                Name     Sex   Age  SibSp  \\\n",
       "0                            Braund, Mr. Owen Harris    male  22.0      1   \n",
       "1  Cumings, Mrs. John Bradley (Florence Briggs Th...  female  38.0      1   \n",
       "\n",
       "   Parch     Ticket     Fare Cabin Embarked  \n",
       "0      0  A/5 21171   7.2500   NaN        S  \n",
       "1      0   PC 17599  71.2833   C85        C  "
      ]
     },
     "execution_count": 1,
     "metadata": {},
     "output_type": "execute_result"
    }
   ],
   "source": [
    "import numpy as np\n",
    "import pandas as pd\n",
    "import matplotlib.pyplot as plt\n",
    "import seaborn as sns\n",
    "%matplotlib inline\n",
    "\n",
    "titanic_df = pd.read_csv('c:/Users/seopa/Downloads/titanic_train.csv')\n",
    "titanic_df.head(2)"
   ]
  },
  {
   "cell_type": "code",
   "execution_count": 2,
   "id": "dd55d3a5",
   "metadata": {
    "ExecuteTime": {
     "end_time": "2023-01-31T00:12:52.409530Z",
     "start_time": "2023-01-31T00:12:52.398098Z"
    },
    "scrolled": true
   },
   "outputs": [
    {
     "name": "stdout",
     "output_type": "stream",
     "text": [
      "<class 'pandas.core.frame.DataFrame'>\n",
      "RangeIndex: 891 entries, 0 to 890\n",
      "Data columns (total 12 columns):\n",
      " #   Column       Non-Null Count  Dtype  \n",
      "---  ------       --------------  -----  \n",
      " 0   PassengerId  891 non-null    int64  \n",
      " 1   Survived     891 non-null    int64  \n",
      " 2   Pclass       891 non-null    int64  \n",
      " 3   Name         891 non-null    object \n",
      " 4   Sex          891 non-null    object \n",
      " 5   Age          714 non-null    float64\n",
      " 6   SibSp        891 non-null    int64  \n",
      " 7   Parch        891 non-null    int64  \n",
      " 8   Ticket       891 non-null    object \n",
      " 9   Fare         891 non-null    float64\n",
      " 10  Cabin        204 non-null    object \n",
      " 11  Embarked     889 non-null    object \n",
      "dtypes: float64(2), int64(5), object(5)\n",
      "memory usage: 83.7+ KB\n"
     ]
    }
   ],
   "source": [
    "titanic_df.info()"
   ]
  },
  {
   "cell_type": "code",
   "execution_count": 3,
   "id": "5b394dac",
   "metadata": {
    "ExecuteTime": {
     "end_time": "2023-01-31T00:15:02.640264Z",
     "start_time": "2023-01-31T00:15:02.632099Z"
    }
   },
   "outputs": [],
   "source": [
    "titanic_df['Age'].fillna(titanic_df['Age'].mean(), inplace=True)\n",
    "titanic_df['Cabin'].fillna('N', inplace=True)\n",
    "titanic_df['Embarked'].fillna('S', inplace=True)\n",
    "titanic_df['Fare'].fillna('N', inplace=True)"
   ]
  },
  {
   "cell_type": "code",
   "execution_count": 5,
   "id": "3922f1d2",
   "metadata": {
    "ExecuteTime": {
     "end_time": "2023-01-31T00:15:33.502878Z",
     "start_time": "2023-01-31T00:15:33.492471Z"
    }
   },
   "outputs": [
    {
     "name": "stdout",
     "output_type": "stream",
     "text": [
      "<class 'pandas.core.frame.DataFrame'>\n",
      "RangeIndex: 891 entries, 0 to 890\n",
      "Data columns (total 12 columns):\n",
      " #   Column       Non-Null Count  Dtype  \n",
      "---  ------       --------------  -----  \n",
      " 0   PassengerId  891 non-null    int64  \n",
      " 1   Survived     891 non-null    int64  \n",
      " 2   Pclass       891 non-null    int64  \n",
      " 3   Name         891 non-null    object \n",
      " 4   Sex          891 non-null    object \n",
      " 5   Age          891 non-null    float64\n",
      " 6   SibSp        891 non-null    int64  \n",
      " 7   Parch        891 non-null    int64  \n",
      " 8   Ticket       891 non-null    object \n",
      " 9   Fare         891 non-null    float64\n",
      " 10  Cabin        891 non-null    object \n",
      " 11  Embarked     891 non-null    object \n",
      "dtypes: float64(2), int64(5), object(5)\n",
      "memory usage: 83.7+ KB\n"
     ]
    }
   ],
   "source": [
    "titanic_df.info()"
   ]
  },
  {
   "cell_type": "code",
   "execution_count": 6,
   "id": "22cf4067",
   "metadata": {
    "ExecuteTime": {
     "end_time": "2023-01-31T00:17:22.475499Z",
     "start_time": "2023-01-31T00:17:22.435904Z"
    }
   },
   "outputs": [],
   "source": [
    "titanic_df_test = pd.read_csv('c:/Users/seopa/Downloads/titanic_test.csv')"
   ]
  },
  {
   "cell_type": "code",
   "execution_count": 7,
   "id": "2da2255d",
   "metadata": {
    "ExecuteTime": {
     "end_time": "2023-01-31T00:17:25.174229Z",
     "start_time": "2023-01-31T00:17:25.163232Z"
    }
   },
   "outputs": [
    {
     "name": "stdout",
     "output_type": "stream",
     "text": [
      "<class 'pandas.core.frame.DataFrame'>\n",
      "RangeIndex: 418 entries, 0 to 417\n",
      "Data columns (total 11 columns):\n",
      " #   Column       Non-Null Count  Dtype  \n",
      "---  ------       --------------  -----  \n",
      " 0   PassengerId  418 non-null    int64  \n",
      " 1   Pclass       418 non-null    int64  \n",
      " 2   Name         418 non-null    object \n",
      " 3   Sex          418 non-null    object \n",
      " 4   Age          332 non-null    float64\n",
      " 5   SibSp        418 non-null    int64  \n",
      " 6   Parch        418 non-null    int64  \n",
      " 7   Ticket       418 non-null    object \n",
      " 8   Fare         417 non-null    float64\n",
      " 9   Cabin        91 non-null     object \n",
      " 10  Embarked     418 non-null    object \n",
      "dtypes: float64(2), int64(4), object(5)\n",
      "memory usage: 36.0+ KB\n"
     ]
    }
   ],
   "source": [
    "titanic_df_test.info()"
   ]
  },
  {
   "cell_type": "code",
   "execution_count": 8,
   "id": "b1a0c8d6",
   "metadata": {
    "ExecuteTime": {
     "end_time": "2023-01-31T00:18:03.505432Z",
     "start_time": "2023-01-31T00:18:03.499114Z"
    }
   },
   "outputs": [],
   "source": [
    "titanic_df_test['Age'].fillna(titanic_df['Age'].mean(), inplace=True)\n",
    "titanic_df_test['Cabin'].fillna('N', inplace=True)\n",
    "titanic_df_test['Fare'].fillna('N', inplace=True)"
   ]
  },
  {
   "cell_type": "code",
   "execution_count": 9,
   "id": "df05f547",
   "metadata": {
    "ExecuteTime": {
     "end_time": "2023-01-31T00:18:07.224012Z",
     "start_time": "2023-01-31T00:18:07.214481Z"
    }
   },
   "outputs": [
    {
     "name": "stdout",
     "output_type": "stream",
     "text": [
      "<class 'pandas.core.frame.DataFrame'>\n",
      "RangeIndex: 418 entries, 0 to 417\n",
      "Data columns (total 11 columns):\n",
      " #   Column       Non-Null Count  Dtype  \n",
      "---  ------       --------------  -----  \n",
      " 0   PassengerId  418 non-null    int64  \n",
      " 1   Pclass       418 non-null    int64  \n",
      " 2   Name         418 non-null    object \n",
      " 3   Sex          418 non-null    object \n",
      " 4   Age          418 non-null    float64\n",
      " 5   SibSp        418 non-null    int64  \n",
      " 6   Parch        418 non-null    int64  \n",
      " 7   Ticket       418 non-null    object \n",
      " 8   Fare         418 non-null    object \n",
      " 9   Cabin        418 non-null    object \n",
      " 10  Embarked     418 non-null    object \n",
      "dtypes: float64(1), int64(4), object(6)\n",
      "memory usage: 36.0+ KB\n"
     ]
    }
   ],
   "source": [
    "titanic_df_test.info()"
   ]
  },
  {
   "cell_type": "code",
   "execution_count": 10,
   "id": "0d2af730",
   "metadata": {
    "ExecuteTime": {
     "end_time": "2023-01-31T00:18:11.387827Z",
     "start_time": "2023-01-31T00:18:11.381669Z"
    }
   },
   "outputs": [
    {
     "name": "stdout",
     "output_type": "stream",
     "text": [
      "성별의 값 분포: male      577\n",
      "female    314\n",
      "Name: Sex, dtype: int64\n"
     ]
    }
   ],
   "source": [
    "print(f'성별의 값 분포: {titanic_df[\"Sex\"].value_counts()}')"
   ]
  },
  {
   "cell_type": "code",
   "execution_count": 11,
   "id": "945de26e",
   "metadata": {
    "ExecuteTime": {
     "end_time": "2023-01-31T00:18:13.757992Z",
     "start_time": "2023-01-31T00:18:13.751450Z"
    }
   },
   "outputs": [
    {
     "name": "stdout",
     "output_type": "stream",
     "text": [
      "Cabin의 값 분포: N              687\n",
      "C23 C25 C27      4\n",
      "G6               4\n",
      "B96 B98          4\n",
      "C22 C26          3\n",
      "              ... \n",
      "E34              1\n",
      "C7               1\n",
      "C54              1\n",
      "E36              1\n",
      "C148             1\n",
      "Name: Cabin, Length: 148, dtype: int64\n"
     ]
    }
   ],
   "source": [
    "print(f'Cabin의 값 분포: {titanic_df[\"Cabin\"].value_counts()}')"
   ]
  },
  {
   "cell_type": "code",
   "execution_count": 12,
   "id": "94f767f8",
   "metadata": {
    "ExecuteTime": {
     "end_time": "2023-01-31T00:18:15.592528Z",
     "start_time": "2023-01-31T00:18:15.586659Z"
    }
   },
   "outputs": [
    {
     "name": "stdout",
     "output_type": "stream",
     "text": [
      "Embarked의 값 분포: S    646\n",
      "C    168\n",
      "Q     77\n",
      "Name: Embarked, dtype: int64\n"
     ]
    }
   ],
   "source": [
    "print(f'Embarked의 값 분포: {titanic_df[\"Embarked\"].value_counts()}')"
   ]
  },
  {
   "cell_type": "code",
   "execution_count": 13,
   "id": "bbbdd6ed",
   "metadata": {
    "ExecuteTime": {
     "end_time": "2023-01-31T00:18:44.966775Z",
     "start_time": "2023-01-31T00:18:43.731986Z"
    }
   },
   "outputs": [],
   "source": [
    "from sklearn.preprocessing import LabelEncoder\n",
    "\n",
    "def fillna(df):\n",
    "    df['Age'].fillna(df['Age'].mean(), inplace=True)\n",
    "    df['Cabin'].fillna('N', inplace=True)\n",
    "    df['Embarked'].fillna('N', inplace=True)\n",
    "    df['Fare'].fillna(0, inplace=True)\n",
    "    return df\n",
    "\n",
    "def drop_features(df):\n",
    "    df.drop(['PassengerId','Name','SibSp','Ticket','Parch','Fare'], axis=1, inplace=True)\n",
    "    return df\n",
    "\n",
    "def format_features(df):\n",
    "    df['Cabin'] = df['Cabin'].str[:1]\n",
    "    features = ['Cabin', 'Sex', 'Embarked']\n",
    "    for feature in features:\n",
    "        le = LabelEncoder()\n",
    "        df[feature] = le.fit_transform(df[feature])\n",
    "    return df\n",
    "\n",
    "def transform_features(df):\n",
    "    df = fillna(df)\n",
    "    df = drop_features(df)\n",
    "    df = format_features(df)\n",
    "    return df"
   ]
  },
  {
   "cell_type": "code",
   "execution_count": 14,
   "id": "508b14f1",
   "metadata": {
    "ExecuteTime": {
     "end_time": "2023-01-31T00:18:53.048389Z",
     "start_time": "2023-01-31T00:18:53.035204Z"
    }
   },
   "outputs": [],
   "source": [
    "import pandas as pd\n",
    "titanic_df = pd.read_csv('c:/Users/seopa/Downloads/titanic_train.csv')\n",
    "titanic_df_test = pd.read_csv('c:/Users/seopa/Downloads/titanic_test.csv')"
   ]
  },
  {
   "cell_type": "code",
   "execution_count": 15,
   "id": "6d0e6a4c",
   "metadata": {
    "ExecuteTime": {
     "end_time": "2023-01-31T00:18:56.284387Z",
     "start_time": "2023-01-31T00:18:56.249792Z"
    }
   },
   "outputs": [],
   "source": [
    "titanic_df = transform_features(titanic_df)\n",
    "titanic_df_test = transform_features(titanic_df_test)\n",
    "    "
   ]
  },
  {
   "cell_type": "markdown",
   "id": "8cab379f",
   "metadata": {},
   "source": [
    "### Features 와 label 분리"
   ]
  },
  {
   "cell_type": "code",
   "execution_count": 17,
   "id": "de6e6e1a",
   "metadata": {
    "ExecuteTime": {
     "end_time": "2023-01-31T00:19:23.099494Z",
     "start_time": "2023-01-31T00:19:23.093840Z"
    }
   },
   "outputs": [],
   "source": [
    "label = titanic_df['Survived']\n",
    "features = titanic_df.drop(columns='Survived')"
   ]
  },
  {
   "cell_type": "code",
   "execution_count": 19,
   "id": "869849ec",
   "metadata": {
    "ExecuteTime": {
     "end_time": "2023-01-31T00:19:47.807411Z",
     "start_time": "2023-01-31T00:19:47.799738Z"
    }
   },
   "outputs": [
    {
     "data": {
      "text/plain": [
       "0      0\n",
       "1      1\n",
       "2      1\n",
       "3      1\n",
       "4      0\n",
       "      ..\n",
       "886    0\n",
       "887    1\n",
       "888    0\n",
       "889    1\n",
       "890    0\n",
       "Name: Survived, Length: 891, dtype: int64"
      ]
     },
     "execution_count": 19,
     "metadata": {},
     "output_type": "execute_result"
    }
   ],
   "source": [
    "label"
   ]
  },
  {
   "cell_type": "code",
   "execution_count": 18,
   "id": "6f418d24",
   "metadata": {
    "ExecuteTime": {
     "end_time": "2023-01-31T00:19:25.025256Z",
     "start_time": "2023-01-31T00:19:25.013232Z"
    }
   },
   "outputs": [
    {
     "data": {
      "text/html": [
       "<div>\n",
       "<style scoped>\n",
       "    .dataframe tbody tr th:only-of-type {\n",
       "        vertical-align: middle;\n",
       "    }\n",
       "\n",
       "    .dataframe tbody tr th {\n",
       "        vertical-align: top;\n",
       "    }\n",
       "\n",
       "    .dataframe thead th {\n",
       "        text-align: right;\n",
       "    }\n",
       "</style>\n",
       "<table border=\"1\" class=\"dataframe\">\n",
       "  <thead>\n",
       "    <tr style=\"text-align: right;\">\n",
       "      <th></th>\n",
       "      <th>Pclass</th>\n",
       "      <th>Sex</th>\n",
       "      <th>Age</th>\n",
       "      <th>Cabin</th>\n",
       "      <th>Embarked</th>\n",
       "    </tr>\n",
       "  </thead>\n",
       "  <tbody>\n",
       "    <tr>\n",
       "      <th>0</th>\n",
       "      <td>3</td>\n",
       "      <td>1</td>\n",
       "      <td>22.000000</td>\n",
       "      <td>7</td>\n",
       "      <td>3</td>\n",
       "    </tr>\n",
       "    <tr>\n",
       "      <th>1</th>\n",
       "      <td>1</td>\n",
       "      <td>0</td>\n",
       "      <td>38.000000</td>\n",
       "      <td>2</td>\n",
       "      <td>0</td>\n",
       "    </tr>\n",
       "    <tr>\n",
       "      <th>2</th>\n",
       "      <td>3</td>\n",
       "      <td>0</td>\n",
       "      <td>26.000000</td>\n",
       "      <td>7</td>\n",
       "      <td>3</td>\n",
       "    </tr>\n",
       "    <tr>\n",
       "      <th>3</th>\n",
       "      <td>1</td>\n",
       "      <td>0</td>\n",
       "      <td>35.000000</td>\n",
       "      <td>2</td>\n",
       "      <td>3</td>\n",
       "    </tr>\n",
       "    <tr>\n",
       "      <th>4</th>\n",
       "      <td>3</td>\n",
       "      <td>1</td>\n",
       "      <td>35.000000</td>\n",
       "      <td>7</td>\n",
       "      <td>3</td>\n",
       "    </tr>\n",
       "    <tr>\n",
       "      <th>...</th>\n",
       "      <td>...</td>\n",
       "      <td>...</td>\n",
       "      <td>...</td>\n",
       "      <td>...</td>\n",
       "      <td>...</td>\n",
       "    </tr>\n",
       "    <tr>\n",
       "      <th>886</th>\n",
       "      <td>2</td>\n",
       "      <td>1</td>\n",
       "      <td>27.000000</td>\n",
       "      <td>7</td>\n",
       "      <td>3</td>\n",
       "    </tr>\n",
       "    <tr>\n",
       "      <th>887</th>\n",
       "      <td>1</td>\n",
       "      <td>0</td>\n",
       "      <td>19.000000</td>\n",
       "      <td>1</td>\n",
       "      <td>3</td>\n",
       "    </tr>\n",
       "    <tr>\n",
       "      <th>888</th>\n",
       "      <td>3</td>\n",
       "      <td>0</td>\n",
       "      <td>29.699118</td>\n",
       "      <td>7</td>\n",
       "      <td>3</td>\n",
       "    </tr>\n",
       "    <tr>\n",
       "      <th>889</th>\n",
       "      <td>1</td>\n",
       "      <td>1</td>\n",
       "      <td>26.000000</td>\n",
       "      <td>2</td>\n",
       "      <td>0</td>\n",
       "    </tr>\n",
       "    <tr>\n",
       "      <th>890</th>\n",
       "      <td>3</td>\n",
       "      <td>1</td>\n",
       "      <td>32.000000</td>\n",
       "      <td>7</td>\n",
       "      <td>2</td>\n",
       "    </tr>\n",
       "  </tbody>\n",
       "</table>\n",
       "<p>891 rows × 5 columns</p>\n",
       "</div>"
      ],
      "text/plain": [
       "     Pclass  Sex        Age  Cabin  Embarked\n",
       "0         3    1  22.000000      7         3\n",
       "1         1    0  38.000000      2         0\n",
       "2         3    0  26.000000      7         3\n",
       "3         1    0  35.000000      2         3\n",
       "4         3    1  35.000000      7         3\n",
       "..      ...  ...        ...    ...       ...\n",
       "886       2    1  27.000000      7         3\n",
       "887       1    0  19.000000      1         3\n",
       "888       3    0  29.699118      7         3\n",
       "889       1    1  26.000000      2         0\n",
       "890       3    1  32.000000      7         2\n",
       "\n",
       "[891 rows x 5 columns]"
      ]
     },
     "execution_count": 18,
     "metadata": {},
     "output_type": "execute_result"
    }
   ],
   "source": [
    "features"
   ]
  },
  {
   "cell_type": "markdown",
   "id": "5c0495d0",
   "metadata": {},
   "source": [
    "#### datascaling"
   ]
  },
  {
   "cell_type": "code",
   "execution_count": 20,
   "id": "922bc7b6",
   "metadata": {
    "ExecuteTime": {
     "end_time": "2023-01-31T00:20:10.984642Z",
     "start_time": "2023-01-31T00:20:10.975397Z"
    }
   },
   "outputs": [],
   "source": [
    "# StandardScaler 를 이용한 Scaling\n",
    "\n",
    "from sklearn.preprocessing import StandardScaler\n",
    "\n",
    "scaler = StandardScaler()\n",
    "titanic_train_scaled = scaler.fit_transform(features)"
   ]
  },
  {
   "cell_type": "code",
   "execution_count": 21,
   "id": "da8ef6cd",
   "metadata": {
    "ExecuteTime": {
     "end_time": "2023-01-31T00:20:17.129398Z",
     "start_time": "2023-01-31T00:20:17.122137Z"
    }
   },
   "outputs": [
    {
     "data": {
      "text/plain": [
       "array([[ 0.82737724,  0.73769513, -0.5924806 ,  0.51129323,  0.56273365],\n",
       "       [-1.56610693, -1.35557354,  0.63878901, -1.91449093, -2.00852627],\n",
       "       [ 0.82737724, -1.35557354, -0.2846632 ,  0.51129323,  0.56273365],\n",
       "       ...,\n",
       "       [ 0.82737724, -1.35557354,  0.        ,  0.51129323,  0.56273365],\n",
       "       [-1.56610693,  0.73769513, -0.2846632 , -1.91449093, -2.00852627],\n",
       "       [ 0.82737724,  0.73769513,  0.17706291,  0.51129323, -0.29435299]])"
      ]
     },
     "execution_count": 21,
     "metadata": {},
     "output_type": "execute_result"
    }
   ],
   "source": [
    "titanic_train_scaled"
   ]
  },
  {
   "cell_type": "code",
   "execution_count": 22,
   "id": "d742b53b",
   "metadata": {
    "ExecuteTime": {
     "end_time": "2023-01-31T00:20:42.232553Z",
     "start_time": "2023-01-31T00:20:42.227551Z"
    }
   },
   "outputs": [],
   "source": [
    "df_scaled = pd.DataFrame(titanic_train_scaled, columns=['Pclass','Sex','Age','Cabin','Embarked'])"
   ]
  },
  {
   "cell_type": "code",
   "execution_count": 23,
   "id": "a140c7f1",
   "metadata": {
    "ExecuteTime": {
     "end_time": "2023-01-31T00:20:43.819443Z",
     "start_time": "2023-01-31T00:20:43.799324Z"
    }
   },
   "outputs": [
    {
     "data": {
      "text/html": [
       "<div>\n",
       "<style scoped>\n",
       "    .dataframe tbody tr th:only-of-type {\n",
       "        vertical-align: middle;\n",
       "    }\n",
       "\n",
       "    .dataframe tbody tr th {\n",
       "        vertical-align: top;\n",
       "    }\n",
       "\n",
       "    .dataframe thead th {\n",
       "        text-align: right;\n",
       "    }\n",
       "</style>\n",
       "<table border=\"1\" class=\"dataframe\">\n",
       "  <thead>\n",
       "    <tr style=\"text-align: right;\">\n",
       "      <th></th>\n",
       "      <th>Pclass</th>\n",
       "      <th>Sex</th>\n",
       "      <th>Age</th>\n",
       "      <th>Cabin</th>\n",
       "      <th>Embarked</th>\n",
       "    </tr>\n",
       "  </thead>\n",
       "  <tbody>\n",
       "    <tr>\n",
       "      <th>count</th>\n",
       "      <td>8.910000e+02</td>\n",
       "      <td>8.910000e+02</td>\n",
       "      <td>8.910000e+02</td>\n",
       "      <td>8.910000e+02</td>\n",
       "      <td>8.910000e+02</td>\n",
       "    </tr>\n",
       "    <tr>\n",
       "      <th>mean</th>\n",
       "      <td>-8.772133e-17</td>\n",
       "      <td>-1.156327e-16</td>\n",
       "      <td>2.232906e-16</td>\n",
       "      <td>-6.778466e-17</td>\n",
       "      <td>7.974666e-18</td>\n",
       "    </tr>\n",
       "    <tr>\n",
       "      <th>std</th>\n",
       "      <td>1.000562e+00</td>\n",
       "      <td>1.000562e+00</td>\n",
       "      <td>1.000562e+00</td>\n",
       "      <td>1.000562e+00</td>\n",
       "      <td>1.000562e+00</td>\n",
       "    </tr>\n",
       "    <tr>\n",
       "      <th>min</th>\n",
       "      <td>-1.566107e+00</td>\n",
       "      <td>-1.355574e+00</td>\n",
       "      <td>-2.253155e+00</td>\n",
       "      <td>-2.884805e+00</td>\n",
       "      <td>-2.008526e+00</td>\n",
       "    </tr>\n",
       "    <tr>\n",
       "      <th>25%</th>\n",
       "      <td>-3.693648e-01</td>\n",
       "      <td>-1.355574e+00</td>\n",
       "      <td>-5.924806e-01</td>\n",
       "      <td>5.112932e-01</td>\n",
       "      <td>-2.943530e-01</td>\n",
       "    </tr>\n",
       "    <tr>\n",
       "      <th>50%</th>\n",
       "      <td>8.273772e-01</td>\n",
       "      <td>7.376951e-01</td>\n",
       "      <td>0.000000e+00</td>\n",
       "      <td>5.112932e-01</td>\n",
       "      <td>5.627337e-01</td>\n",
       "    </tr>\n",
       "    <tr>\n",
       "      <th>75%</th>\n",
       "      <td>8.273772e-01</td>\n",
       "      <td>7.376951e-01</td>\n",
       "      <td>4.079260e-01</td>\n",
       "      <td>5.112932e-01</td>\n",
       "      <td>5.627337e-01</td>\n",
       "    </tr>\n",
       "    <tr>\n",
       "      <th>max</th>\n",
       "      <td>8.273772e-01</td>\n",
       "      <td>7.376951e-01</td>\n",
       "      <td>3.870872e+00</td>\n",
       "      <td>9.964501e-01</td>\n",
       "      <td>5.627337e-01</td>\n",
       "    </tr>\n",
       "  </tbody>\n",
       "</table>\n",
       "</div>"
      ],
      "text/plain": [
       "             Pclass           Sex           Age         Cabin      Embarked\n",
       "count  8.910000e+02  8.910000e+02  8.910000e+02  8.910000e+02  8.910000e+02\n",
       "mean  -8.772133e-17 -1.156327e-16  2.232906e-16 -6.778466e-17  7.974666e-18\n",
       "std    1.000562e+00  1.000562e+00  1.000562e+00  1.000562e+00  1.000562e+00\n",
       "min   -1.566107e+00 -1.355574e+00 -2.253155e+00 -2.884805e+00 -2.008526e+00\n",
       "25%   -3.693648e-01 -1.355574e+00 -5.924806e-01  5.112932e-01 -2.943530e-01\n",
       "50%    8.273772e-01  7.376951e-01  0.000000e+00  5.112932e-01  5.627337e-01\n",
       "75%    8.273772e-01  7.376951e-01  4.079260e-01  5.112932e-01  5.627337e-01\n",
       "max    8.273772e-01  7.376951e-01  3.870872e+00  9.964501e-01  5.627337e-01"
      ]
     },
     "execution_count": 23,
     "metadata": {},
     "output_type": "execute_result"
    }
   ],
   "source": [
    "df_scaled.describe()"
   ]
  },
  {
   "cell_type": "markdown",
   "id": "1a1fa705",
   "metadata": {},
   "source": [
    "#### decisionTree 를 활용한 예측"
   ]
  },
  {
   "cell_type": "code",
   "execution_count": 24,
   "id": "29c811bd",
   "metadata": {
    "ExecuteTime": {
     "end_time": "2023-01-31T00:20:54.817411Z",
     "start_time": "2023-01-31T00:20:53.005537Z"
    }
   },
   "outputs": [
    {
     "data": {
      "text/html": [
       "<style>#sk-container-id-1 {color: black;background-color: white;}#sk-container-id-1 pre{padding: 0;}#sk-container-id-1 div.sk-toggleable {background-color: white;}#sk-container-id-1 label.sk-toggleable__label {cursor: pointer;display: block;width: 100%;margin-bottom: 0;padding: 0.3em;box-sizing: border-box;text-align: center;}#sk-container-id-1 label.sk-toggleable__label-arrow:before {content: \"▸\";float: left;margin-right: 0.25em;color: #696969;}#sk-container-id-1 label.sk-toggleable__label-arrow:hover:before {color: black;}#sk-container-id-1 div.sk-estimator:hover label.sk-toggleable__label-arrow:before {color: black;}#sk-container-id-1 div.sk-toggleable__content {max-height: 0;max-width: 0;overflow: hidden;text-align: left;background-color: #f0f8ff;}#sk-container-id-1 div.sk-toggleable__content pre {margin: 0.2em;color: black;border-radius: 0.25em;background-color: #f0f8ff;}#sk-container-id-1 input.sk-toggleable__control:checked~div.sk-toggleable__content {max-height: 200px;max-width: 100%;overflow: auto;}#sk-container-id-1 input.sk-toggleable__control:checked~label.sk-toggleable__label-arrow:before {content: \"▾\";}#sk-container-id-1 div.sk-estimator input.sk-toggleable__control:checked~label.sk-toggleable__label {background-color: #d4ebff;}#sk-container-id-1 div.sk-label input.sk-toggleable__control:checked~label.sk-toggleable__label {background-color: #d4ebff;}#sk-container-id-1 input.sk-hidden--visually {border: 0;clip: rect(1px 1px 1px 1px);clip: rect(1px, 1px, 1px, 1px);height: 1px;margin: -1px;overflow: hidden;padding: 0;position: absolute;width: 1px;}#sk-container-id-1 div.sk-estimator {font-family: monospace;background-color: #f0f8ff;border: 1px dotted black;border-radius: 0.25em;box-sizing: border-box;margin-bottom: 0.5em;}#sk-container-id-1 div.sk-estimator:hover {background-color: #d4ebff;}#sk-container-id-1 div.sk-parallel-item::after {content: \"\";width: 100%;border-bottom: 1px solid gray;flex-grow: 1;}#sk-container-id-1 div.sk-label:hover label.sk-toggleable__label {background-color: #d4ebff;}#sk-container-id-1 div.sk-serial::before {content: \"\";position: absolute;border-left: 1px solid gray;box-sizing: border-box;top: 0;bottom: 0;left: 50%;z-index: 0;}#sk-container-id-1 div.sk-serial {display: flex;flex-direction: column;align-items: center;background-color: white;padding-right: 0.2em;padding-left: 0.2em;position: relative;}#sk-container-id-1 div.sk-item {position: relative;z-index: 1;}#sk-container-id-1 div.sk-parallel {display: flex;align-items: stretch;justify-content: center;background-color: white;position: relative;}#sk-container-id-1 div.sk-item::before, #sk-container-id-1 div.sk-parallel-item::before {content: \"\";position: absolute;border-left: 1px solid gray;box-sizing: border-box;top: 0;bottom: 0;left: 50%;z-index: -1;}#sk-container-id-1 div.sk-parallel-item {display: flex;flex-direction: column;z-index: 1;position: relative;background-color: white;}#sk-container-id-1 div.sk-parallel-item:first-child::after {align-self: flex-end;width: 50%;}#sk-container-id-1 div.sk-parallel-item:last-child::after {align-self: flex-start;width: 50%;}#sk-container-id-1 div.sk-parallel-item:only-child::after {width: 0;}#sk-container-id-1 div.sk-dashed-wrapped {border: 1px dashed gray;margin: 0 0.4em 0.5em 0.4em;box-sizing: border-box;padding-bottom: 0.4em;background-color: white;}#sk-container-id-1 div.sk-label label {font-family: monospace;font-weight: bold;display: inline-block;line-height: 1.2em;}#sk-container-id-1 div.sk-label-container {text-align: center;}#sk-container-id-1 div.sk-container {/* jupyter's `normalize.less` sets `[hidden] { display: none; }` but bootstrap.min.css set `[hidden] { display: none !important; }` so we also need the `!important` here to be able to override the default hidden behavior on the sphinx rendered scikit-learn.org. See: https://github.com/scikit-learn/scikit-learn/issues/21755 */display: inline-block !important;position: relative;}#sk-container-id-1 div.sk-text-repr-fallback {display: none;}</style><div id=\"sk-container-id-1\" class=\"sk-top-container\"><div class=\"sk-text-repr-fallback\"><pre>DecisionTreeClassifier(random_state=0)</pre><b>In a Jupyter environment, please rerun this cell to show the HTML representation or trust the notebook. <br />On GitHub, the HTML representation is unable to render, please try loading this page with nbviewer.org.</b></div><div class=\"sk-container\" hidden><div class=\"sk-item\"><div class=\"sk-estimator sk-toggleable\"><input class=\"sk-toggleable__control sk-hidden--visually\" id=\"sk-estimator-id-1\" type=\"checkbox\" checked><label for=\"sk-estimator-id-1\" class=\"sk-toggleable__label sk-toggleable__label-arrow\">DecisionTreeClassifier</label><div class=\"sk-toggleable__content\"><pre>DecisionTreeClassifier(random_state=0)</pre></div></div></div></div></div>"
      ],
      "text/plain": [
       "DecisionTreeClassifier(random_state=0)"
      ]
     },
     "execution_count": 24,
     "metadata": {},
     "output_type": "execute_result"
    }
   ],
   "source": [
    "from sklearn.tree import DecisionTreeClassifier\n",
    "\n",
    "clf = DecisionTreeClassifier(random_state=0)\n",
    "clf.fit(df_scaled, label)"
   ]
  },
  {
   "cell_type": "code",
   "execution_count": 37,
   "id": "f9b7fe39",
   "metadata": {
    "ExecuteTime": {
     "end_time": "2023-01-31T00:35:41.674982Z",
     "start_time": "2023-01-31T00:35:41.663287Z"
    }
   },
   "outputs": [
    {
     "name": "stderr",
     "output_type": "stream",
     "text": [
      "C:\\Users\\seopa\\AppData\\Local\\Programs\\Python\\Python311\\Lib\\site-packages\\sklearn\\base.py:420: UserWarning: X does not have valid feature names, but DecisionTreeClassifier was fitted with feature names\n",
      "  warnings.warn(\n"
     ]
    }
   ],
   "source": [
    "titanic_test_scaled = scaler.fit_transform(titanic_df_test)\n",
    "\n",
    "result = clf.predict(titanic_test_scaled)"
   ]
  },
  {
   "cell_type": "code",
   "execution_count": 26,
   "id": "c95533e7",
   "metadata": {
    "ExecuteTime": {
     "end_time": "2023-01-31T00:21:02.229775Z",
     "start_time": "2023-01-31T00:21:02.222500Z"
    }
   },
   "outputs": [
    {
     "data": {
      "text/plain": [
       "array([0, 0, 1, 0, 0, 1, 1, 0, 0, 0, 0, 1, 1, 1, 1, 1, 0, 1, 1, 0, 0, 0,\n",
       "       1, 0, 1, 0, 1, 0, 0, 0, 0, 0, 1, 0, 1, 0, 0, 0, 0, 0, 0, 1, 0, 1,\n",
       "       1, 0, 0, 0, 1, 1, 1, 0, 1, 1, 0, 0, 0, 0, 0, 1, 0, 0, 0, 0, 1, 1,\n",
       "       0, 1, 0, 1, 1, 0, 0, 1, 1, 0, 0, 1, 0, 1, 0, 0, 1, 0, 0, 0, 1, 1,\n",
       "       1, 1, 0, 0, 1, 0, 0, 0, 1, 0, 1, 0, 1, 0, 0, 0, 1, 1, 0, 0, 0, 0,\n",
       "       0, 1, 1, 0, 1, 0, 0, 1, 0, 1, 1, 0, 1, 1, 0, 0, 0, 1, 0, 0, 0, 0,\n",
       "       0, 0, 0, 0, 0, 0, 1, 0, 0, 1, 1, 0, 0, 0, 1, 0, 0, 0, 1, 0, 0, 1,\n",
       "       1, 0, 1, 1, 1, 0, 1, 0, 1, 0, 0, 0, 1, 0, 1, 0, 0, 0, 0, 0, 0, 1,\n",
       "       1, 0, 1, 1, 0, 1, 1, 0, 1, 0, 1, 0, 0, 0, 0, 0, 0, 0, 1, 0, 1, 1,\n",
       "       0, 0, 1, 1, 0, 1, 0, 0, 0, 0, 1, 0, 0, 0, 0, 0, 1, 0, 1, 0, 0, 0,\n",
       "       1, 0, 1, 0, 1, 0, 0, 1, 0, 0, 1, 1, 0, 0, 0, 0, 0, 1, 1, 1, 1, 1,\n",
       "       0, 0, 0, 1, 1, 0, 1, 0, 1, 0, 1, 0, 0, 0, 0, 1, 1, 0, 0, 0, 1, 1,\n",
       "       0, 0, 0, 0, 0, 0, 0, 0, 0, 1, 0, 1, 0, 0, 0, 0, 1, 1, 1, 0, 1, 0,\n",
       "       0, 1, 0, 0, 0, 1, 0, 0, 0, 0, 1, 0, 0, 0, 0, 0, 0, 0, 1, 1, 0, 1,\n",
       "       0, 0, 0, 0, 0, 0, 1, 1, 0, 0, 0, 0, 0, 0, 0, 1, 1, 0, 1, 1, 0, 0,\n",
       "       1, 1, 0, 0, 0, 0, 0, 0, 0, 0, 0, 0, 0, 1, 0, 0, 0, 0, 0, 1, 1, 0,\n",
       "       0, 0, 1, 0, 1, 0, 0, 0, 0, 1, 1, 0, 1, 0, 0, 0, 1, 0, 0, 1, 1, 0,\n",
       "       1, 1, 0, 0, 0, 0, 0, 0, 0, 0, 0, 1, 0, 0, 0, 0, 1, 1, 1, 0, 0, 1,\n",
       "       0, 1, 0, 0, 1, 0, 1, 1, 0, 0, 0, 0, 1, 0, 1, 1, 1, 0, 1, 0, 0, 0],\n",
       "      dtype=int64)"
      ]
     },
     "execution_count": 26,
     "metadata": {},
     "output_type": "execute_result"
    }
   ],
   "source": [
    "result"
   ]
  },
  {
   "cell_type": "code",
   "execution_count": 34,
   "id": "d837c643",
   "metadata": {
    "ExecuteTime": {
     "end_time": "2023-01-31T00:32:28.043740Z",
     "start_time": "2023-01-31T00:32:28.037231Z"
    }
   },
   "outputs": [],
   "source": [
    "y_test = pd.read_csv('c:/Users/seopa/Downloads/titanic_test_y.csv')"
   ]
  },
  {
   "cell_type": "code",
   "execution_count": 35,
   "id": "54f8ff14",
   "metadata": {
    "ExecuteTime": {
     "end_time": "2023-01-31T00:32:30.386114Z",
     "start_time": "2023-01-31T00:32:30.381599Z"
    }
   },
   "outputs": [],
   "source": [
    "y_test = y_test['Survived']"
   ]
  },
  {
   "cell_type": "code",
   "execution_count": 36,
   "id": "c95fd5eb",
   "metadata": {
    "ExecuteTime": {
     "end_time": "2023-01-31T00:32:32.905855Z",
     "start_time": "2023-01-31T00:32:32.898208Z"
    }
   },
   "outputs": [
    {
     "data": {
      "text/plain": [
       "0.8110047846889952"
      ]
     },
     "execution_count": 36,
     "metadata": {},
     "output_type": "execute_result"
    }
   ],
   "source": [
    "from sklearn.metrics import accuracy_score\n",
    "accuracy_score(y_test, result)"
   ]
  },
  {
   "cell_type": "code",
   "execution_count": 48,
   "id": "899b1733",
   "metadata": {
    "ExecuteTime": {
     "end_time": "2023-01-31T01:11:37.619007Z",
     "start_time": "2023-01-31T01:11:37.452967Z"
    }
   },
   "outputs": [
    {
     "name": "stdout",
     "output_type": "stream",
     "text": [
      "0.8110047846889952\n",
      "0.8181818181818182\n",
      "0.9473684210526315\n"
     ]
    },
    {
     "name": "stderr",
     "output_type": "stream",
     "text": [
      "C:\\Users\\seopa\\AppData\\Local\\Programs\\Python\\Python311\\Lib\\site-packages\\sklearn\\base.py:420: UserWarning: X does not have valid feature names, but DecisionTreeClassifier was fitted with feature names\n",
      "  warnings.warn(\n",
      "C:\\Users\\seopa\\AppData\\Local\\Programs\\Python\\Python311\\Lib\\site-packages\\sklearn\\base.py:420: UserWarning: X does not have valid feature names, but RandomForestClassifier was fitted with feature names\n",
      "  warnings.warn(\n",
      "C:\\Users\\seopa\\AppData\\Local\\Programs\\Python\\Python311\\Lib\\site-packages\\sklearn\\base.py:420: UserWarning: X does not have valid feature names, but LogisticRegression was fitted with feature names\n",
      "  warnings.warn(\n"
     ]
    }
   ],
   "source": [
    "from sklearn.tree import DecisionTreeClassifier\n",
    "from sklearn.ensemble import RandomForestClassifier\n",
    "from sklearn.linear_model import LogisticRegression\n",
    "from sklearn.metrics import accuracy_score\n",
    "\n",
    "df_clf = DecisionTreeClassifier(random_state=11)\n",
    "rf_clf = RandomForestClassifier(random_state=11)\n",
    "lr_clf = LogisticRegression()\n",
    "\n",
    "df_clf.fit(df_scaled, label)\n",
    "df_pred = df_clf.predict(titanic_test_scaled)\n",
    "print(accuracy_score(y_test, df_pred))\n",
    "\n",
    "rf_clf.fit(df_scaled, label)\n",
    "rf_pred = rf_clf.predict(titanic_test_scaled)\n",
    "print(accuracy_score(y_test, rf_pred))\n",
    "\n",
    "lr_clf.fit(df_scaled, label)\n",
    "lr_pred = lr_clf.predict(titanic_test_scaled)\n",
    "print(accuracy_score(y_test, lr_pred))\n"
   ]
  },
  {
   "cell_type": "code",
   "execution_count": null,
   "id": "c89f0511",
   "metadata": {
    "ExecuteTime": {
     "start_time": "2023-01-31T01:25:07.459Z"
    }
   },
   "outputs": [],
   "source": [
    "import numpy as np\n",
    "from sklearn.model_selection import cross_val_score\n",
    "\n",
    "scores = cross_val_score(df_clf, titanic_train_scaled, label, cv=5)\n",
    "\n",
    "for iter_count, accuracy in enumerate(scores):\n",
    "    print(iter_count, accuracy)\n",
    "\n",
    "print(np.mean(scores))"
   ]
  },
  {
   "cell_type": "code",
   "execution_count": 54,
   "id": "308835f2",
   "metadata": {
    "ExecuteTime": {
     "end_time": "2023-01-31T01:15:17.048223Z",
     "start_time": "2023-01-31T01:15:16.509170Z"
    }
   },
   "outputs": [
    {
     "name": "stdout",
     "output_type": "stream",
     "text": [
      "최적 하이퍼 파라미터: {'max_depth': 5, 'min_samples_leaf': 1, 'min_samples_split': 2}\n",
      "최고 정확도: 0.8170547988199109\n",
      "decisiontreeclassifier: 0.8875598086124402\n"
     ]
    },
    {
     "name": "stderr",
     "output_type": "stream",
     "text": [
      "C:\\Users\\seopa\\AppData\\Local\\Programs\\Python\\Python311\\Lib\\site-packages\\sklearn\\base.py:420: UserWarning: X does not have valid feature names, but DecisionTreeClassifier was fitted with feature names\n",
      "  warnings.warn(\n"
     ]
    }
   ],
   "source": [
    "from sklearn.model_selection import GridSearchCV\n",
    "\n",
    "parameters = {'max_depth':[2,3,5,10],'min_samples_split':[2,3,5], 'min_samples_leaf':[1,5,8]}\n",
    "\n",
    "grid_dclf = GridSearchCV(df_clf, param_grid=parameters, scoring='accuracy', cv=5)\n",
    "grid_dclf.fit(df_scaled, label)\n",
    "\n",
    "print('최적 하이퍼 파라미터:', grid_dclf.best_params_)\n",
    "print('최고 정확도:', grid_dclf.best_score_)\n",
    "best_dclf = grid_dclf.best_estimator_\n",
    "\n",
    "dpredictions = best_dclf.predict(titanic_test_scaled)\n",
    "accuracy = accuracy_score(y_test, dpredictions)\n",
    "print('decisiontreeclassifier:',accuracy)"
   ]
  },
  {
   "cell_type": "code",
   "execution_count": 59,
   "id": "6517ce4d",
   "metadata": {
    "ExecuteTime": {
     "end_time": "2023-01-31T04:14:48.646138Z",
     "start_time": "2023-01-31T04:14:48.641975Z"
    }
   },
   "outputs": [],
   "source": [
    "from sklearn.metrics import accuracy_score, precision_score, recall_score, confusion_matrix\n",
    "\n",
    "def get_clf_eval(y_test, pred):\n",
    "    confusion = confusion_matrix(y_test, pred)\n",
    "    accuracy = accuracy_score(y_test, pred)\n",
    "    precision = precision_score(y_test, pred)\n",
    "    recall = recall_score(y_test, pred)\n",
    "    \n",
    "    print('오차행렬')\n",
    "    print(confusion)\n",
    "    print('정확도:',round(accuracy,3),'정밀도:', round(precision,3),'재현률:', round(recall,3))\n"
   ]
  },
  {
   "cell_type": "code",
   "execution_count": 60,
   "id": "813d73f3",
   "metadata": {
    "ExecuteTime": {
     "end_time": "2023-01-31T04:14:52.541874Z",
     "start_time": "2023-01-31T04:14:52.534035Z"
    }
   },
   "outputs": [
    {
     "name": "stdout",
     "output_type": "stream",
     "text": [
      "오차행렬\n",
      "[[227  39]\n",
      " [ 40 112]]\n",
      "정확도: 0.811 정밀도: 0.742 재현률: 0.737\n"
     ]
    }
   ],
   "source": [
    "get_clf_eval(y_test, result)"
   ]
  },
  {
   "cell_type": "code",
   "execution_count": null,
   "id": "66d05cdb",
   "metadata": {},
   "outputs": [],
   "source": []
  }
 ],
 "metadata": {
  "kernelspec": {
   "display_name": "Python 3 (ipykernel)",
   "language": "python",
   "name": "python3"
  },
  "language_info": {
   "codemirror_mode": {
    "name": "ipython",
    "version": 3
   },
   "file_extension": ".py",
   "mimetype": "text/x-python",
   "name": "python",
   "nbconvert_exporter": "python",
   "pygments_lexer": "ipython3",
   "version": "3.11.1"
  },
  "toc": {
   "base_numbering": 1,
   "nav_menu": {},
   "number_sections": true,
   "sideBar": true,
   "skip_h1_title": false,
   "title_cell": "Table of Contents",
   "title_sidebar": "Contents",
   "toc_cell": false,
   "toc_position": {},
   "toc_section_display": true,
   "toc_window_display": false
  },
  "varInspector": {
   "cols": {
    "lenName": 16,
    "lenType": 16,
    "lenVar": 40
   },
   "kernels_config": {
    "python": {
     "delete_cmd_postfix": "",
     "delete_cmd_prefix": "del ",
     "library": "var_list.py",
     "varRefreshCmd": "print(var_dic_list())"
    },
    "r": {
     "delete_cmd_postfix": ") ",
     "delete_cmd_prefix": "rm(",
     "library": "var_list.r",
     "varRefreshCmd": "cat(var_dic_list()) "
    }
   },
   "types_to_exclude": [
    "module",
    "function",
    "builtin_function_or_method",
    "instance",
    "_Feature"
   ],
   "window_display": false
  }
 },
 "nbformat": 4,
 "nbformat_minor": 5
}
