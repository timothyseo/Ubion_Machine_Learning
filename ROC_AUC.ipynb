{
 "cells": [
  {
   "cell_type": "markdown",
   "id": "e5c8ea17",
   "metadata": {},
   "source": [
    "#### sklearn.metrics.roc_curve\n",
    "* sklearn.metrics.roc_curve(_y_true_, _y_score_, _*_, _pos_label=None_, _sample_weight=None_, _drop_intermediate=True_)[[source]](https://github.com/scikit-learn/scikit-learn/blob/f3f51f9b6/sklearn/metrics/_ranking.py#L892)[¶](https://scikit-learn.org/1.1/modules/generated/sklearn.metrics.roc_curve.html?highlight=roc+curve#sklearn.metrics.roc_curve \"Permalink to this definition\")\n",
    "Compute Receiver operating characteristic (ROC).\n",
    "\n",
    "Note: this implementation is restricted to the binary classification task.\n",
    "\n",
    "Read more in the  [User Guide](https://scikit-learn.org/1.1/modules/model_evaluation.html#roc-metrics).\n",
    "* Returns:\n",
    "\n",
    "**fpr**ndarray of shape (>2,)\n",
    "\n",
    "Increasing false positive rates such that element i is the false positive rate of predictions with score >=  `thresholds[i]`.\n",
    "\n",
    "**tpr**ndarray of shape (>2,)\n",
    "\n",
    "Increasing true positive rates such that element  `i`  is the true positive rate of predictions with score >=  `thresholds[i]`.\n",
    "\n",
    "**thresholds**ndarray of shape = (n_thresholds,)\n",
    "\n",
    "Decreasing thresholds on the decision function used to compute fpr and tpr.  `thresholds[0]`  represents no instances being predicted and is arbitrarily set to  `max(y_score)  +  1`."
   ]
  },
  {
   "cell_type": "code",
   "execution_count": 4,
   "id": "e9fc51b9",
   "metadata": {
    "ExecuteTime": {
     "end_time": "2023-01-31T23:30:00.520768Z",
     "start_time": "2023-01-31T23:30:00.481747Z"
    }
   },
   "outputs": [
    {
     "name": "stdout",
     "output_type": "stream",
     "text": [
      "[[0.90004657 0.09995343]\n",
      " [0.56777228 0.43222772]\n",
      " [0.89778678 0.10221322]]\n",
      "[0 0 0]\n"
     ]
    }
   ],
   "source": [
    "import pandas as pd\n",
    "\n",
    "tt_df = pd.read_csv('c:/Users/seopa/Downloads/titanic_train.csv')\n",
    "tt_df_test = pd.read_csv('c:/Users/seopa/Downloads/titanic_test.csv')\n",
    "\n",
    "from sklearn.preprocessing import LabelEncoder\n",
    "\n",
    "def fillna(df):\n",
    "    df['Age'].fillna(df['Age'].mean(), inplace=True)\n",
    "    df['Cabin'].fillna('N', inplace=True)\n",
    "    df['Embarked'].fillna('N', inplace=True)\n",
    "    df['Fare'].fillna(0, inplace=True)\n",
    "    return df\n",
    "\n",
    "def drop_features(df):\n",
    "    df.drop(['PassengerId','Name','SibSp','Ticket','Parch','Fare'], axis=1, inplace=True)\n",
    "    return df\n",
    "\n",
    "def format_features(df):\n",
    "    df['Cabin'] = df['Cabin'].str[:1]\n",
    "    features = ['Cabin', 'Sex', 'Embarked']\n",
    "    for feature in features:\n",
    "        le = LabelEncoder()\n",
    "        df[feature] = le.fit_transform(df[feature])\n",
    "    return df\n",
    "\n",
    "def transform_features(df):\n",
    "    df = fillna(df)\n",
    "    df = drop_features(df)\n",
    "    df = format_features(df)\n",
    "    return df\n",
    "\n",
    "tt_df_1 = transform_features(tt_df)\n",
    "tt_df_test_1 = transform_features(tt_df_test)\n",
    "\n",
    "# label, feature \n",
    "label = tt_df_1['Survived']\n",
    "features = tt_df_1.drop(columns='Survived')\n",
    "\n",
    "from sklearn.linear_model import LogisticRegression\n",
    "\n",
    "lr_clf = LogisticRegression()\n",
    "lr_clf.fit(features, label)\n",
    "lr_pred = lr_clf.predict(tt_df_test_1)\n",
    "\n",
    "pred_proba = lr_clf.predict_proba(tt_df_test_1)\n",
    "print(pred_proba[:3])\n",
    "print(lr_pred[:3])"
   ]
  },
  {
   "cell_type": "code",
   "execution_count": 5,
   "id": "9bd8fec5",
   "metadata": {
    "ExecuteTime": {
     "end_time": "2023-01-31T23:30:03.233017Z",
     "start_time": "2023-01-31T23:30:03.225029Z"
    }
   },
   "outputs": [],
   "source": [
    "import numpy as np\n",
    "from sklearn.metrics import accuracy_score, precision_score, recall_score, confusion_matrix\n",
    "\n",
    "y_test = pd.read_csv('c:/Users/seopa/Downloads/titanic_test_y.csv')\n",
    "y_test = y_test['Survived']\n",
    "threshold_arr = np.linspace(0, 1, num=20, endpoint=False)\n",
    "\n",
    "def get_clf_eval(y_test, pred):\n",
    "    precision = precision_score(y_test,pred)\n",
    "    recall = recall_score(y_test, pred)\n",
    "    return (precision, recall)"
   ]
  },
  {
   "cell_type": "code",
   "execution_count": 26,
   "id": "18fd3bad",
   "metadata": {
    "ExecuteTime": {
     "end_time": "2023-02-01T00:01:40.286840Z",
     "start_time": "2023-02-01T00:01:40.252164Z"
    }
   },
   "outputs": [
    {
     "name": "stdout",
     "output_type": "stream",
     "text": [
      "0.9287925696594427\n",
      "오차행렬\n",
      "[[223  43]\n",
      " [  0 152]]\n",
      "정확도: 0.897 정밀도: 0.779 재현률: 1.0\n",
      "오차행렬\n",
      "[[237  29]\n",
      " [  2 150]]\n",
      "정확도: 0.926 정밀도: 0.838 재현률: 0.987\n",
      "오차행렬\n",
      "[[245  21]\n",
      " [  2 150]]\n",
      "정확도: 0.945 정밀도: 0.877 재현률: 0.987\n",
      "오차행렬\n",
      "[[253  13]\n",
      " [  7 145]]\n",
      "정확도: 0.952 정밀도: 0.918 재현률: 0.954\n",
      "오차행렬\n",
      "[[258   8]\n",
      " [ 23 129]]\n",
      "정확도: 0.926 정밀도: 0.942 재현률: 0.849\n"
     ]
    }
   ],
   "source": [
    "from sklearn.preprocessing import Binarizer\n",
    "\n",
    "from sklearn.metrics import f1_score\n",
    "\n",
    "f1 = f1_score(y_test, lr_pred)\n",
    "print(f1)\n",
    "\n",
    "from sklearn.metrics import accuracy_score, precision_score, recall_score, confusion_matrix\n",
    "\n",
    "def get_clf_eval(y_test, pred):\n",
    "    confusion = confusion_matrix(y_test, pred)\n",
    "    accuracy = accuracy_score(y_test, pred)\n",
    "    precision = precision_score(y_test, pred)\n",
    "    recall = recall_score(y_test, pred)\n",
    "    f1 = f1_score(y_test, pred)\n",
    "    print('오차행렬')\n",
    "    print(confusion)\n",
    "    print('정확도:',round(accuracy,3),'정밀도:', round(precision,3),'재현률:', round(recall,3))\n",
    "\n",
    "\n",
    "def get_eval_by_threshold(y_test, pred_proba, thresholds):\n",
    "    for custom_threshold in thresholds:\n",
    "        binarizer = Binarizer(threshold=custom_threshold).fit(pred_proba)\n",
    "        custom_predict = binarizer.transform(pred_proba)\n",
    "        get_clf_eval(y_test, custom_predict)\n",
    "    \n",
    "thresholds = [0.4, 0.45, 0.50, 0.55, 0.60]\n",
    "pred_proba = lr_clf.predict_proba(tt_df_test_1)\n",
    "get_eval_by_threshold(y_test, pred_proba[:,1].reshape(-1,1),thresholds)"
   ]
  },
  {
   "cell_type": "code",
   "execution_count": 7,
   "id": "808d1b9c",
   "metadata": {
    "ExecuteTime": {
     "end_time": "2023-01-31T23:30:10.422137Z",
     "start_time": "2023-01-31T23:30:10.412648Z"
    }
   },
   "outputs": [
    {
     "name": "stdout",
     "output_type": "stream",
     "text": [
      "[0.         0.         0.         0.         0.         0.\n",
      " 0.         0.         0.         0.         0.         0.\n",
      " 0.         0.         0.         0.         0.         0.0037594\n",
      " 0.0037594  0.0075188  0.0075188  0.0075188  0.0075188  0.0075188\n",
      " 0.0075188  0.0075188  0.0112782  0.0112782  0.0112782  0.01503759\n",
      " 0.01503759 0.01879699 0.01879699 0.03007519 0.03007519 0.03383459\n",
      " 0.03383459 0.03759398 0.03759398 0.04135338 0.04135338 0.04511278\n",
      " 0.04511278 0.04511278 0.04887218 0.04887218 0.06015038 0.06015038\n",
      " 0.06766917 0.06766917 0.07518797 0.07518797 0.10902256 0.10902256\n",
      " 0.12030075 0.12030075 0.14285714 0.15789474 0.22932331 0.23684211\n",
      " 0.26315789 0.27443609 0.28947368 0.30075188 0.30827068 0.31954887\n",
      " 0.32706767 0.33834586 0.34210526 0.34962406 0.37218045 0.38721805\n",
      " 0.39473684 0.40225564 0.45112782 0.46240602 0.47368421 0.4887218\n",
      " 0.5075188  0.51503759 0.52255639 0.54511278 0.55639098 0.56390977\n",
      " 0.61278195 0.62030075 0.64661654 0.65037594 0.67293233 0.69548872\n",
      " 0.71052632 0.7518797  0.7556391  0.76691729 0.78195489 0.78571429\n",
      " 0.79699248 0.80451128 0.81203008 0.82330827 0.82706767 0.92105263\n",
      " 0.92481203 0.93984962 0.94360902 0.95112782 0.95864662 0.96616541\n",
      " 0.97368421 0.98120301 1.        ]\n",
      "[0.         0.00657895 0.07894737 0.09210526 0.16447368 0.17763158\n",
      " 0.25       0.26315789 0.30921053 0.32236842 0.39473684 0.41447368\n",
      " 0.46710526 0.48684211 0.51973684 0.53289474 0.53947368 0.53947368\n",
      " 0.55263158 0.55263158 0.61842105 0.64473684 0.66447368 0.67763158\n",
      " 0.69078947 0.72368421 0.72368421 0.74342105 0.75657895 0.75657895\n",
      " 0.83552632 0.83552632 0.84868421 0.84868421 0.85526316 0.85526316\n",
      " 0.86842105 0.86842105 0.875      0.875      0.88157895 0.88157895\n",
      " 0.88815789 0.94078947 0.94078947 0.96052632 0.96052632 0.96710526\n",
      " 0.96710526 0.98026316 0.98026316 0.98684211 0.98684211 0.99342105\n",
      " 0.99342105 1.         1.         1.         1.         1.\n",
      " 1.         1.         1.         1.         1.         1.\n",
      " 1.         1.         1.         1.         1.         1.\n",
      " 1.         1.         1.         1.         1.         1.\n",
      " 1.         1.         1.         1.         1.         1.\n",
      " 1.         1.         1.         1.         1.         1.\n",
      " 1.         1.         1.         1.         1.         1.\n",
      " 1.         1.         1.         1.         1.         1.\n",
      " 1.         1.         1.         1.         1.         1.\n",
      " 1.         1.         1.        ]\n"
     ]
    }
   ],
   "source": [
    "from sklearn.metrics import roc_curve\n",
    "import numpy as np\n",
    "\n",
    "pred_proba_class1 = lr_clf.predict_proba(tt_df_test_1)[:,1]\n",
    "\n",
    "fprs, tprs, thresholds = roc_curve(y_test,pred_proba_class1)\n",
    "\n",
    "thr_index = np.arange(1, thresholds.shape[0], 5)\n",
    "\n",
    "print(fprs)\n",
    "print(tprs)"
   ]
  },
  {
   "cell_type": "code",
   "execution_count": 10,
   "id": "221085cb",
   "metadata": {
    "ExecuteTime": {
     "end_time": "2023-01-31T23:34:47.299937Z",
     "start_time": "2023-01-31T23:34:47.186505Z"
    }
   },
   "outputs": [
    {
     "data": {
      "image/png": "[encoded data removed]",
      "text/plain": [
       "<Figure size 640x480 with 1 Axes>"
      ]
     },
     "metadata": {},
     "output_type": "display_data"
    }
   ],
   "source": [
    "import matplotlib.pyplot as plt\n",
    "import numpy as np\n",
    "\n",
    "def roc_curve_plot(y_test, pred_proba):\n",
    "    fprs, tprs, thresholds = roc_curve(y_test,pred_proba_class1)\n",
    "    \n",
    "    plt.plot(fprs, tprs, label='ROC')\n",
    "    plt.plot([0,1],[0,1], 'k--', label='Random')\n",
    "             \n",
    "    start, end = plt.xlim()\n",
    "    plt.xticks(np.round(np.arange(start, end, 0.1),2))\n",
    "    plt.xlim(0,1) \n",
    "    plt.ylim(0,1)\n",
    "    plt.xlabel('FBR(1-sesitivity)')\n",
    "    plt.ylabel('TPR(Recall)')\n",
    "    plt.legend()\n",
    "    plt.show()\n",
    "\n",
    "roc_curve_plot(y_test, pred_proba_class1)"
   ]
  },
  {
   "cell_type": "code",
   "execution_count": 11,
   "id": "e59ee0d5",
   "metadata": {
    "ExecuteTime": {
     "end_time": "2023-01-31T23:34:50.709099Z",
     "start_time": "2023-01-31T23:34:50.699748Z"
    }
   },
   "outputs": [
    {
     "name": "stdout",
     "output_type": "stream",
     "text": [
      "0.9887712702809656\n"
     ]
    }
   ],
   "source": [
    "from sklearn.metrics import roc_auc_score\n",
    "\n",
    "pred_proba = lr_clf.predict_proba(tt_df_test_1)[:,1]\n",
    "roc_score = roc_auc_score(y_test, pred_proba)\n",
    "print(roc_score)"
   ]
  },
  {
   "cell_type": "code",
   "execution_count": null,
   "id": "f940cbfb",
   "metadata": {},
   "outputs": [],
   "source": []
  }
 ],
 "metadata": {
  "kernelspec": {
   "display_name": "Python 3 (ipykernel)",
   "language": "python",
   "name": "python3"
  },
  "language_info": {
   "codemirror_mode": {
    "name": "ipython",
    "version": 3
   },
   "file_extension": ".py",
   "mimetype": "text/x-python",
   "name": "python",
   "nbconvert_exporter": "python",
   "pygments_lexer": "ipython3",
   "version": "3.11.1"
  },
  "toc": {
   "base_numbering": 1,
   "nav_menu": {},
   "number_sections": true,
   "sideBar": true,
   "skip_h1_title": false,
   "title_cell": "Table of Contents",
   "title_sidebar": "Contents",
   "toc_cell": false,
   "toc_position": {},
   "toc_section_display": true,
   "toc_window_display": false
  },
  "varInspector": {
   "cols": {
    "lenName": 16,
    "lenType": 16,
    "lenVar": 40
   },
   "kernels_config": {
    "python": {
     "delete_cmd_postfix": "",
     "delete_cmd_prefix": "del ",
     "library": "var_list.py",
     "varRefreshCmd": "print(var_dic_list())"
    },
    "r": {
     "delete_cmd_postfix": ") ",
     "delete_cmd_prefix": "rm(",
     "library": "var_list.r",
     "varRefreshCmd": "cat(var_dic_list()) "
    }
   },
   "types_to_exclude": [
    "module",
    "function",
    "builtin_function_or_method",
    "instance",
    "_Feature"
   ],
   "window_display": false
  }
 },
 "nbformat": 4,
 "nbformat_minor": 5
}
