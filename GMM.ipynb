{
 "cells": [
  {
   "cell_type": "markdown",
   "id": "8e57fb42",
   "metadata": {},
   "source": [
    "## sklearn.mixture.GaussianMixture\n",
    "\n",
    "* _class_ sklearn.mixture.GaussianMixture(_n_components=1_, _*_, _covariance_type='full'_, _tol=0.001_, _reg_covar=1e-06_, _max_iter=100_, _n_init=1_, _init_params='kmeans'_, _weights_init=None_, _means_init=None_, _precisions_init=None_, _random_state=None_, _warm_start=False_, _verbose=0_, _verbose_interval=10_)[[source]](https://github.com/scikit-learn/scikit-learn/blob/8c9c1f27b/sklearn/mixture/_gaussian_mixture.py#L457)[¶](https://scikit-learn.org/stable/modules/generated/sklearn.mixture.GaussianMixture.html#sklearn.mixture.GaussianMixture \"Permalink to this definition\")\n",
    "\n",
    "** Gaussian Mixture.\n",
    "\n",
    "Representation of a Gaussian mixture model probability distribution. This class allows to estimate the parameters of a Gaussian mixture distribution.\n",
    "\n",
    "Read more in the  [User Guide](https://scikit-learn.org/stable/modules/mixture.html#gmm)."
   ]
  },
  {
   "cell_type": "code",
   "execution_count": 5,
   "id": "a5bee5f5",
   "metadata": {
    "ExecuteTime": {
     "end_time": "2023-02-15T04:02:47.295472Z",
     "start_time": "2023-02-15T04:02:47.285748Z"
    }
   },
   "outputs": [],
   "source": [
    "from sklearn.datasets import load_iris\n",
    "from sklearn.cluster import KMeans\n",
    "\n",
    "import matplotlib.pyplot as plt\n",
    "import numpy as np\n",
    "import pandas as pd\n",
    "%matplotlib inline\n",
    "\n",
    "iris = load_iris()\n",
    "feature_names = ['sepal_length', 'sepal_width', 'petal_length', 'petal_width']\n",
    "\n",
    "# 보다 편리한 데이터 handling 위해 dataframe 으로 변환\n",
    "iris_df = pd.DataFrame(data=iris.data, columns=feature_names)\n",
    "iris_df['target'] = iris.target"
   ]
  },
  {
   "cell_type": "code",
   "execution_count": 6,
   "id": "047abf10",
   "metadata": {
    "ExecuteTime": {
     "end_time": "2023-02-15T04:02:48.987036Z",
     "start_time": "2023-02-15T04:02:48.959637Z"
    }
   },
   "outputs": [
    {
     "name": "stdout",
     "output_type": "stream",
     "text": [
      "target  gmm_cluster\n",
      "0       0              50\n",
      "1       2              45\n",
      "        1               5\n",
      "2       1              50\n",
      "Name: gmm_cluster, dtype: int64\n"
     ]
    }
   ],
   "source": [
    "from sklearn.mixture import GaussianMixture\n",
    "\n",
    "gmm = GaussianMixture(n_components=3, random_state=0).fit(iris.data)\n",
    "gmm_cluster_labels = gmm.predict(iris.data)\n",
    "\n",
    "# 클러스터링 결과를 iris_df의 'gmm_cluster' 컬럼명으로 저장\n",
    "\n",
    "iris_df['gmm_cluster'] = gmm_cluster_labels\n",
    "iris_df['target'] = iris.target\n",
    "\n",
    "# target 값에 따라 gmm_cluster 값이 어떻게 매핑되는지 확인\n",
    "\n",
    "iris_result = iris_df.groupby(['target'])['gmm_cluster'].value_counts()\n",
    "print(iris_result)"
   ]
  },
  {
   "cell_type": "markdown",
   "id": "2743b0c3",
   "metadata": {},
   "source": [
    "붓꽃 데이터 KMeans 군집화 결과"
   ]
  },
  {
   "cell_type": "code",
   "execution_count": 7,
   "id": "189040e5",
   "metadata": {
    "ExecuteTime": {
     "end_time": "2023-02-15T04:02:53.220122Z",
     "start_time": "2023-02-15T04:02:53.164843Z"
    }
   },
   "outputs": [
    {
     "name": "stdout",
     "output_type": "stream",
     "text": [
      "target  kmeans_cluster\n",
      "0       1                 50\n",
      "1       0                 48\n",
      "        2                  2\n",
      "2       2                 36\n",
      "        0                 14\n",
      "Name: kmeans_cluster, dtype: int64\n"
     ]
    },
    {
     "name": "stderr",
     "output_type": "stream",
     "text": [
      "C:\\Users\\seopa\\AppData\\Local\\Programs\\Python\\Python311\\Lib\\site-packages\\sklearn\\cluster\\_kmeans.py:870: FutureWarning: The default value of `n_init` will change from 10 to 'auto' in 1.4. Set the value of `n_init` explicitly to suppress the warning\n",
      "  warnings.warn(\n"
     ]
    }
   ],
   "source": [
    "kmeans = KMeans(n_clusters=3, init='k-means++', max_iter=300, random_state=0).fit(iris.data)\n",
    "kmeans_cluster_labels = kmeans.predict(iris.data)\n",
    "iris_df['kmeans_cluster'] = kmeans_cluster_labels\n",
    "iris_result = iris_df.groupby(['target'])['kmeans_cluster'].value_counts()\n",
    "print(iris_result)"
   ]
  },
  {
   "cell_type": "markdown",
   "id": "67886c12",
   "metadata": {},
   "source": [
    "Kmeans 와 GMM 비교"
   ]
  },
  {
   "cell_type": "code",
   "execution_count": 8,
   "id": "402bccd1",
   "metadata": {
    "ExecuteTime": {
     "end_time": "2023-02-15T04:02:56.620456Z",
     "start_time": "2023-02-15T04:02:56.610819Z"
    }
   },
   "outputs": [
    {
     "ename": "SyntaxError",
     "evalue": "unterminated string literal (detected at line 8) (1392822123.py, line 8)",
     "output_type": "error",
     "traceback": [
      "\u001b[1;36m  Cell \u001b[1;32mIn[8], line 8\u001b[1;36m\u001b[0m\n\u001b[1;33m    markers=['o, 's', '^', 'x', '*']\u001b[0m\n\u001b[1;37m                                  ^\u001b[0m\n\u001b[1;31mSyntaxError\u001b[0m\u001b[1;31m:\u001b[0m unterminated string literal (detected at line 8)\n"
     ]
    }
   ],
   "source": [
    "# 클러스터 결과를 담은 dataframe과 사이킷런의 cluster 객체등을 인자로 받아 클러스터링 결과를 시각화하는 함수\n",
    "\n",
    "def visualize_cluster_plot(clusterobj, dataframe, label_name, iscenter=True):\n",
    "    if iscenter:\n",
    "        centers = clusterobj.cluster_centers_\n",
    "    \n",
    "    unique_labels = np.unique(dataframe[label_name].values)\n",
    "    markers=['o, 's', '^', 'x', '*']\n",
    "    isNoise=False\n",
    "    \n",
    "    for label in unique_labels:\n",
    "             label_cluster = dataframe[dataframe[labe_name]==label]\n",
    "             if label == -1:\n",
    "                 cluster_legend = 'Noise'\n",
    "                 isNoise=True\n",
    "             else:\n",
    "                 cluster_legend = 'Cluster'+str(label)\n",
    "             \n",
    "             pit.scatter(x=label_cluster['ftr1'], y=label_cluster['ftr2'], s=70,\n",
    "                        edgecolor='k', marker=markers[label], label=cluster_legend)\n",
    "             \n",
    "             if iscenter:\n",
    "                 center_x_y = centers[label]\n",
    "                 plt.scatter(x=center_x_y[0], y=center_x_y[1]. s=250, color='white',\n",
    "                            alpha=0.9, edgecolor='k', marker=markers[label])\n",
    "                 plt.scatter(x=center_x_y[0], y=center_x_y[1]. s=70, color='k',\n",
    "                            edgecolor='k', marker='$%d$' % label)\n",
    "    if isNoise:\n",
    "             legend_loc='upper center'\n",
    "    else:\n",
    "             legend_loc='upper right'\n",
    "             \n",
    "    plt.legend(loc=legend_loc)\n",
    "    plt.show()\n",
    "             "
   ]
  },
  {
   "cell_type": "code",
   "execution_count": 9,
   "id": "73250b14",
   "metadata": {
    "ExecuteTime": {
     "end_time": "2023-02-15T04:04:20.333866Z",
     "start_time": "2023-02-15T04:04:20.316922Z"
    }
   },
   "outputs": [
    {
     "ename": "ImportError",
     "evalue": "cannot import name 'make_blods' from 'sklearn.datasets' (C:\\Users\\seopa\\AppData\\Local\\Programs\\Python\\Python311\\Lib\\site-packages\\sklearn\\datasets\\__init__.py)",
     "output_type": "error",
     "traceback": [
      "\u001b[1;31m---------------------------------------------------------------------------\u001b[0m",
      "\u001b[1;31mImportError\u001b[0m                               Traceback (most recent call last)",
      "Cell \u001b[1;32mIn[9], line 1\u001b[0m\n\u001b[1;32m----> 1\u001b[0m \u001b[38;5;28;01mfrom\u001b[39;00m \u001b[38;5;21;01msklearn\u001b[39;00m\u001b[38;5;21;01m.\u001b[39;00m\u001b[38;5;21;01mdatasets\u001b[39;00m \u001b[38;5;28;01mimport\u001b[39;00m make_blods\n\u001b[0;32m      3\u001b[0m \u001b[38;5;66;03m# make_blobs()로 300개의 데이터 셋, 3개의 cluster 셋, cluster_std=0.5를 만듬\u001b[39;00m\n\u001b[0;32m      4\u001b[0m X, y \u001b[38;5;241m=\u001b[39m make_blods(n_samples\u001b[38;5;241m=\u001b[39m\u001b[38;5;241m300\u001b[39m, n_feature\u001b[38;5;241m=\u001b[39m\u001b[38;5;241m2\u001b[39m, centers\u001b[38;5;241m=\u001b[39m\u001b[38;5;241m3\u001b[39m, cluster_std\u001b[38;5;241m=\u001b[39m\u001b[38;5;241m0.5\u001b[39m, random_state\u001b[38;5;241m=\u001b[39m\u001b[38;5;241m0\u001b[39m)\n",
      "\u001b[1;31mImportError\u001b[0m: cannot import name 'make_blods' from 'sklearn.datasets' (C:\\Users\\seopa\\AppData\\Local\\Programs\\Python\\Python311\\Lib\\site-packages\\sklearn\\datasets\\__init__.py)"
     ]
    }
   ],
   "source": [
    "from sklearn.datasets import make_blods\n",
    "\n",
    "# make_blobs()로 300개의 데이터 셋, 3개의 cluster 셋, cluster_std=0.5를 만듬\n",
    "X, y = make_blods(n_samples=300, n_feature=2, centers=3, cluster_std=0.5, random_state=0)\n",
    "\n",
    "# 길게 늘어난 타원형의 데이터 셋을 생성하기 위해 변환\n",
    "transformation = [[0.60834549, -0.63667341], [-0.40887718, 0.85253229]]\n",
    "X_aniso = np.dot(X, transformation)\n",
    "# feature 데이터 셋과 make_blods()의 y 결과 값을 Dataframe으로 저장\n",
    "cluster_df = pd.DataFrame(data=X_aniso, columns=['ftr1', 'ftr2'])\n",
    "cluster_df['target'] = y\n",
    "# 생성된 데이터 셋을 target 별로 다른 marker 로 표시하여 시각화 함\n",
    "visualize_cluster_plot(None, cluster_df, 'target', iscenter=False)"
   ]
  },
  {
   "cell_type": "code",
   "execution_count": null,
   "id": "962bb13f",
   "metadata": {},
   "outputs": [],
   "source": []
  }
 ],
 "metadata": {
  "kernelspec": {
   "display_name": "Python 3 (ipykernel)",
   "language": "python",
   "name": "python3"
  },
  "language_info": {
   "codemirror_mode": {
    "name": "ipython",
    "version": 3
   },
   "file_extension": ".py",
   "mimetype": "text/x-python",
   "name": "python",
   "nbconvert_exporter": "python",
   "pygments_lexer": "ipython3",
   "version": "3.11.1"
  },
  "toc": {
   "base_numbering": 1,
   "nav_menu": {},
   "number_sections": true,
   "sideBar": true,
   "skip_h1_title": false,
   "title_cell": "Table of Contents",
   "title_sidebar": "Contents",
   "toc_cell": false,
   "toc_position": {},
   "toc_section_display": true,
   "toc_window_display": false
  },
  "varInspector": {
   "cols": {
    "lenName": 16,
    "lenType": 16,
    "lenVar": 40
   },
   "kernels_config": {
    "python": {
     "delete_cmd_postfix": "",
     "delete_cmd_prefix": "del ",
     "library": "var_list.py",
     "varRefreshCmd": "print(var_dic_list())"
    },
    "r": {
     "delete_cmd_postfix": ") ",
     "delete_cmd_prefix": "rm(",
     "library": "var_list.r",
     "varRefreshCmd": "cat(var_dic_list()) "
    }
   },
   "types_to_exclude": [
    "module",
    "function",
    "builtin_function_or_method",
    "instance",
    "_Feature"
   ],
   "window_display": false
  }
 },
 "nbformat": 4,
 "nbformat_minor": 5
}
