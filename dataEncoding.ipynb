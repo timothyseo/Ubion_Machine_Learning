{
 "cells": [
  {
   "cell_type": "markdown",
   "id": "2504b767",
   "metadata": {},
   "source": [
    "### sklearn.preprocessing.LabelEncoder\n",
    "* _class_ sklearn.preprocessing.LabelEncoder[[source]](https://github.com/scikit-learn/scikit-learn/blob/f3f51f9b6/sklearn/preprocessing/_label.py#L35)[¶](https://scikit-learn.org/1.1/modules/generated/sklearn.preprocessing.LabelEncoder.html?highlight=label+enco#sklearn.preprocessing.LabelEncoder \"Permalink to this definition\")\n",
    "Encode target labels with value between 0 and n_classes-1.\n",
    "\n",
    "This transformer should be used to encode target values,  _i.e._  `y`, and not the input  `X`.\n",
    "\n",
    "Read more in the  [User Guide](https://scikit-learn.org/1.1/modules/preprocessing_targets.html#preprocessing-targets)."
   ]
  },
  {
   "cell_type": "code",
   "execution_count": 5,
   "id": "62829883",
   "metadata": {
    "ExecuteTime": {
     "end_time": "2023-01-30T01:58:33.640036Z",
     "start_time": "2023-01-30T01:58:33.631848Z"
    }
   },
   "outputs": [
    {
     "name": "stdout",
     "output_type": "stream",
     "text": [
      "인코딩 변화값: [0 1 4 5 3 3 2 2]\n",
      "인코딩 클래스: ['TV' '냉장고' '믹서' '선풍기' '전자렌지' '컴퓨터']\n",
      "디코딩 원본값: ['전자렌지' '컴퓨터' '믹서' 'TV' '냉장고' '냉장고' '선풍기' '선풍기']\n"
     ]
    }
   ],
   "source": [
    "from sklearn.preprocessing import LabelEncoder\n",
    "\n",
    "items = ['TV', '냉장고', '전자렌지', '컴퓨터', '선풍기', '선풍기', '믹서', '믹서']\n",
    "\n",
    "encoder = LabelEncoder()\n",
    "labels = encoder.fit_transform(items)\n",
    "\n",
    "print('인코딩 변화값:', labels)\n",
    "print('인코딩 클래스:', encoder.classes_)\n",
    "print('디코딩 원본값:', encoder.inverse_transform([4,5,2,0,1,1,3,3]))"
   ]
  },
  {
   "cell_type": "code",
   "execution_count": 2,
   "id": "177b7d7e",
   "metadata": {
    "ExecuteTime": {
     "end_time": "2023-01-30T01:55:04.501709Z",
     "start_time": "2023-01-30T01:55:04.492128Z"
    }
   },
   "outputs": [
    {
     "data": {
      "text/plain": [
       "array(['TV', '냉장고', '믹서', '선풍기', '전자렌지', '컴퓨터'], dtype='<U4')"
      ]
     },
     "execution_count": 2,
     "metadata": {},
     "output_type": "execute_result"
    }
   ],
   "source": [
    "encoder.classes_"
   ]
  },
  {
   "cell_type": "code",
   "execution_count": 6,
   "id": "f97a4c01",
   "metadata": {
    "ExecuteTime": {
     "end_time": "2023-01-30T01:58:51.074812Z",
     "start_time": "2023-01-30T01:58:51.066647Z"
    }
   },
   "outputs": [
    {
     "data": {
      "text/plain": [
       "array(['TV', '냉장고', '믹서', '선풍기', '전자렌지', '컴퓨터'], dtype='<U4')"
      ]
     },
     "execution_count": 6,
     "metadata": {},
     "output_type": "execute_result"
    }
   ],
   "source": [
    "encoder.inverse_transform([0,1,2,3,4,5])"
   ]
  },
  {
   "cell_type": "markdown",
   "id": "6703a4a1",
   "metadata": {},
   "source": [
    "### sklearn.preprocessing.OneHotEncoder\n",
    "* _class_ sklearn.preprocessing.OneHotEncoder(_*_, _categories='auto'_, _drop=None_, _sparse=True_, _dtype=<class  'numpy.float64'>_, _handle_unknown='error'_, _min_frequency=None_, _max_categories=None_)[[source]](https://github.com/scikit-learn/scikit-learn/blob/f3f51f9b6/sklearn/preprocessing/_encoders.py#L201)[¶](https://scikit-learn.org/1.1/modules/generated/sklearn.preprocessing.OneHotEncoder.html#sklearn.preprocessing.OneHotEncoder \"Permalink to this definition\")\n",
    "Encode categorical features as a one-hot numeric array.\n",
    "\n",
    "The input to this transformer should be an array-like of integers or strings, denoting the values taken on by categorical (discrete) features. The features are encoded using a one-hot (aka ‘one-of-K’ or ‘dummy’) encoding scheme. This creates a binary column for each category and returns a sparse matrix or dense array (depending on the  `sparse`  parameter)\n",
    "\n",
    "By default, the encoder derives the categories based on the unique values in each feature. Alternatively, you can also specify the  `categories`  manually.\n",
    "\n",
    "This encoding is needed for feeding categorical data to many scikit-learn estimators, notably linear models and SVMs with the standard kernels.\n",
    "\n",
    "Note: a one-hot encoding of y labels should use a LabelBinarizer instead.\n",
    "\n",
    "Read more in the  [User Guide](https://scikit-learn.org/1.1/modules/preprocessing.html#preprocessing-categorical-features)."
   ]
  },
  {
   "cell_type": "code",
   "execution_count": 8,
   "id": "96041b09",
   "metadata": {
    "ExecuteTime": {
     "end_time": "2023-01-30T02:16:36.682044Z",
     "start_time": "2023-01-30T02:16:36.672927Z"
    }
   },
   "outputs": [
    {
     "name": "stderr",
     "output_type": "stream",
     "text": [
      "C:\\Users\\seopa\\AppData\\Local\\Programs\\Python\\Python311\\Lib\\site-packages\\sklearn\\preprocessing\\_encoders.py:828: FutureWarning: `sparse` was renamed to `sparse_output` in version 1.2 and will be removed in 1.4. `sparse_output` is ignored unless you leave `sparse` to its default value.\n",
      "  warnings.warn(\n"
     ]
    },
    {
     "data": {
      "text/plain": [
       "[array(['a', 'd'], dtype=object)]"
      ]
     },
     "execution_count": 8,
     "metadata": {},
     "output_type": "execute_result"
    }
   ],
   "source": [
    "from sklearn.preprocessing import OneHotEncoder\n",
    "import numpy as np\n",
    "\n",
    "X = np.array([[\"a\"] * 5 + [\"b\"] * 20 + [\"c\"] * 10 + [\"d\"] * 3], dtype=object).T\n",
    "ohe = OneHotEncoder(max_categories=3, sparse=False).fit(X)\n",
    "ohe.infrequent_categories_"
   ]
  },
  {
   "cell_type": "code",
   "execution_count": 9,
   "id": "b982f5f9",
   "metadata": {
    "ExecuteTime": {
     "end_time": "2023-01-30T02:16:47.295539Z",
     "start_time": "2023-01-30T02:16:47.288247Z"
    }
   },
   "outputs": [
    {
     "data": {
      "text/plain": [
       "array([[0., 0., 1.],\n",
       "       [1., 0., 0.]])"
      ]
     },
     "execution_count": 9,
     "metadata": {},
     "output_type": "execute_result"
    }
   ],
   "source": [
    "ohe.transform([[\"a\"], [\"b\"]])"
   ]
  },
  {
   "cell_type": "code",
   "execution_count": 10,
   "id": "f5cb6f37",
   "metadata": {
    "ExecuteTime": {
     "end_time": "2023-01-30T02:19:03.407842Z",
     "start_time": "2023-01-30T02:19:03.400759Z"
    }
   },
   "outputs": [
    {
     "data": {
      "text/plain": [
       "<2x3 sparse matrix of type '<class 'numpy.float64'>'\n",
       "\twith 2 stored elements in Compressed Sparse Row format>"
      ]
     },
     "execution_count": 10,
     "metadata": {},
     "output_type": "execute_result"
    }
   ],
   "source": [
    "ohe_1 = OneHotEncoder(max_categories=3).fit(X)\n",
    "ohe_1.transform([[\"a\"], [\"b\"]])"
   ]
  },
  {
   "cell_type": "code",
   "execution_count": 13,
   "id": "8b9ddab6",
   "metadata": {
    "ExecuteTime": {
     "end_time": "2023-01-30T02:23:54.511380Z",
     "start_time": "2023-01-30T02:23:54.503128Z"
    },
    "scrolled": true
   },
   "outputs": [
    {
     "name": "stderr",
     "output_type": "stream",
     "text": [
      "C:\\Users\\seopa\\AppData\\Local\\Programs\\Python\\Python311\\Lib\\site-packages\\sklearn\\preprocessing\\_encoders.py:828: FutureWarning: `sparse` was renamed to `sparse_output` in version 1.2 and will be removed in 1.4. `sparse_output` is ignored unless you leave `sparse` to its default value.\n",
      "  warnings.warn(\n"
     ]
    },
    {
     "data": {
      "text/plain": [
       "array([[1., 0., 0., 0.],\n",
       "       [0., 1., 0., 0.],\n",
       "       [0., 0., 0., 0.]])"
      ]
     },
     "execution_count": 13,
     "metadata": {},
     "output_type": "execute_result"
    }
   ],
   "source": [
    "ohe_2 = OneHotEncoder(sparse=False, handle_unknown='ignore').fit(X)\n",
    "ohe_2.transform([[\"a\"], [\"b\"],[\"F\"]])"
   ]
  },
  {
   "cell_type": "code",
   "execution_count": 18,
   "id": "5dbffef7",
   "metadata": {
    "ExecuteTime": {
     "end_time": "2023-01-30T02:30:28.160335Z",
     "start_time": "2023-01-30T02:30:28.153034Z"
    }
   },
   "outputs": [
    {
     "data": {
      "text/plain": [
       "<8x6 sparse matrix of type '<class 'numpy.float64'>'\n",
       "\twith 8 stored elements in Compressed Sparse Row format>"
      ]
     },
     "execution_count": 18,
     "metadata": {},
     "output_type": "execute_result"
    }
   ],
   "source": [
    "from sklearn.preprocessing import OneHotEncoder\n",
    "import numpy as np\n",
    "\n",
    "items = np.array(['TV', '냉장고', '전자렌지', '컴퓨터', '선풍기', '선풍기', '믹서', '믹서'])\n",
    "\n",
    "items = items.reshape(-1,1)\n",
    "oh_encoder = OneHotEncoder()\n",
    "oh_encoder.fit(items)\n",
    "oh_labels = oh_encoder.transform(items)\n",
    "oh_labels\n",
    "# print('원 핫 인코딩 데이터')\n",
    "# print(oh_labels.toarrays())\n",
    "# print('원 핫 인코딩 데이터 차원')\n",
    "# print(oh_labels.shape)"
   ]
  },
  {
   "cell_type": "code",
   "execution_count": 19,
   "id": "774e7a87",
   "metadata": {
    "ExecuteTime": {
     "end_time": "2023-01-30T04:14:02.722116Z",
     "start_time": "2023-01-30T04:14:02.715794Z"
    }
   },
   "outputs": [
    {
     "name": "stderr",
     "output_type": "stream",
     "text": [
      "C:\\Users\\seopa\\AppData\\Local\\Programs\\Python\\Python311\\Lib\\site-packages\\sklearn\\preprocessing\\_encoders.py:828: FutureWarning: `sparse` was renamed to `sparse_output` in version 1.2 and will be removed in 1.4. `sparse_output` is ignored unless you leave `sparse` to its default value.\n",
      "  warnings.warn(\n"
     ]
    }
   ],
   "source": [
    "from sklearn.preprocessing import OneHotEncoder\n",
    "import numpy as np\n",
    "\n",
    "items = np.array(['TV', '냉장고', '전자렌지', '컴퓨터', '선풍기', '선풍기', '믹서', '믹서']).reshape(-1, 1)\n",
    "\n",
    "oh_encoder = OneHotEncoder(sparse=False)\n",
    "result = oh_encoder.fit_transform(items)"
   ]
  },
  {
   "cell_type": "code",
   "execution_count": 23,
   "id": "3583975b",
   "metadata": {
    "ExecuteTime": {
     "end_time": "2023-01-30T04:22:18.379285Z",
     "start_time": "2023-01-30T04:22:18.362304Z"
    }
   },
   "outputs": [
    {
     "data": {
      "text/html": [
       "<div>\n",
       "<style scoped>\n",
       "    .dataframe tbody tr th:only-of-type {\n",
       "        vertical-align: middle;\n",
       "    }\n",
       "\n",
       "    .dataframe tbody tr th {\n",
       "        vertical-align: top;\n",
       "    }\n",
       "\n",
       "    .dataframe thead th {\n",
       "        text-align: right;\n",
       "    }\n",
       "</style>\n",
       "<table border=\"1\" class=\"dataframe\">\n",
       "  <thead>\n",
       "    <tr style=\"text-align: right;\">\n",
       "      <th></th>\n",
       "      <th>TV</th>\n",
       "      <th>냉장고</th>\n",
       "      <th>전자렌지</th>\n",
       "      <th>컴퓨터</th>\n",
       "      <th>선풍기</th>\n",
       "      <th>믹서</th>\n",
       "    </tr>\n",
       "  </thead>\n",
       "  <tbody>\n",
       "    <tr>\n",
       "      <th>0</th>\n",
       "      <td>1.0</td>\n",
       "      <td>0.0</td>\n",
       "      <td>0.0</td>\n",
       "      <td>0.0</td>\n",
       "      <td>0.0</td>\n",
       "      <td>0.0</td>\n",
       "    </tr>\n",
       "    <tr>\n",
       "      <th>1</th>\n",
       "      <td>0.0</td>\n",
       "      <td>1.0</td>\n",
       "      <td>0.0</td>\n",
       "      <td>0.0</td>\n",
       "      <td>0.0</td>\n",
       "      <td>0.0</td>\n",
       "    </tr>\n",
       "    <tr>\n",
       "      <th>2</th>\n",
       "      <td>0.0</td>\n",
       "      <td>0.0</td>\n",
       "      <td>0.0</td>\n",
       "      <td>0.0</td>\n",
       "      <td>1.0</td>\n",
       "      <td>0.0</td>\n",
       "    </tr>\n",
       "    <tr>\n",
       "      <th>3</th>\n",
       "      <td>0.0</td>\n",
       "      <td>0.0</td>\n",
       "      <td>0.0</td>\n",
       "      <td>0.0</td>\n",
       "      <td>0.0</td>\n",
       "      <td>1.0</td>\n",
       "    </tr>\n",
       "    <tr>\n",
       "      <th>4</th>\n",
       "      <td>0.0</td>\n",
       "      <td>0.0</td>\n",
       "      <td>0.0</td>\n",
       "      <td>1.0</td>\n",
       "      <td>0.0</td>\n",
       "      <td>0.0</td>\n",
       "    </tr>\n",
       "    <tr>\n",
       "      <th>5</th>\n",
       "      <td>0.0</td>\n",
       "      <td>0.0</td>\n",
       "      <td>0.0</td>\n",
       "      <td>1.0</td>\n",
       "      <td>0.0</td>\n",
       "      <td>0.0</td>\n",
       "    </tr>\n",
       "    <tr>\n",
       "      <th>6</th>\n",
       "      <td>0.0</td>\n",
       "      <td>0.0</td>\n",
       "      <td>1.0</td>\n",
       "      <td>0.0</td>\n",
       "      <td>0.0</td>\n",
       "      <td>0.0</td>\n",
       "    </tr>\n",
       "    <tr>\n",
       "      <th>7</th>\n",
       "      <td>0.0</td>\n",
       "      <td>0.0</td>\n",
       "      <td>1.0</td>\n",
       "      <td>0.0</td>\n",
       "      <td>0.0</td>\n",
       "      <td>0.0</td>\n",
       "    </tr>\n",
       "  </tbody>\n",
       "</table>\n",
       "</div>"
      ],
      "text/plain": [
       "    TV  냉장고  전자렌지  컴퓨터  선풍기   믹서\n",
       "0  1.0  0.0   0.0  0.0  0.0  0.0\n",
       "1  0.0  1.0   0.0  0.0  0.0  0.0\n",
       "2  0.0  0.0   0.0  0.0  1.0  0.0\n",
       "3  0.0  0.0   0.0  0.0  0.0  1.0\n",
       "4  0.0  0.0   0.0  1.0  0.0  0.0\n",
       "5  0.0  0.0   0.0  1.0  0.0  0.0\n",
       "6  0.0  0.0   1.0  0.0  0.0  0.0\n",
       "7  0.0  0.0   1.0  0.0  0.0  0.0"
      ]
     },
     "execution_count": 23,
     "metadata": {},
     "output_type": "execute_result"
    }
   ],
   "source": [
    "import pandas as pd\n",
    "pd.DataFrame(result, columns = ['TV', '냉장고', '전자렌지', '컴퓨터', '선풍기', '믹서'])"
   ]
  },
  {
   "cell_type": "code",
   "execution_count": 26,
   "id": "a2035cc7",
   "metadata": {
    "ExecuteTime": {
     "end_time": "2023-01-30T04:32:32.992767Z",
     "start_time": "2023-01-30T04:32:32.986102Z"
    }
   },
   "outputs": [
    {
     "name": "stdout",
     "output_type": "stream",
     "text": [
      "원 핫 인코딩 데이터\n",
      "[[1. 0. 0. 0. 0. 0.]\n",
      " [0. 1. 0. 0. 0. 0.]\n",
      " [0. 0. 0. 0. 1. 0.]\n",
      " [0. 0. 0. 0. 0. 1.]\n",
      " [0. 0. 0. 1. 0. 0.]\n",
      " [0. 0. 0. 1. 0. 0.]\n",
      " [0. 0. 1. 0. 0. 0.]\n",
      " [0. 0. 1. 0. 0. 0.]]\n",
      "원 핫 인코딩 데이터 차원\n",
      "(8, 6)\n"
     ]
    }
   ],
   "source": [
    "from sklearn.preprocessing import OneHotEncoder\n",
    "import numpy as np\n",
    "\n",
    "items = np.array(['TV', '냉장고', '전자렌지', '컴퓨터', '선풍기', '선풍기', '믹서', '믹서'])\n",
    "\n",
    "encoder = LabelEncoder()\n",
    "labels = encoder.fit_transform(items)\n",
    "items = items.reshape(-1,1)\n",
    "\n",
    "oh_encoder = OneHotEncoder()\n",
    "oh_encoder.fit(items)\n",
    "oh_labels = oh_encoder.transform(items)\n",
    "\n",
    "print('원 핫 인코딩 데이터')\n",
    "print(oh_labels.toarray())\n",
    "print('원 핫 인코딩 데이터 차원')\n",
    "print(oh_labels.shape)"
   ]
  },
  {
   "cell_type": "code",
   "execution_count": null,
   "id": "5a8423f7",
   "metadata": {},
   "outputs": [],
   "source": []
  }
 ],
 "metadata": {
  "kernelspec": {
   "display_name": "Python 3 (ipykernel)",
   "language": "python",
   "name": "python3"
  },
  "language_info": {
   "codemirror_mode": {
    "name": "ipython",
    "version": 3
   },
   "file_extension": ".py",
   "mimetype": "text/x-python",
   "name": "python",
   "nbconvert_exporter": "python",
   "pygments_lexer": "ipython3",
   "version": "3.11.1"
  },
  "toc": {
   "base_numbering": 1,
   "nav_menu": {},
   "number_sections": true,
   "sideBar": true,
   "skip_h1_title": false,
   "title_cell": "Table of Contents",
   "title_sidebar": "Contents",
   "toc_cell": false,
   "toc_position": {},
   "toc_section_display": true,
   "toc_window_display": false
  },
  "varInspector": {
   "cols": {
    "lenName": 16,
    "lenType": 16,
    "lenVar": 40
   },
   "kernels_config": {
    "python": {
     "delete_cmd_postfix": "",
     "delete_cmd_prefix": "del ",
     "library": "var_list.py",
     "varRefreshCmd": "print(var_dic_list())"
    },
    "r": {
     "delete_cmd_postfix": ") ",
     "delete_cmd_prefix": "rm(",
     "library": "var_list.r",
     "varRefreshCmd": "cat(var_dic_list()) "
    }
   },
   "types_to_exclude": [
    "module",
    "function",
    "builtin_function_or_method",
    "instance",
    "_Feature"
   ],
   "window_display": false
  }
 },
 "nbformat": 4,
 "nbformat_minor": 5
}
