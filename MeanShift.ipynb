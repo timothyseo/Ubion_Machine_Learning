{
 "cells": [
  {
   "cell_type": "markdown",
   "id": "1b0f9409",
   "metadata": {},
   "source": [
    "## sklearn.cluster.MeanShift\n",
    "* _class_ sklearn.cluster.MeanShift(_*_,  _bandwidth=None_,  _seeds=None_,  _bin_seeding=False_,  _min_bin_freq=1_,  _cluster_all=True_,  _n_jobs=None_,  _max_iter=300_)[[source]](https://github.com/scikit-learn/scikit-learn/blob/8c9c1f27b/sklearn/cluster/_mean_shift.py#L263)[](https://scikit-learn.org/stable/modules/generated/sklearn.cluster.MeanShift.html#sklearn.cluster.MeanShift \"Permalink to this definition\")\n",
    "\n",
    "Mean shift clustering using a flat kernel.\n",
    "\n",
    "* \n",
    "Mean shift clustering using a flat kernel.\n",
    "\n",
    "Mean shift clustering aims to discover “blobs” in a smooth density of samples. It is a centroid-based algorithm, which works by updating candidates for centroids to be the mean of the points within a given region. These candidates are then filtered in a post-processing stage to eliminate near-duplicates to form the final set of centroids.\n",
    "\n",
    "Seeding is performed using a binning technique for scalability.\n",
    "\n",
    "Read more in the  [User Guide](https://scikit-learn.org/stable/modules/clustering.html#mean-shift)."
   ]
  },
  {
   "cell_type": "code",
   "execution_count": 1,
   "id": "3332cbc2",
   "metadata": {
    "ExecuteTime": {
     "end_time": "2023-02-15T01:13:19.476467Z",
     "start_time": "2023-02-15T01:13:10.872788Z"
    }
   },
   "outputs": [
    {
     "name": "stdout",
     "output_type": "stream",
     "text": [
      "cluster label 유형: [0 1 2 3 4 5]\n"
     ]
    }
   ],
   "source": [
    "import numpy as np\n",
    "from sklearn.datasets import make_blobs\n",
    "from sklearn.cluster import MeanShift\n",
    "\n",
    "X, y = make_blobs(n_samples=200, n_features=2, centers=3,\n",
    "                 cluster_std=0.7, random_state=0)\n",
    "\n",
    "meanshift = MeanShift(bandwidth=0.8)\n",
    "cluster_labels = meanshift.fit_predict(X)\n",
    "print('cluster label 유형:', np.unique(cluster_labels))"
   ]
  },
  {
   "cell_type": "code",
   "execution_count": 5,
   "id": "f31ebab6",
   "metadata": {
    "ExecuteTime": {
     "end_time": "2023-02-15T01:22:37.365183Z",
     "start_time": "2023-02-15T01:22:37.129243Z"
    }
   },
   "outputs": [
    {
     "name": "stdout",
     "output_type": "stream",
     "text": [
      "cluster label 유형: [0 1 2]\n"
     ]
    }
   ],
   "source": [
    "meanshift = MeanShift(bandwidth=1.865)\n",
    "cluster_labels = meanshift.fit_predict(X)\n",
    "print('cluster label 유형:', np.unique(cluster_labels))"
   ]
  },
  {
   "cell_type": "code",
   "execution_count": 2,
   "id": "b5817ac1",
   "metadata": {
    "ExecuteTime": {
     "end_time": "2023-02-15T01:13:59.014843Z",
     "start_time": "2023-02-15T01:13:58.549286Z"
    }
   },
   "outputs": [
    {
     "name": "stdout",
     "output_type": "stream",
     "text": [
      "cluster label 유형: [0 1 2]\n"
     ]
    }
   ],
   "source": [
    "meanshift = MeanShift(bandwidth=1)\n",
    "cluster_labels = meanshift.fit_predict(X)\n",
    "print('cluster label 유형:', np.unique(cluster_labels))"
   ]
  },
  {
   "cell_type": "markdown",
   "id": "119f6f4b",
   "metadata": {},
   "source": [
    "최적의 bandwidth 값을 estimate_bandwidth()로 계산한 뒤 다시 군집화 수행"
   ]
  },
  {
   "cell_type": "code",
   "execution_count": 3,
   "id": "23a64ff9",
   "metadata": {
    "ExecuteTime": {
     "end_time": "2023-02-15T01:16:01.183884Z",
     "start_time": "2023-02-15T01:16:01.175228Z"
    }
   },
   "outputs": [
    {
     "name": "stdout",
     "output_type": "stream",
     "text": [
      "bandwidth 값: 1.816\n"
     ]
    }
   ],
   "source": [
    "from sklearn.cluster import estimate_bandwidth\n",
    "\n",
    "bandwidth = estimate_bandwidth(X)\n",
    "\n",
    "print('bandwidth 값:', round(bandwidth, 3))"
   ]
  },
  {
   "cell_type": "code",
   "execution_count": 4,
   "id": "1c466ff4",
   "metadata": {
    "ExecuteTime": {
     "end_time": "2023-02-15T01:19:16.322296Z",
     "start_time": "2023-02-15T01:19:15.651651Z"
    }
   },
   "outputs": [
    {
     "name": "stdout",
     "output_type": "stream",
     "text": [
      "cluster labels 유형: [0 1 2]\n"
     ]
    }
   ],
   "source": [
    "import pandas as pd\n",
    "\n",
    "cluster_df = pd.DataFrame(data = X, columns = ['ftr1', 'ftr2'])\n",
    "cluster_df['target'] = y\n",
    "\n",
    "# estimate_bandwidth()로 최적의 bandwidth 계산\n",
    "best_bandwidth = estimate_bandwidth(X)\n",
    "\n",
    "meanshift = MeanShift(bandwidth=best_bandwidth)\n",
    "cluster_labels = meanshift.fit_predict(X)\n",
    "print('cluster labels 유형:', np.unique(cluster_labels))"
   ]
  },
  {
   "cell_type": "code",
   "execution_count": null,
   "id": "6efedb71",
   "metadata": {},
   "outputs": [],
   "source": []
  }
 ],
 "metadata": {
  "kernelspec": {
   "display_name": "Python 3 (ipykernel)",
   "language": "python",
   "name": "python3"
  },
  "language_info": {
   "codemirror_mode": {
    "name": "ipython",
    "version": 3
   },
   "file_extension": ".py",
   "mimetype": "text/x-python",
   "name": "python",
   "nbconvert_exporter": "python",
   "pygments_lexer": "ipython3",
   "version": "3.11.1"
  },
  "toc": {
   "base_numbering": 1,
   "nav_menu": {},
   "number_sections": true,
   "sideBar": true,
   "skip_h1_title": false,
   "title_cell": "Table of Contents",
   "title_sidebar": "Contents",
   "toc_cell": false,
   "toc_position": {},
   "toc_section_display": true,
   "toc_window_display": false
  },
  "varInspector": {
   "cols": {
    "lenName": 16,
    "lenType": 16,
    "lenVar": 40
   },
   "kernels_config": {
    "python": {
     "delete_cmd_postfix": "",
     "delete_cmd_prefix": "del ",
     "library": "var_list.py",
     "varRefreshCmd": "print(var_dic_list())"
    },
    "r": {
     "delete_cmd_postfix": ") ",
     "delete_cmd_prefix": "rm(",
     "library": "var_list.r",
     "varRefreshCmd": "cat(var_dic_list()) "
    }
   },
   "types_to_exclude": [
    "module",
    "function",
    "builtin_function_or_method",
    "instance",
    "_Feature"
   ],
   "window_display": false
  }
 },
 "nbformat": 4,
 "nbformat_minor": 5
}
