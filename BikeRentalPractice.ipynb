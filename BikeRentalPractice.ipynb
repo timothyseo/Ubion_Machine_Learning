{
 "cells": [
  {
   "cell_type": "code",
   "execution_count": 1,
   "id": "64c9e51c",
   "metadata": {
    "ExecuteTime": {
     "end_time": "2023-02-02T11:19:46.019142Z",
     "start_time": "2023-02-02T11:19:45.294730Z"
    }
   },
   "outputs": [
    {
     "data": {
      "text/html": [
       "<div>\n",
       "<style scoped>\n",
       "    .dataframe tbody tr th:only-of-type {\n",
       "        vertical-align: middle;\n",
       "    }\n",
       "\n",
       "    .dataframe tbody tr th {\n",
       "        vertical-align: top;\n",
       "    }\n",
       "\n",
       "    .dataframe thead th {\n",
       "        text-align: right;\n",
       "    }\n",
       "</style>\n",
       "<table border=\"1\" class=\"dataframe\">\n",
       "  <thead>\n",
       "    <tr style=\"text-align: right;\">\n",
       "      <th></th>\n",
       "      <th>datetime</th>\n",
       "      <th>season</th>\n",
       "      <th>holiday</th>\n",
       "      <th>workingday</th>\n",
       "      <th>weather</th>\n",
       "      <th>temp</th>\n",
       "      <th>atemp</th>\n",
       "      <th>humidity</th>\n",
       "      <th>windspeed</th>\n",
       "      <th>casual</th>\n",
       "      <th>registered</th>\n",
       "      <th>count</th>\n",
       "    </tr>\n",
       "  </thead>\n",
       "  <tbody>\n",
       "    <tr>\n",
       "      <th>0</th>\n",
       "      <td>2011-01-01 00:00:00</td>\n",
       "      <td>1</td>\n",
       "      <td>0</td>\n",
       "      <td>0</td>\n",
       "      <td>1</td>\n",
       "      <td>9.84</td>\n",
       "      <td>14.395</td>\n",
       "      <td>81</td>\n",
       "      <td>0.0</td>\n",
       "      <td>3</td>\n",
       "      <td>13</td>\n",
       "      <td>16</td>\n",
       "    </tr>\n",
       "  </tbody>\n",
       "</table>\n",
       "</div>"
      ],
      "text/plain": [
       "              datetime  season  holiday  workingday  weather  temp   atemp  \\\n",
       "0  2011-01-01 00:00:00       1        0           0        1  9.84  14.395   \n",
       "\n",
       "   humidity  windspeed  casual  registered  count  \n",
       "0        81        0.0       3          13     16  "
      ]
     },
     "execution_count": 1,
     "metadata": {},
     "output_type": "execute_result"
    }
   ],
   "source": [
    "import pandas as pd\n",
    "\n",
    "bike = pd.read_csv('./datasets/bikerental.csv')\n",
    "bike.head(1)"
   ]
  },
  {
   "cell_type": "code",
   "execution_count": 2,
   "id": "405b4c7a",
   "metadata": {
    "ExecuteTime": {
     "end_time": "2023-02-02T11:20:13.453885Z",
     "start_time": "2023-02-02T11:20:12.239954Z"
    }
   },
   "outputs": [],
   "source": [
    "from sklearn.model_selection import train_test_split\n",
    "\n",
    "X = bike[['season', 'holiday', 'workingday', 'weather', 'temp', 'atemp', 'humidity', 'windspeed']]\n",
    "y = bike['count']\n",
    "\n",
    "X_train, X_test, y_train, y_test = train_test_split(X, y, test_size=0.2,random_state=5)\n",
    "\n"
   ]
  },
  {
   "cell_type": "code",
   "execution_count": 3,
   "id": "32ed2759",
   "metadata": {
    "ExecuteTime": {
     "end_time": "2023-02-02T11:20:23.716944Z",
     "start_time": "2023-02-02T11:20:23.698251Z"
    }
   },
   "outputs": [],
   "source": [
    "from sklearn.preprocessing import StandardScaler\n",
    "\n",
    "std = StandardScaler()\n",
    "X_train = std.fit_transform(X_train)\n",
    "X_test = std.fit_transform(X_test)"
   ]
  },
  {
   "cell_type": "code",
   "execution_count": 5,
   "id": "68b60631",
   "metadata": {
    "ExecuteTime": {
     "end_time": "2023-02-02T11:21:35.601860Z",
     "start_time": "2023-02-02T11:21:28.128123Z"
    }
   },
   "outputs": [],
   "source": [
    "from sklearn.ensemble import RandomForestRegressor\n",
    "from sklearn.model_selection import GridSearchCV\n",
    "\n",
    "## 하이퍼파라미터 gridsearchcv\n",
    "param = {'max_depth':[6,8,10,12],\n",
    "        'n_estimators':[100],\n",
    "        'min_samples_leaf':[8,12,18],\n",
    "        'min_samples_split':[8,16,20]}\n",
    "\n",
    "rf_clf = RandomForestRegressor(random_state=156,n_jobs=-1)\n",
    "grid_cv = GridSearchCV(rf_clf,param_grid=param,cv=2,scoring='neg_mean_squared_error',n_jobs=-1)\n",
    "grid_cv.fit(X_train,y_train)\n",
    "best_dt = grid_cv.best_estimator_"
   ]
  },
  {
   "cell_type": "code",
   "execution_count": 8,
   "id": "1b526036",
   "metadata": {
    "ExecuteTime": {
     "end_time": "2023-02-02T11:24:00.978212Z",
     "start_time": "2023-02-02T11:23:22.768375Z"
    }
   },
   "outputs": [],
   "source": [
    "from sklearn.svm import SVR\n",
    "svr = SVR()\n",
    "pram = {'C':[1,10],\n",
    "       'epsilon':[0.1,0.2,0.3]}\n",
    "grid = GridSearchCV(svr,param_grid=pram,cv=2,scoring=\"neg_mean_squared_error\")\n",
    "grid.fit(X_train,y_train)\n",
    "best_regressor = grid.best_estimator_"
   ]
  },
  {
   "cell_type": "code",
   "execution_count": 9,
   "id": "6f8a3fa6",
   "metadata": {
    "ExecuteTime": {
     "end_time": "2023-02-02T11:24:14.435968Z",
     "start_time": "2023-02-02T11:24:11.745203Z"
    }
   },
   "outputs": [
    {
     "name": "stdout",
     "output_type": "stream",
     "text": [
      "랜덤포레스트 mse : 146.6044455482817\n",
      "SVM mse : 154.44089202227886\n"
     ]
    }
   ],
   "source": [
    "from sklearn.metrics import mean_squared_error\n",
    "\n",
    "results_dt = best_dt.predict(X_test)\n",
    "results_svr = best_regressor.predict(X_test)\n",
    "\n",
    "print(f'랜덤포레스트 mse : {mean_squared_error(y_test, results_dt, squared=False)}')\n",
    "print(f'SVM mse : {mean_squared_error(y_test, results_svr, squared=False)}')"
   ]
  },
  {
   "cell_type": "code",
   "execution_count": 10,
   "id": "a9ef090f",
   "metadata": {
    "ExecuteTime": {
     "end_time": "2023-02-02T11:24:23.718736Z",
     "start_time": "2023-02-02T11:24:23.707620Z"
    }
   },
   "outputs": [
    {
     "data": {
      "text/plain": [
       "array([[ 3.],\n",
       "       [ 0.],\n",
       "       [ 1.],\n",
       "       [ 3.],\n",
       "       [ 3.],\n",
       "       [ 2.],\n",
       "       [93.],\n",
       "       [ 6.]])"
      ]
     },
     "execution_count": 10,
     "metadata": {},
     "output_type": "execute_result"
    }
   ],
   "source": [
    "import numpy as np\n",
    "data = np.array([3.0 ,  0  ,  1,  3, 3.0 ,2.0 , 93.0 , 6.0]).reshape(-1,1)\n",
    "data"
   ]
  },
  {
   "cell_type": "code",
   "execution_count": 11,
   "id": "2772b211",
   "metadata": {
    "ExecuteTime": {
     "end_time": "2023-02-02T11:24:26.743805Z",
     "start_time": "2023-02-02T11:24:26.695515Z"
    }
   },
   "outputs": [
    {
     "data": {
      "text/plain": [
       "array([218.65292564])"
      ]
     },
     "execution_count": 11,
     "metadata": {},
     "output_type": "execute_result"
    }
   ],
   "source": [
    "best_dt.predict(np.array([[3.0 ,  0  ,  1,  3, 3.0 ,2.0 , 93.0 , 6.0]]))"
   ]
  },
  {
   "cell_type": "code",
   "execution_count": null,
   "id": "a58b0757",
   "metadata": {},
   "outputs": [],
   "source": []
  }
 ],
 "metadata": {
  "kernelspec": {
   "display_name": "Python 3 (ipykernel)",
   "language": "python",
   "name": "python3"
  },
  "language_info": {
   "codemirror_mode": {
    "name": "ipython",
    "version": 3
   },
   "file_extension": ".py",
   "mimetype": "text/x-python",
   "name": "python",
   "nbconvert_exporter": "python",
   "pygments_lexer": "ipython3",
   "version": "3.11.1"
  },
  "toc": {
   "base_numbering": 1,
   "nav_menu": {},
   "number_sections": true,
   "sideBar": true,
   "skip_h1_title": false,
   "title_cell": "Table of Contents",
   "title_sidebar": "Contents",
   "toc_cell": false,
   "toc_position": {},
   "toc_section_display": true,
   "toc_window_display": false
  },
  "varInspector": {
   "cols": {
    "lenName": 16,
    "lenType": 16,
    "lenVar": 40
   },
   "kernels_config": {
    "python": {
     "delete_cmd_postfix": "",
     "delete_cmd_prefix": "del ",
     "library": "var_list.py",
     "varRefreshCmd": "print(var_dic_list())"
    },
    "r": {
     "delete_cmd_postfix": ") ",
     "delete_cmd_prefix": "rm(",
     "library": "var_list.r",
     "varRefreshCmd": "cat(var_dic_list()) "
    }
   },
   "types_to_exclude": [
    "module",
    "function",
    "builtin_function_or_method",
    "instance",
    "_Feature"
   ],
   "window_display": false
  }
 },
 "nbformat": 4,
 "nbformat_minor": 5
}
