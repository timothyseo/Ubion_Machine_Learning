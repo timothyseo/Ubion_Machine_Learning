{
 "cells": [
  {
   "cell_type": "code",
   "execution_count": 48,
   "id": "d5a1774f",
   "metadata": {
    "ExecuteTime": {
     "end_time": "2023-02-09T02:20:18.165455Z",
     "start_time": "2023-02-09T02:20:18.158079Z"
    }
   },
   "outputs": [],
   "source": [
    "from sklearn.linear_model import ElasticNet,Ridge,Lasso\n",
    "\n",
    "def get_linear_reg_eval(model_name,params =None,x_data_n=None,y_target_n=None,verbose=True):\n",
    "    coeff_df = pd.DataFrame()\n",
    "    if verbose : print('######',model_name,'######')\n",
    "    for param in params:\n",
    "        if model_name =='Ridge' :\n",
    "            model = Ridge(alpha=param)\n",
    "        elif model_name =='Lasso' :\n",
    "            model = Lasso(alpha=param)\n",
    "        elif model_name =='ElasticNet' :\n",
    "            model = ElasticNet(alpha=param,l1_ratio=0.7) \n",
    "        neg_mse_scores = cross_val_score(model,x_data_n,y_target_n,scoring='neg_mean_squared_error',cv=5)\n",
    "        avg_rmse = np.mean(np.sqrt(-1*neg_mse_scores))\n",
    "        print(f'alpha {param} 일 때 5폴드 세트의 평균 RMSE: {avg_rmse}')\n",
    "        \n",
    "        model.fit(x_data_n,y_target_n)\n",
    "        coeff = pd.Series(data=model.coef_,index=x_data_n.columns)\n",
    "        colname = 'alpha'+str(param)\n",
    "        coeff_df[colname] =coeff\n",
    "    return coeff_df"
   ]
  },
  {
   "cell_type": "code",
   "execution_count": 49,
   "id": "e22e646e",
   "metadata": {
    "ExecuteTime": {
     "end_time": "2023-02-09T02:20:19.259754Z",
     "start_time": "2023-02-09T02:20:18.877288Z"
    }
   },
   "outputs": [
    {
     "name": "stdout",
     "output_type": "stream",
     "text": [
      "## 변환유형,None,polynomial_degree,None\n",
      "alpha 0.1 일 때 5폴드 세트의 평균 RMSE: 5.788486627032413\n",
      "alpha 1 일 때 5폴드 세트의 평균 RMSE: 5.652570965613547\n",
      "alpha 10 일 때 5폴드 세트의 평균 RMSE: 5.518166280868973\n",
      "alpha 100 일 때 5폴드 세트의 평균 RMSE: 5.329589628472148\n",
      "## 변환유형,Standard,polynomial_degree,None\n",
      "alpha 0.1 일 때 5폴드 세트의 평균 RMSE: 5.825992799389444\n",
      "alpha 1 일 때 5폴드 세트의 평균 RMSE: 5.802889517257739\n",
      "alpha 10 일 때 5폴드 세트의 평균 RMSE: 5.636831222559071\n",
      "alpha 100 일 때 5폴드 세트의 평균 RMSE: 5.421374711794966\n",
      "## 변환유형,Standard,polynomial_degree,2\n",
      "alpha 0.1 일 때 5폴드 세트의 평균 RMSE: 8.82723587300578\n",
      "alpha 1 일 때 5폴드 세트의 평균 RMSE: 6.871287525963078\n",
      "alpha 10 일 때 5폴드 세트의 평균 RMSE: 5.484870425533397\n",
      "alpha 100 일 때 5폴드 세트의 평균 RMSE: 4.634437778261924\n",
      "## 변환유형,MinMax,polynomial_degree,None\n",
      "alpha 0.1 일 때 5폴드 세트의 평균 RMSE: 5.76357022528831\n",
      "alpha 1 일 때 5폴드 세트의 평균 RMSE: 5.465045081564942\n",
      "alpha 10 일 때 5폴드 세트의 평균 RMSE: 5.754163637679423\n",
      "alpha 100 일 때 5폴드 세트의 평균 RMSE: 7.634919863623539\n",
      "## 변환유형,MinMax,polynomial_degree,2\n",
      "alpha 0.1 일 때 5폴드 세트의 평균 RMSE: 5.297560003126914\n",
      "alpha 1 일 때 5폴드 세트의 평균 RMSE: 4.322660371524889\n",
      "alpha 10 일 때 5폴드 세트의 평균 RMSE: 5.1852042575805335\n",
      "alpha 100 일 때 5폴드 세트의 평균 RMSE: 6.5378668897043655\n",
      "## 변환유형,Log,polynomial_degree,None\n",
      "alpha 0.1 일 때 5폴드 세트의 평균 RMSE: 4.770429614681661\n",
      "alpha 1 일 때 5폴드 세트의 평균 RMSE: 4.676227018966876\n",
      "alpha 10 일 때 5폴드 세트의 평균 RMSE: 4.836439992635266\n",
      "alpha 100 일 때 5폴드 세트의 평균 RMSE: 6.2409162327190355\n"
     ]
    }
   ],
   "source": [
    "# 데이터 전처리(정규변환,로그변환)을 해주는 함수 정의\n",
    "\n",
    "from sklearn.preprocessing import StandardScaler,MinMaxScaler,PolynomialFeatures\n",
    "import numpy as np\n",
    "import pandas as pd\n",
    "\n",
    "boston_df = pd.read_csv('./datasets/Boston.csv',index_col=0)\n",
    "\n",
    "x = boston_df.drop(['medv'],axis=1)\n",
    "y = boston_df['medv']\n",
    "\n",
    "\n",
    "# method는 표준 정규 분포 변환(Standard),최대/최소 정규화(MinMax), 로그변환(log)결정\n",
    "# p_degree 는 다항식 특성을 추가할 때 적용 , p_degree는 2이상 부여하지 않음\n",
    "def get_scaled_data(method = 'None',p_degree=None,input_data=None):\n",
    "    if method =='Standard':\n",
    "        scaled_data = StandardScaler().fit_transform(input_data)\n",
    "    elif method =='MinMax':\n",
    "        scaled_data = MinMaxScaler().fit_transform(input_data)\n",
    "    elif method =='Log':\n",
    "        scaled_data =np.log1p(input_data)\n",
    "    else :\n",
    "        scaled_data = input_data\n",
    "        \n",
    "    \n",
    "    if p_degree != None:\n",
    "        scaled_data = PolynomialFeatures(degree=p_degree,include_bias=False).fit_transform(scaled_data)\n",
    "        \n",
    "    return scaled_data\n",
    "\n",
    "from sklearn.linear_model import ElasticNet,Ridge,Lasso\n",
    "from sklearn.model_selection import cross_val_score\n",
    "\n",
    "def get_linear_reg_eval(model_name,params =None,x_data_n=None,y_target_n=None,verbose=True):\n",
    "    coeff_df = pd.DataFrame()\n",
    "    if verbose : print('######',model_name,'######')\n",
    "    for param in params:\n",
    "        if model_name =='Ridge' :\n",
    "            model = Ridge(alpha=param)\n",
    "        elif model_name =='Lasso' :\n",
    "            model = Lasso(alpha=param)\n",
    "        elif model_name =='ElasticNet' :\n",
    "            model = ElasticNet(alpha=param,l1_ratio=0.7) \n",
    "        neg_mse_scores = cross_val_score(model,x_data_n,y_target_n,scoring='neg_mean_squared_error',cv=5)\n",
    "        avg_rmse = np.mean(np.sqrt(-1*neg_mse_scores))\n",
    "        print(f'alpha {param} 일 때 5폴드 세트의 평균 RMSE: {avg_rmse}')\n",
    "# Ridge의 alpha 값을 다르게 적용하고 다양한 데이터 변환방법에 따른 rmse 추출\n",
    "alpha = [0.1,1,10,100]\n",
    "\n",
    "# 변환 방법\n",
    "scale_methods = [(None,None),('Standard',None),('Standard',2),\n",
    "               ('MinMax',None),('MinMax',2),('Log',None)]\n",
    "\n",
    "for scale_method in scale_methods:\n",
    "    x_data_scaled = get_scaled_data(method=scale_method[0],p_degree=scale_method[1],input_data=x)\n",
    "    print(f'## 변환유형,{scale_method[0]},polynomial_degree,{scale_method[1]}')\n",
    "    \n",
    "    get_linear_reg_eval('Ridge',params=alpha,x_data_n=x_data_scaled,\n",
    "                       y_target_n=y,verbose=False)"
   ]
  },
  {
   "cell_type": "code",
   "execution_count": null,
   "id": "28cc33d7",
   "metadata": {},
   "outputs": [],
   "source": []
  }
 ],
 "metadata": {
  "kernelspec": {
   "display_name": "Python 3 (ipykernel)",
   "language": "python",
   "name": "python3"
  },
  "language_info": {
   "codemirror_mode": {
    "name": "ipython",
    "version": 3
   },
   "file_extension": ".py",
   "mimetype": "text/x-python",
   "name": "python",
   "nbconvert_exporter": "python",
   "pygments_lexer": "ipython3",
   "version": "3.11.1"
  },
  "toc": {
   "base_numbering": 1,
   "nav_menu": {},
   "number_sections": true,
   "sideBar": true,
   "skip_h1_title": false,
   "title_cell": "Table of Contents",
   "title_sidebar": "Contents",
   "toc_cell": false,
   "toc_position": {},
   "toc_section_display": true,
   "toc_window_display": false
  },
  "varInspector": {
   "cols": {
    "lenName": 16,
    "lenType": 16,
    "lenVar": 40
   },
   "kernels_config": {
    "python": {
     "delete_cmd_postfix": "",
     "delete_cmd_prefix": "del ",
     "library": "var_list.py",
     "varRefreshCmd": "print(var_dic_list())"
    },
    "r": {
     "delete_cmd_postfix": ") ",
     "delete_cmd_prefix": "rm(",
     "library": "var_list.r",
     "varRefreshCmd": "cat(var_dic_list()) "
    }
   },
   "types_to_exclude": [
    "module",
    "function",
    "builtin_function_or_method",
    "instance",
    "_Feature"
   ],
   "window_display": false
  }
 },
 "nbformat": 4,
 "nbformat_minor": 5
}
